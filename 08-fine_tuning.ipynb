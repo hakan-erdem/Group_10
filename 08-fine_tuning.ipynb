{
 "cells": [
  {
   "cell_type": "code",
   "execution_count": 1,
   "metadata": {
    "application/vnd.databricks.v1+cell": {
     "cellMetadata": {
      "byteLimit": 2048000,
      "rowLimit": 10000
     },
     "inputWidgets": {},
     "nuid": "4b195336-d8d5-4dc6-9024-2d4e9cdfb273",
     "showTitle": false,
     "title": ""
    }
   },
   "outputs": [],
   "source": [
    "import numpy as np\n",
    "import pandas as pd\n",
    "import matplotlib.pyplot as plt\n",
    "import seaborn as sns\n",
    "import joblib\n",
    "import pickle\n",
    "\n",
    "from tqdm import tqdm\n",
    "import regex as re\n",
    "\n",
    "from sklearn.preprocessing import MinMaxScaler\n",
    "from sklearn.model_selection import train_test_split, GridSearchCV\n",
    "from sklearn.metrics import mean_squared_error, mean_absolute_percentage_error, r2_score, make_scorer\n",
    "\n",
    "from sklearn.linear_model import ElasticNetCV, ElasticNet\n",
    "from sklearn.neighbors import KNeighborsRegressor\n",
    "from sklearn.tree import DecisionTreeRegressor\n",
    "from sklearn.ensemble import RandomForestRegressor, AdaBoostRegressor\n",
    "from sklearn.svm import SVR\n",
    "from xgboost import XGBRegressor, Booster"
   ]
  },
  {
   "cell_type": "markdown",
   "metadata": {
    "application/vnd.databricks.v1+cell": {
     "cellMetadata": {
      "byteLimit": 2048000,
      "rowLimit": 10000
     },
     "inputWidgets": {},
     "nuid": "caa64fb2-6569-4c01-b87b-5ae4dd9c8521",
     "showTitle": false,
     "title": ""
    }
   },
   "source": [
    "# TODO\n",
    "\n",
    "- Fine tune models"
   ]
  },
  {
   "cell_type": "code",
   "execution_count": 23,
   "metadata": {},
   "outputs": [
    {
     "name": "stdout",
     "output_type": "stream",
     "text": [
      "Requirement already satisfied: scikit-learn==1.1.1 in c:\\users\\erdem\\anaconda3\\lib\\site-packages (1.1.1)\n",
      "Requirement already satisfied: joblib>=1.0.0 in c:\\users\\erdem\\anaconda3\\lib\\site-packages (from scikit-learn==1.1.1) (1.3.2)\n",
      "Requirement already satisfied: threadpoolctl>=2.0.0 in c:\\users\\erdem\\anaconda3\\lib\\site-packages (from scikit-learn==1.1.1) (3.2.0)\n",
      "Requirement already satisfied: numpy>=1.17.3 in c:\\users\\erdem\\anaconda3\\lib\\site-packages (from scikit-learn==1.1.1) (1.22.4)\n",
      "Requirement already satisfied: scipy>=1.3.2 in c:\\users\\erdem\\anaconda3\\lib\\site-packages (from scikit-learn==1.1.1) (1.11.4)\n",
      "Collecting xgboost==1.7.6\n",
      "  Downloading xgboost-1.7.6-py3-none-win_amd64.whl (70.9 MB)\n",
      "Requirement already satisfied: scipy in c:\\users\\erdem\\anaconda3\\lib\\site-packages (from xgboost==1.7.6) (1.11.4)\n",
      "Requirement already satisfied: numpy in c:\\users\\erdem\\anaconda3\\lib\\site-packages (from xgboost==1.7.6) (1.22.4)\n",
      "Installing collected packages: xgboost\n",
      "  Attempting uninstall: xgboost\n",
      "    Found existing installation: xgboost 2.0.0\n",
      "    Uninstalling xgboost-2.0.0:\n",
      "      Successfully uninstalled xgboost-2.0.0\n"
     ]
    },
    {
     "name": "stderr",
     "output_type": "stream",
     "text": [
      "ERROR: Could not install packages due to an OSError: [WinError 5] Access is denied: 'C:\\\\Users\\\\erdem\\\\anaconda3\\\\Lib\\\\site-packages\\\\~gboost\\\\lib\\\\xgboost.dll'\n",
      "Consider using the `--user` option or check the permissions.\n",
      "\n"
     ]
    }
   ],
   "source": [
    "# due to some version issues from the platform that I tuned the models\n",
    "# !pip install scikit-learn==1.1.1\n",
    "# !pip install xgboost==1.7.6"
   ]
  },
  {
   "cell_type": "code",
   "execution_count": 2,
   "metadata": {
    "application/vnd.databricks.v1+cell": {
     "cellMetadata": {
      "byteLimit": 2048000,
      "rowLimit": 10000
     },
     "inputWidgets": {},
     "nuid": "31f547ca-0666-430e-b851-7c596a50fc09",
     "showTitle": false,
     "title": ""
    }
   },
   "outputs": [
    {
     "name": "stdout",
     "output_type": "stream",
     "text": [
      "Shape of the train set: (156544, 18) (156544,)\n",
      "Shape of the test set: (39136, 18) (39136,)\n"
     ]
    },
    {
     "name": "stderr",
     "output_type": "stream",
     "text": [
      "C:\\Users\\erdem\\anaconda3\\lib\\site-packages\\sklearn\\utils\\validation.py:757: FutureWarning: is_sparse is deprecated and will be removed in a future version. Check `isinstance(dtype, pd.SparseDtype)` instead.\n",
      "  if not hasattr(array, \"sparse\") and array.dtypes.apply(is_sparse).any():\n",
      "C:\\Users\\erdem\\anaconda3\\lib\\site-packages\\sklearn\\utils\\validation.py:595: FutureWarning: is_sparse is deprecated and will be removed in a future version. Check `isinstance(dtype, pd.SparseDtype)` instead.\n",
      "  if is_sparse(pd_dtype):\n",
      "C:\\Users\\erdem\\anaconda3\\lib\\site-packages\\sklearn\\utils\\validation.py:604: FutureWarning: is_sparse is deprecated and will be removed in a future version. Check `isinstance(dtype, pd.SparseDtype)` instead.\n",
      "  if is_sparse(pd_dtype) or not is_extension_array_dtype(pd_dtype):\n",
      "C:\\Users\\erdem\\anaconda3\\lib\\site-packages\\sklearn\\utils\\validation.py:757: FutureWarning: is_sparse is deprecated and will be removed in a future version. Check `isinstance(dtype, pd.SparseDtype)` instead.\n",
      "  if not hasattr(array, \"sparse\") and array.dtypes.apply(is_sparse).any():\n",
      "C:\\Users\\erdem\\anaconda3\\lib\\site-packages\\sklearn\\utils\\validation.py:595: FutureWarning: is_sparse is deprecated and will be removed in a future version. Check `isinstance(dtype, pd.SparseDtype)` instead.\n",
      "  if is_sparse(pd_dtype):\n",
      "C:\\Users\\erdem\\anaconda3\\lib\\site-packages\\sklearn\\utils\\validation.py:604: FutureWarning: is_sparse is deprecated and will be removed in a future version. Check `isinstance(dtype, pd.SparseDtype)` instead.\n",
      "  if is_sparse(pd_dtype) or not is_extension_array_dtype(pd_dtype):\n",
      "C:\\Users\\erdem\\anaconda3\\lib\\site-packages\\sklearn\\utils\\validation.py:757: FutureWarning: is_sparse is deprecated and will be removed in a future version. Check `isinstance(dtype, pd.SparseDtype)` instead.\n",
      "  if not hasattr(array, \"sparse\") and array.dtypes.apply(is_sparse).any():\n",
      "C:\\Users\\erdem\\anaconda3\\lib\\site-packages\\sklearn\\utils\\validation.py:595: FutureWarning: is_sparse is deprecated and will be removed in a future version. Check `isinstance(dtype, pd.SparseDtype)` instead.\n",
      "  if is_sparse(pd_dtype):\n",
      "C:\\Users\\erdem\\anaconda3\\lib\\site-packages\\sklearn\\utils\\validation.py:604: FutureWarning: is_sparse is deprecated and will be removed in a future version. Check `isinstance(dtype, pd.SparseDtype)` instead.\n",
      "  if is_sparse(pd_dtype) or not is_extension_array_dtype(pd_dtype):\n"
     ]
    }
   ],
   "source": [
    "train = pd.read_csv(\"datasets/main_ordinal_updated_train.csv\")\n",
    "test = pd.read_csv(\"datasets/main_ordinal_updated_test.csv\")\n",
    "# these were used in the platform that I fine-tuned the models\n",
    "# train = pd.read_csv(\"/dbfs/FileStore/hakan/main_ordinal_updated_train.csv\")\n",
    "# test = pd.read_csv(\"/dbfs/FileStore/hakan/main_ordinal_updated_test.csv\")\n",
    "\n",
    "X_train = train.drop(columns=[\"price\"])\n",
    "X_test = test.drop(columns=[\"price\"])\n",
    "\n",
    "y_train = train[\"price\"]\n",
    "y_test = test[\"price\"]\n",
    "\n",
    "scaler = MinMaxScaler()\n",
    "scaler.fit(X_train)\n",
    "X_train = scaler.transform(X_train)\n",
    "X_test = scaler.transform(X_test)\n",
    "\n",
    "print(f\"Shape of the train set: {X_train.shape} {y_train.shape}\")\n",
    "print(f\"Shape of the test set: {X_test.shape} {y_test.shape}\")"
   ]
  },
  {
   "cell_type": "code",
   "execution_count": 3,
   "metadata": {
    "application/vnd.databricks.v1+cell": {
     "cellMetadata": {
      "byteLimit": 2048000,
      "rowLimit": 10000
     },
     "inputWidgets": {},
     "nuid": "36b5c7c9-50b3-440a-b38b-8acab5797250",
     "showTitle": false,
     "title": ""
    }
   },
   "outputs": [],
   "source": [
    "def fine_tune(model, params, model_name, X_train, X_test, y_train, y_test, v=1):\n",
    "    \n",
    "    if model_name == \"svr\":\n",
    "        grid_search = GridSearchCV(model, params, cv=2, scoring=\"neg_mean_squared_error\", verbose=v)\n",
    "    \n",
    "    else:\n",
    "        grid_search = GridSearchCV(model, params, scoring=\"neg_mean_squared_error\", verbose=v)\n",
    "    \n",
    "    grid_search.fit(X_train, y_train)\n",
    "    \n",
    "    return grid_search.best_estimator_"
   ]
  },
  {
   "cell_type": "code",
   "execution_count": 4,
   "metadata": {
    "application/vnd.databricks.v1+cell": {
     "cellMetadata": {
      "byteLimit": 2048000,
      "rowLimit": 10000
     },
     "inputWidgets": {},
     "nuid": "dda6311b-5e85-4228-91e8-3e8022deb39f",
     "showTitle": false,
     "title": ""
    }
   },
   "outputs": [],
   "source": [
    "models = [\n",
    "    ElasticNet(),\n",
    "    SVR(verbose=True),\n",
    "    KNeighborsRegressor(),\n",
    "    DecisionTreeRegressor(),\n",
    "    RandomForestRegressor(),\n",
    "    AdaBoostRegressor()\n",
    "]\n",
    "\n",
    "param_grids = {\n",
    "    \"elastic\" : {\n",
    "        'alpha': [0.1, 1.0, 3.0],\n",
    "        'l1_ratio': [0.1, 0.5, 0.7, 0.9],\n",
    "        'max_iter': [1000, 3000, 5000]\n",
    "    },\n",
    "    \"svr\" : {\n",
    "        'kernel': ['linear', 'rbf', 'poly'],\n",
    "        'C': [0.1, 1, 3]\n",
    "    },\n",
    "    \"knn\" : {\n",
    "        'n_neighbors': [20, 30, 40, 50, 60, 70, 80]\n",
    "    },\n",
    "    \"tree\" : {\n",
    "        'max_depth': [None, 5, 10, 15],\n",
    "        'min_samples_split': [2, 3, 5],\n",
    "        'min_samples_leaf': [1, 2, 4]\n",
    "    },\n",
    "    \"rf\" : {\n",
    "        'n_estimators': [50, 100, 150, 200,],\n",
    "        'max_depth': [None, 3, 5],\n",
    "        'max_features':[3,5,7,9]\n",
    "    },\n",
    "    \"ada\" : {\n",
    "        \"n_estimators\":[30, 40, 50, 60, 70],\n",
    "        \"learning_rate\":[0.1, 0.3, 1, 2, 3]\n",
    "    }\n",
    "}"
   ]
  },
  {
   "cell_type": "code",
   "execution_count": 0,
   "metadata": {
    "application/vnd.databricks.v1+cell": {
     "cellMetadata": {
      "byteLimit": 2048000,
      "rowLimit": 10000
     },
     "inputWidgets": {},
     "nuid": "6a50ba17-f8e1-48b0-b52e-25afc437e327",
     "showTitle": false,
     "title": ""
    }
   },
   "outputs": [
    {
     "name": "stdout",
     "output_type": "stream",
     "text": [
      "ELASTIC started:\n",
      "Fitting 5 folds for each of 36 candidates, totalling 180 fits\n",
      "SVR started:\n",
      "Fitting 2 folds for each of 9 candidates, totalling 18 fits\n",
      "[LibSVM][LibSVM][LibSVM][LibSVM][LibSVM][LibSVM][LibSVM][LibSVM][LibSVM][LibSVM][LibSVM][LibSVM][LibSVM][LibSVM][LibSVM][LibSVM][LibSVM][LibSVM][LibSVM]KNN started:\n",
      "Fitting 5 folds for each of 7 candidates, totalling 35 fits\n",
      "TREE started:\n",
      "Fitting 5 folds for each of 36 candidates, totalling 180 fits\n",
      "RF started:\n",
      "Fitting 5 folds for each of 48 candidates, totalling 240 fits\n"
     ]
    },
    {
     "name": "stderr",
     "output_type": "stream",
     "text": [
      "WARNING:urllib3.connectionpool:Connection pool is full, discarding connection: it560-new-bucket.s3.us-east-1.amazonaws.com. Connection pool size: 10\n",
      "WARNING:urllib3.connectionpool:Connection pool is full, discarding connection: it560-new-bucket.s3.us-east-1.amazonaws.com. Connection pool size: 10\n",
      "WARNING:urllib3.connectionpool:Connection pool is full, discarding connection: it560-new-bucket.s3.us-east-1.amazonaws.com. Connection pool size: 10\n",
      "WARNING:urllib3.connectionpool:Connection pool is full, discarding connection: it560-new-bucket.s3.us-east-1.amazonaws.com. Connection pool size: 10\n",
      "WARNING:urllib3.connectionpool:Connection pool is full, discarding connection: it560-new-bucket.s3.us-east-1.amazonaws.com. Connection pool size: 10\n",
      "WARNING:urllib3.connectionpool:Connection pool is full, discarding connection: it560-new-bucket.s3.us-east-1.amazonaws.com. Connection pool size: 10\n",
      "WARNING:urllib3.connectionpool:Connection pool is full, discarding connection: it560-new-bucket.s3.us-east-1.amazonaws.com. Connection pool size: 10\n",
      "WARNING:urllib3.connectionpool:Connection pool is full, discarding connection: it560-new-bucket.s3.us-east-1.amazonaws.com. Connection pool size: 10\n",
      "WARNING:urllib3.connectionpool:Connection pool is full, discarding connection: it560-new-bucket.s3.us-east-1.amazonaws.com. Connection pool size: 10\n",
      "WARNING:urllib3.connectionpool:Connection pool is full, discarding connection: it560-new-bucket.s3.us-east-1.amazonaws.com. Connection pool size: 10\n",
      "WARNING:urllib3.connectionpool:Connection pool is full, discarding connection: it560-new-bucket.s3.us-east-1.amazonaws.com. Connection pool size: 10\n",
      "WARNING:urllib3.connectionpool:Connection pool is full, discarding connection: it560-new-bucket.s3.us-east-1.amazonaws.com. Connection pool size: 10\n",
      "WARNING:urllib3.connectionpool:Connection pool is full, discarding connection: it560-new-bucket.s3.us-east-1.amazonaws.com. Connection pool size: 10\n",
      "WARNING:urllib3.connectionpool:Connection pool is full, discarding connection: it560-new-bucket.s3.us-east-1.amazonaws.com. Connection pool size: 10\n",
      "WARNING:urllib3.connectionpool:Connection pool is full, discarding connection: it560-new-bucket.s3.us-east-1.amazonaws.com. Connection pool size: 10\n",
      "WARNING:urllib3.connectionpool:Connection pool is full, discarding connection: it560-new-bucket.s3.us-east-1.amazonaws.com. Connection pool size: 10\n"
     ]
    },
    {
     "name": "stdout",
     "output_type": "stream",
     "text": [
      "ADA started:\n",
      "Fitting 5 folds for each of 25 candidates, totalling 125 fits\n",
      "XGB started:\n",
      "Fitting 5 folds for each of 225 candidates, totalling 1125 fits\n"
     ]
    }
   ],
   "source": [
    "for idx, model_name in enumerate(param_grids):\n",
    "    print(f\"{model_name.upper()} started:\")\n",
    "    best_model = fine_tune(models[idx], param_grids[model_name], model_name, X_train, X_test, y_train, y_test) \n",
    "    \n",
    "    joblib.dump(best_model, f\"/dbfs/FileStore/hakan/best_{model_name}.joblib\")"
   ]
  },
  {
   "cell_type": "markdown",
   "metadata": {
    "application/vnd.databricks.v1+cell": {
     "cellMetadata": {},
     "inputWidgets": {},
     "nuid": "cd20b805-acf0-4c2a-9a17-1339bf6935a8",
     "showTitle": false,
     "title": ""
    }
   },
   "source": [
    "## Fine tune XGBoost seperately\n",
    "- I was getting errors which cost me so much time, therefore I decided to save xgb seperately"
   ]
  },
  {
   "cell_type": "code",
   "execution_count": null,
   "metadata": {
    "application/vnd.databricks.v1+cell": {
     "cellMetadata": {
      "byteLimit": 2048000,
      "rowLimit": 10000
     },
     "inputWidgets": {},
     "nuid": "9abbb075-8d0d-4c54-8c0e-3354054a7890",
     "showTitle": false,
     "title": ""
    }
   },
   "outputs": [],
   "source": [
    "xgb_params = {\n",
    "        'n_estimators': [100, 300, 500, 700, 1000],\n",
    "        'learning_rate': [0.01, 0.1, 0.3],\n",
    "        \"gamma\":[0, 0.3, 1, 3, 5],\n",
    "        'max_depth': [2, 4, 6],\n",
    "    }\n",
    "\n",
    "print(\"XGB started:\")\n",
    "best_model = fine_tune(XGBRegressor(), xgb_params, \"xgb\", X_train, X_test, y_train, y_test) \n",
    "\n",
    "best_model.save_model(\"/dbfs/FileStore/hakan/best_xgb.json\")"
   ]
  },
  {
   "cell_type": "markdown",
   "metadata": {},
   "source": [
    "# Load Models and Gather Results"
   ]
  },
  {
   "cell_type": "code",
   "execution_count": 5,
   "metadata": {},
   "outputs": [],
   "source": [
    "def eval_pipeline(model, X_test, y_test):\n",
    "    preds = model.predict(X_test)\n",
    "    \n",
    "    rmse_score = np.sqrt(mean_squared_error(y_test, preds))\n",
    "    mape_score = mean_absolute_percentage_error(y_test, preds)\n",
    "    r2 = r2_score(y_test, preds)\n",
    "    \n",
    "    return rmse_score, mape_score, r2"
   ]
  },
  {
   "cell_type": "code",
   "execution_count": 24,
   "metadata": {},
   "outputs": [
    {
     "name": "stderr",
     "output_type": "stream",
     "text": [
      "\r",
      "  0%|                                                                                            | 0/6 [00:00<?, ?it/s]"
     ]
    },
    {
     "name": "stdout",
     "output_type": "stream",
     "text": [
      "ElasticNet Evaluating\n",
      "SVR Evaluating\n"
     ]
    },
    {
     "name": "stderr",
     "output_type": "stream",
     "text": [
      "\r",
      " 33%|████████████████████████████                                                        | 2/6 [02:13<04:26, 66.61s/it]"
     ]
    },
    {
     "name": "stdout",
     "output_type": "stream",
     "text": [
      "KNN Evaluating\n"
     ]
    },
    {
     "name": "stderr",
     "output_type": "stream",
     "text": [
      "\r",
      " 50%|██████████████████████████████████████████                                          | 3/6 [02:16<02:01, 40.40s/it]"
     ]
    },
    {
     "name": "stdout",
     "output_type": "stream",
     "text": [
      "DecisionTree Evaluating\n",
      "RandomForest Evaluating\n"
     ]
    },
    {
     "name": "stderr",
     "output_type": "stream",
     "text": [
      "\r",
      " 83%|██████████████████████████████████████████████████████████████████████              | 5/6 [02:20<00:19, 19.50s/it]"
     ]
    },
    {
     "name": "stdout",
     "output_type": "stream",
     "text": [
      "AdaBoost Evaluating\n"
     ]
    },
    {
     "name": "stderr",
     "output_type": "stream",
     "text": [
      "100%|████████████████████████████████████████████████████████████████████████████████████| 6/6 [02:21<00:00, 23.51s/it]\n"
     ]
    }
   ],
   "source": [
    "model_scores = {}\n",
    "model_params = {}\n",
    "best_models = []\n",
    "model_file_names = [\"elastic\", \"svr\", \"knn\", \"tree\", \"rf\", \"ada\"]\n",
    "model_object_names = [\"ElasticNet\", \"SVR\", \"KNN\", \"DecisionTree\", \"RandomForest\", \"AdaBoost\"]\n",
    "\n",
    "for i in tqdm(range(len(model_file_names))):\n",
    "    print(f\"{model_object_names[i]} Evaluating\")\n",
    "    best = joblib.load(f\"models/best_{model_file_names[i]}.joblib\")\n",
    "\n",
    "    rmse, mape, r2 = eval_pipeline(best, X_test, y_test)\n",
    "\n",
    "    best_models.append(best)\n",
    "    model_scores[model_object_names[i]] = [rmse, mape, r2]\n",
    "    model_params[model_object_names[i]] = best.get_params()"
   ]
  },
  {
   "cell_type": "markdown",
   "metadata": {},
   "source": [
    "## eval xgboost seperately\n",
    "- it has a different syntax"
   ]
  },
  {
   "cell_type": "code",
   "execution_count": 28,
   "metadata": {},
   "outputs": [],
   "source": [
    "best_xgb = XGBRegressor()\n",
    "best_xgb.load_model(\"models/best_xgb.json\")\n",
    "eval_pipeline(best_xgb, X_test, y_test)\n",
    "\n",
    "rmse, mape, r2 = eval_pipeline(best_xgb, X_test, y_test)\n",
    "\n",
    "best_models.append(best_xgb)\n",
    "model_scores[\"XGBoost\"] = [rmse, mape, r2]\n",
    "model_params[\"XGBoost\"] = best_xgb.get_xgb_params()"
   ]
  },
  {
   "cell_type": "markdown",
   "metadata": {},
   "source": [
    "## Models' Parameters"
   ]
  },
  {
   "cell_type": "code",
   "execution_count": 29,
   "metadata": {},
   "outputs": [
    {
     "data": {
      "text/plain": [
       "[ElasticNet(alpha=0.1, l1_ratio=0.9),\n",
       " SVR(C=3, kernel='poly', verbose=True),\n",
       " KNeighborsRegressor(n_neighbors=20),\n",
       " DecisionTreeRegressor(min_samples_leaf=4, min_samples_split=3),\n",
       " RandomForestRegressor(max_features=9, n_estimators=200),\n",
       " AdaBoostRegressor(learning_rate=0.1, n_estimators=60),\n",
       " XGBRegressor(base_score=None, booster=None, callbacks=None,\n",
       "              colsample_bylevel=None, colsample_bynode=None,\n",
       "              colsample_bytree=None, early_stopping_rounds=None,\n",
       "              enable_categorical=False, eval_metric=None, feature_types=None,\n",
       "              gamma=3, gpu_id=None, grow_policy=None, importance_type=None,\n",
       "              interaction_constraints=None, learning_rate=0.3, max_bin=None,\n",
       "              max_cat_threshold=None, max_cat_to_onehot=None,\n",
       "              max_delta_step=None, max_depth=6, max_leaves=None,\n",
       "              min_child_weight=None, missing=nan, monotone_constraints=None,\n",
       "              n_estimators=1000, n_jobs=None, num_parallel_tree=None,\n",
       "              predictor=None, random_state=None, ...)]"
      ]
     },
     "execution_count": 29,
     "metadata": {},
     "output_type": "execute_result"
    }
   ],
   "source": [
    "best_models"
   ]
  },
  {
   "cell_type": "code",
   "execution_count": 26,
   "metadata": {},
   "outputs": [
    {
     "data": {
      "text/plain": [
       "{'ElasticNet': {'alpha': 0.1,\n",
       "  'copy_X': True,\n",
       "  'fit_intercept': True,\n",
       "  'l1_ratio': 0.9,\n",
       "  'max_iter': 1000,\n",
       "  'normalize': 'deprecated',\n",
       "  'positive': False,\n",
       "  'precompute': False,\n",
       "  'random_state': None,\n",
       "  'selection': 'cyclic',\n",
       "  'tol': 0.0001,\n",
       "  'warm_start': False},\n",
       " 'SVR': {'C': 3,\n",
       "  'cache_size': 200,\n",
       "  'coef0': 0.0,\n",
       "  'degree': 3,\n",
       "  'epsilon': 0.1,\n",
       "  'gamma': 'scale',\n",
       "  'kernel': 'poly',\n",
       "  'max_iter': -1,\n",
       "  'shrinking': True,\n",
       "  'tol': 0.001,\n",
       "  'verbose': True},\n",
       " 'KNN': {'algorithm': 'auto',\n",
       "  'leaf_size': 30,\n",
       "  'metric': 'minkowski',\n",
       "  'metric_params': None,\n",
       "  'n_jobs': None,\n",
       "  'n_neighbors': 20,\n",
       "  'p': 2,\n",
       "  'weights': 'uniform'},\n",
       " 'DecisionTree': {'ccp_alpha': 0.0,\n",
       "  'criterion': 'squared_error',\n",
       "  'max_depth': None,\n",
       "  'max_features': None,\n",
       "  'max_leaf_nodes': None,\n",
       "  'min_impurity_decrease': 0.0,\n",
       "  'min_samples_leaf': 4,\n",
       "  'min_samples_split': 3,\n",
       "  'min_weight_fraction_leaf': 0.0,\n",
       "  'random_state': None,\n",
       "  'splitter': 'best'},\n",
       " 'RandomForest': {'bootstrap': True,\n",
       "  'ccp_alpha': 0.0,\n",
       "  'criterion': 'squared_error',\n",
       "  'max_depth': None,\n",
       "  'max_features': 9,\n",
       "  'max_leaf_nodes': None,\n",
       "  'max_samples': None,\n",
       "  'min_impurity_decrease': 0.0,\n",
       "  'min_samples_leaf': 1,\n",
       "  'min_samples_split': 2,\n",
       "  'min_weight_fraction_leaf': 0.0,\n",
       "  'n_estimators': 200,\n",
       "  'n_jobs': None,\n",
       "  'oob_score': False,\n",
       "  'random_state': None,\n",
       "  'verbose': 0,\n",
       "  'warm_start': False},\n",
       " 'AdaBoost': {'base_estimator': None,\n",
       "  'learning_rate': 0.1,\n",
       "  'loss': 'linear',\n",
       "  'n_estimators': 60,\n",
       "  'random_state': None},\n",
       " 'XGBoost': {'objective': 'reg:squarederror',\n",
       "  'base_score': None,\n",
       "  'booster': None,\n",
       "  'colsample_bylevel': None,\n",
       "  'colsample_bynode': None,\n",
       "  'colsample_bytree': None,\n",
       "  'eval_metric': None,\n",
       "  'gamma': 3,\n",
       "  'gpu_id': None,\n",
       "  'grow_policy': None,\n",
       "  'interaction_constraints': None,\n",
       "  'learning_rate': 0.3,\n",
       "  'max_bin': None,\n",
       "  'max_cat_threshold': None,\n",
       "  'max_cat_to_onehot': None,\n",
       "  'max_delta_step': None,\n",
       "  'max_depth': 6,\n",
       "  'max_leaves': None,\n",
       "  'min_child_weight': None,\n",
       "  'monotone_constraints': None,\n",
       "  'n_jobs': None,\n",
       "  'num_parallel_tree': None,\n",
       "  'predictor': None,\n",
       "  'random_state': None,\n",
       "  'reg_alpha': None,\n",
       "  'reg_lambda': None,\n",
       "  'sampling_method': None,\n",
       "  'scale_pos_weight': None,\n",
       "  'subsample': None,\n",
       "  'tree_method': None,\n",
       "  'validate_parameters': None,\n",
       "  'verbosity': None}}"
      ]
     },
     "execution_count": 26,
     "metadata": {},
     "output_type": "execute_result"
    }
   ],
   "source": [
    "model_params"
   ]
  },
  {
   "cell_type": "markdown",
   "metadata": {},
   "source": [
    "## Feature Importances for the Tree based Models"
   ]
  },
  {
   "cell_type": "code",
   "execution_count": 41,
   "metadata": {},
   "outputs": [
    {
     "data": {
      "image/png": "[encoded data removed]",
      "text/plain": [
       "<Figure size 1500x1200 with 4 Axes>"
      ]
     },
     "metadata": {
      "needs_background": "light"
     },
     "output_type": "display_data"
    }
   ],
   "source": [
    "model_object_names.append(\"XGBoost\")\n",
    "\n",
    "fig, ax = plt.subplots(nrows=2, ncols=2, figsize=(15,12), dpi=100)\n",
    "\n",
    "for idx, m in enumerate(best_models[3:]):\n",
    "    importances = pd.Series({i:j for i,j in zip(train.columns, m.feature_importances_)}).sort_values()\n",
    "    \n",
    "    ax[idx//2, idx%2].set_facecolor(\"#f1f1f2\")\n",
    "    ax[idx//2, idx%2].barh(importances.index, importances.values, color=\"#1995ad\")\n",
    "    \n",
    "    ax[idx//2, idx%2].set_title(f\"Feature Importances of {model_object_names[3+idx]}\")\n",
    "    \n",
    "plt.tight_layout()"
   ]
  },
  {
   "cell_type": "markdown",
   "metadata": {},
   "source": [
    "## Results"
   ]
  },
  {
   "cell_type": "code",
   "execution_count": 42,
   "metadata": {},
   "outputs": [
    {
     "data": {
      "text/html": [
       "<div>\n",
       "<style scoped>\n",
       "    .dataframe tbody tr th:only-of-type {\n",
       "        vertical-align: middle;\n",
       "    }\n",
       "\n",
       "    .dataframe tbody tr th {\n",
       "        vertical-align: top;\n",
       "    }\n",
       "\n",
       "    .dataframe thead th {\n",
       "        text-align: right;\n",
       "    }\n",
       "</style>\n",
       "<table border=\"1\" class=\"dataframe\">\n",
       "  <thead>\n",
       "    <tr style=\"text-align: right;\">\n",
       "      <th></th>\n",
       "      <th>RMSE</th>\n",
       "      <th>MAPE</th>\n",
       "      <th>R2</th>\n",
       "    </tr>\n",
       "  </thead>\n",
       "  <tbody>\n",
       "    <tr>\n",
       "      <th>ElasticNet</th>\n",
       "      <td>294.276641</td>\n",
       "      <td>0.205488</td>\n",
       "      <td>0.513960</td>\n",
       "    </tr>\n",
       "    <tr>\n",
       "      <th>SVR</th>\n",
       "      <td>273.210004</td>\n",
       "      <td>0.172073</td>\n",
       "      <td>0.581058</td>\n",
       "    </tr>\n",
       "    <tr>\n",
       "      <th>KNN</th>\n",
       "      <td>243.395759</td>\n",
       "      <td>0.142958</td>\n",
       "      <td>0.667504</td>\n",
       "    </tr>\n",
       "    <tr>\n",
       "      <th>DecisionTree</th>\n",
       "      <td>170.896674</td>\n",
       "      <td>0.080680</td>\n",
       "      <td>0.836081</td>\n",
       "    </tr>\n",
       "    <tr>\n",
       "      <th>RandomForest</th>\n",
       "      <td>129.500453</td>\n",
       "      <td>0.061730</td>\n",
       "      <td>0.905875</td>\n",
       "    </tr>\n",
       "    <tr>\n",
       "      <th>AdaBoost</th>\n",
       "      <td>295.198765</td>\n",
       "      <td>0.225453</td>\n",
       "      <td>0.510909</td>\n",
       "    </tr>\n",
       "    <tr>\n",
       "      <th>XGBoost</th>\n",
       "      <td>133.579251</td>\n",
       "      <td>0.073516</td>\n",
       "      <td>0.899853</td>\n",
       "    </tr>\n",
       "  </tbody>\n",
       "</table>\n",
       "</div>"
      ],
      "text/plain": [
       "                    RMSE      MAPE        R2\n",
       "ElasticNet    294.276641  0.205488  0.513960\n",
       "SVR           273.210004  0.172073  0.581058\n",
       "KNN           243.395759  0.142958  0.667504\n",
       "DecisionTree  170.896674  0.080680  0.836081\n",
       "RandomForest  129.500453  0.061730  0.905875\n",
       "AdaBoost      295.198765  0.225453  0.510909\n",
       "XGBoost       133.579251  0.073516  0.899853"
      ]
     },
     "execution_count": 42,
     "metadata": {},
     "output_type": "execute_result"
    }
   ],
   "source": [
    "results = pd.DataFrame(model_scores, index=[\"RMSE\", \"MAPE\", \"R2\"]).T\n",
    "results"
   ]
  }
 ],
 "metadata": {
  "application/vnd.databricks.v1+notebook": {
   "dashboards": [],
   "language": "python",
   "notebookMetadata": {
    "pythonIndentUnit": 4
   },
   "notebookName": "07-fine_tuning",
   "widgets": {}
  },
  "kernelspec": {
   "display_name": "Python 3 (ipykernel)",
   "language": "python",
   "name": "python3"
  },
  "language_info": {
   "codemirror_mode": {
    "name": "ipython",
    "version": 3
   },
   "file_extension": ".py",
   "mimetype": "text/x-python",
   "name": "python",
   "nbconvert_exporter": "python",
   "pygments_lexer": "ipython3",
   "version": "3.9.7"
  }
 },
 "nbformat": 4,
 "nbformat_minor": 1
}
