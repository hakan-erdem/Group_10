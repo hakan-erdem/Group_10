{
 "cells": [
  {
   "cell_type": "code",
   "execution_count": 1,
   "id": "4dc65614",
   "metadata": {},
   "outputs": [],
   "source": [
    "import numpy as np\n",
    "import pandas as pd\n",
    "import matplotlib.pyplot as plt\n",
    "import seaborn as sns\n",
    "\n",
    "from tqdm import tqdm\n",
    "import regex as re\n",
    "\n",
    "from sklearn.preprocessing import MinMaxScaler\n",
    "from sklearn.model_selection import train_test_split\n",
    "\n",
    "from sklearn.linear_model import ElasticNetCV, ElasticNet\n",
    "from sklearn.neighbors import KNeighborsRegressor\n",
    "from sklearn.tree import DecisionTreeRegressor\n",
    "from sklearn.ensemble import RandomForestRegressor, AdaBoostRegressor\n",
    "from sklearn.svm import SVR\n",
    "from xgboost import XGBRegressor\n",
    "\n",
    "from sklearn.metrics import mean_squared_error, mean_absolute_percentage_error, r2_score"
   ]
  },
  {
   "cell_type": "markdown",
   "id": "26f0f0af",
   "metadata": {},
   "source": [
    "# TODO\n",
    "\n",
    "- Choose Best Dataset Variation\n",
    "    - Apply scaling to the datasets (same dataset with three different encoding methods)\n",
    "    - Test model performances with their default configurations\n",
    "    - Choose best performing dataset (if there is a majority in better performances among the models it will be assumed as better)\n",
    "- Gather Intermediate Report Results\n",
    "    - Test models with the best performing dataset"
   ]
  },
  {
   "cell_type": "markdown",
   "id": "a2520e0f",
   "metadata": {},
   "source": [
    "---"
   ]
  },
  {
   "cell_type": "markdown",
   "id": "e9c1d354",
   "metadata": {},
   "source": [
    "# Choosing best dataset"
   ]
  },
  {
   "cell_type": "markdown",
   "id": "e88e45c2",
   "metadata": {},
   "source": [
    "Dataset names stands for:\n",
    "- fe_encoded: First Encounter encoded (assigning new values if the category is never seen before starting from 0)\n",
    "- ordinal_encoded: Features are ordinally encoded according to the average of the price value in their category\n",
    "- onehot_encoded: One-Hot encoding method applied version"
   ]
  },
  {
   "cell_type": "code",
   "execution_count": 22,
   "id": "a0e55394",
   "metadata": {},
   "outputs": [],
   "source": [
    "fe_encoded = pd.read_csv(\"main_fe_encoded.csv\")\n",
    "ordinal_encoded = pd.read_csv(\"main_ordinal_encoded.csv\")\n",
    "onehot_encoded = pd.read_csv(\"main_onehot_encoded.csv\")"
   ]
  },
  {
   "cell_type": "code",
   "execution_count": 23,
   "id": "4a36dbb2",
   "metadata": {},
   "outputs": [],
   "source": [
    "fe_X = fe_encoded.drop(columns=[\"price\"])\n",
    "fe_y = fe_encoded[\"price\"]\n",
    "\n",
    "ordinal_X = ordinal_encoded.drop(columns=[\"price\"])\n",
    "ordinal_y = ordinal_encoded[\"price\"]\n",
    "\n",
    "onehot_X = onehot_encoded.drop(columns=[\"price\"])\n",
    "onehot_y = onehot_encoded[\"price\"]"
   ]
  },
  {
   "cell_type": "code",
   "execution_count": 24,
   "id": "410827b1",
   "metadata": {},
   "outputs": [],
   "source": [
    "# in order to see the direct effect of the encoding method, I will set a random_state\n",
    "fe_X_train, fe_X_test, fe_y_train, fe_y_test = train_test_split(fe_X, fe_y, test_size=0.2, random_state=42)\n",
    "\n",
    "ordinal_X_train, ordinal_X_test, ordinal_y_train, ordinal_y_test = train_test_split(ordinal_X, ordinal_y, test_size=0.2, random_state=42)\n",
    "\n",
    "onehot_X_train, onehot_X_test, onehot_y_train, onehot_y_test = train_test_split(onehot_X, onehot_y, test_size=0.2, random_state=42)"
   ]
  },
  {
   "cell_type": "markdown",
   "id": "cc37f834",
   "metadata": {},
   "source": [
    "## Scaling"
   ]
  },
  {
   "cell_type": "code",
   "execution_count": 25,
   "id": "ec53b037",
   "metadata": {},
   "outputs": [],
   "source": [
    "scaler = MinMaxScaler()\n",
    "\n",
    "scaler.fit(fe_X_train)\n",
    "fe_X_train = scaler.transform(fe_X_train)\n",
    "fe_X_test = scaler.transform(fe_X_test)\n",
    "\n",
    "scaler.fit(ordinal_X_train)\n",
    "ordinal_X_train = scaler.transform(ordinal_X_train)\n",
    "ordinal_X_test = scaler.transform(ordinal_X_test)\n",
    "\n",
    "scaler.fit(onehot_X_train)\n",
    "onehot_X_train = scaler.transform(onehot_X_train)\n",
    "onehot_X_test = scaler.transform(onehot_X_test)"
   ]
  },
  {
   "cell_type": "code",
   "execution_count": 26,
   "id": "f7e539e0",
   "metadata": {},
   "outputs": [],
   "source": [
    "def pipeline(model, X_train, X_test, y_train, y_test):\n",
    "    \n",
    "    model.fit(X_train, y_train)\n",
    "    preds = model.predict(X_test)\n",
    "    \n",
    "    rmse_score = np.sqrt(mean_squared_error(y_test, preds))\n",
    "    mape_score = mean_absolute_percentage_error(y_test, preds)\n",
    "    r2 = r2_score(y_test, preds)\n",
    "    \n",
    "    return rmse_score, mape_score, r2\n",
    "\n",
    "def dataset_choice_pipeline(model, datasets):\n",
    "    fe, ordinal, onehot = datasets[0], datasets[1], datasets[2]\n",
    "    scores = {\"fe\":[], \"ordinal\":[], \"onehot\":[]}\n",
    "    \n",
    "    rmse, mape, r2 = pipeline(model, fe[0], fe[1], fe[2], fe[3])\n",
    "    scores[\"fe\"] += [rmse, mape, r2]\n",
    "\n",
    "    rmse, mape, r2 = pipeline(model, ordinal[0], ordinal[1], ordinal[2], ordinal[3])\n",
    "    scores[\"ordinal\"] += [rmse, mape, r2]\n",
    "\n",
    "    rmse, mape, r2 = pipeline(model, onehot[0], onehot[1], onehot[2], onehot[3])\n",
    "    scores[\"onehot\"] += [rmse, mape, r2]\n",
    "    \n",
    "    return scores\n",
    "\n",
    "datasets = [[fe_X_train, fe_X_test, fe_y_train, fe_y_test],\n",
    "            [ordinal_X_train, ordinal_X_test, ordinal_y_train, ordinal_y_test],\n",
    "            [onehot_X_train, onehot_X_test, onehot_y_train, onehot_y_test]]"
   ]
  },
  {
   "cell_type": "markdown",
   "id": "8d6e01f5",
   "metadata": {},
   "source": [
    "### ElasticNet"
   ]
  },
  {
   "cell_type": "code",
   "execution_count": 27,
   "id": "016e930a",
   "metadata": {},
   "outputs": [
    {
     "data": {
      "text/html": [
       "<div>\n",
       "<style scoped>\n",
       "    .dataframe tbody tr th:only-of-type {\n",
       "        vertical-align: middle;\n",
       "    }\n",
       "\n",
       "    .dataframe tbody tr th {\n",
       "        vertical-align: top;\n",
       "    }\n",
       "\n",
       "    .dataframe thead th {\n",
       "        text-align: right;\n",
       "    }\n",
       "</style>\n",
       "<table border=\"1\" class=\"dataframe\">\n",
       "  <thead>\n",
       "    <tr style=\"text-align: right;\">\n",
       "      <th></th>\n",
       "      <th>rmse</th>\n",
       "      <th>mape</th>\n",
       "      <th>r2</th>\n",
       "    </tr>\n",
       "  </thead>\n",
       "  <tbody>\n",
       "    <tr>\n",
       "      <th>fe</th>\n",
       "      <td>390.848640</td>\n",
       "      <td>0.297442</td>\n",
       "      <td>0.138592</td>\n",
       "    </tr>\n",
       "    <tr>\n",
       "      <th>ordinal</th>\n",
       "      <td>364.774032</td>\n",
       "      <td>0.273000</td>\n",
       "      <td>0.249692</td>\n",
       "    </tr>\n",
       "    <tr>\n",
       "      <th>onehot</th>\n",
       "      <td>354.457186</td>\n",
       "      <td>0.261303</td>\n",
       "      <td>0.291534</td>\n",
       "    </tr>\n",
       "  </tbody>\n",
       "</table>\n",
       "</div>"
      ],
      "text/plain": [
       "               rmse      mape        r2\n",
       "fe       390.848640  0.297442  0.138592\n",
       "ordinal  364.774032  0.273000  0.249692\n",
       "onehot   354.457186  0.261303  0.291534"
      ]
     },
     "execution_count": 27,
     "metadata": {},
     "output_type": "execute_result"
    }
   ],
   "source": [
    "elastic_scores = dataset_choice_pipeline(ElasticNetCV(random_state=42), datasets)\n",
    "\n",
    "frame = np.array([elastic_scores[\"fe\"], elastic_scores[\"ordinal\"], elastic_scores[\"onehot\"]])\n",
    "elastic_scores = pd.DataFrame(frame, index=[\"fe\", \"ordinal\", \"onehot\"], columns=[\"rmse\", \"mape\", \"r2\"])\n",
    "elastic_scores"
   ]
  },
  {
   "cell_type": "markdown",
   "id": "b1d8ae93",
   "metadata": {},
   "source": [
    "### SVR"
   ]
  },
  {
   "cell_type": "code",
   "execution_count": null,
   "id": "6112f13c",
   "metadata": {},
   "outputs": [
    {
     "name": "stdout",
     "output_type": "stream",
     "text": [
      "[LibSVM]"
     ]
    }
   ],
   "source": [
    "svr_scores = dataset_choice_pipeline(SVR(verbose=True), datasets)\n",
    "\n",
    "frame = np.array([svr_scores[\"fe\"], svr_scores[\"ordinal\"], svr_scores[\"onehot\"]])\n",
    "svr_scores = pd.DataFrame(frame, index=[\"fe\", \"ordinal\", \"onehot\"], columns=[\"rmse\", \"mape\", \"r2\"])\n",
    "svr_scores"
   ]
  },
  {
   "cell_type": "markdown",
   "id": "7e84b934",
   "metadata": {},
   "source": [
    "- terminated the code because it took so long"
   ]
  },
  {
   "cell_type": "markdown",
   "id": "b9cea210",
   "metadata": {},
   "source": [
    "### KNN"
   ]
  },
  {
   "cell_type": "code",
   "execution_count": 10,
   "id": "c0e56f7a",
   "metadata": {},
   "outputs": [
    {
     "data": {
      "text/html": [
       "<div>\n",
       "<style scoped>\n",
       "    .dataframe tbody tr th:only-of-type {\n",
       "        vertical-align: middle;\n",
       "    }\n",
       "\n",
       "    .dataframe tbody tr th {\n",
       "        vertical-align: top;\n",
       "    }\n",
       "\n",
       "    .dataframe thead th {\n",
       "        text-align: right;\n",
       "    }\n",
       "</style>\n",
       "<table border=\"1\" class=\"dataframe\">\n",
       "  <thead>\n",
       "    <tr style=\"text-align: right;\">\n",
       "      <th></th>\n",
       "      <th>rmse</th>\n",
       "      <th>mape</th>\n",
       "      <th>r2</th>\n",
       "    </tr>\n",
       "  </thead>\n",
       "  <tbody>\n",
       "    <tr>\n",
       "      <th>fe</th>\n",
       "      <td>237.595526</td>\n",
       "      <td>0.120430</td>\n",
       "      <td>0.681677</td>\n",
       "    </tr>\n",
       "    <tr>\n",
       "      <th>ordinal</th>\n",
       "      <td>211.442907</td>\n",
       "      <td>0.105563</td>\n",
       "      <td>0.747897</td>\n",
       "    </tr>\n",
       "    <tr>\n",
       "      <th>onehot</th>\n",
       "      <td>193.793512</td>\n",
       "      <td>0.095469</td>\n",
       "      <td>0.788227</td>\n",
       "    </tr>\n",
       "  </tbody>\n",
       "</table>\n",
       "</div>"
      ],
      "text/plain": [
       "               rmse      mape        r2\n",
       "fe       237.595526  0.120430  0.681677\n",
       "ordinal  211.442907  0.105563  0.747897\n",
       "onehot   193.793512  0.095469  0.788227"
      ]
     },
     "execution_count": 10,
     "metadata": {},
     "output_type": "execute_result"
    }
   ],
   "source": [
    "knn_scores = dataset_choice_pipeline(KNeighborsRegressor(), datasets)\n",
    "\n",
    "frame = np.array([knn_scores[\"fe\"], knn_scores[\"ordinal\"], knn_scores[\"onehot\"]])\n",
    "knn_scores = pd.DataFrame(frame, index=[\"fe\", \"ordinal\", \"onehot\"], columns=[\"rmse\", \"mape\", \"r2\"])\n",
    "knn_scores"
   ]
  },
  {
   "cell_type": "markdown",
   "id": "30b11b9a",
   "metadata": {},
   "source": [
    "### Decision Tree"
   ]
  },
  {
   "cell_type": "code",
   "execution_count": 24,
   "id": "a8a18a1b",
   "metadata": {},
   "outputs": [
    {
     "data": {
      "text/html": [
       "<div>\n",
       "<style scoped>\n",
       "    .dataframe tbody tr th:only-of-type {\n",
       "        vertical-align: middle;\n",
       "    }\n",
       "\n",
       "    .dataframe tbody tr th {\n",
       "        vertical-align: top;\n",
       "    }\n",
       "\n",
       "    .dataframe thead th {\n",
       "        text-align: right;\n",
       "    }\n",
       "</style>\n",
       "<table border=\"1\" class=\"dataframe\">\n",
       "  <thead>\n",
       "    <tr style=\"text-align: right;\">\n",
       "      <th></th>\n",
       "      <th>rmse</th>\n",
       "      <th>mape</th>\n",
       "      <th>r2</th>\n",
       "    </tr>\n",
       "  </thead>\n",
       "  <tbody>\n",
       "    <tr>\n",
       "      <th>fe</th>\n",
       "      <td>175.073685</td>\n",
       "      <td>0.070220</td>\n",
       "      <td>0.827164</td>\n",
       "    </tr>\n",
       "    <tr>\n",
       "      <th>ordinal</th>\n",
       "      <td>171.691635</td>\n",
       "      <td>0.069206</td>\n",
       "      <td>0.833778</td>\n",
       "    </tr>\n",
       "    <tr>\n",
       "      <th>onehot</th>\n",
       "      <td>173.759803</td>\n",
       "      <td>0.069728</td>\n",
       "      <td>0.829749</td>\n",
       "    </tr>\n",
       "  </tbody>\n",
       "</table>\n",
       "</div>"
      ],
      "text/plain": [
       "               rmse      mape        r2\n",
       "fe       175.073685  0.070220  0.827164\n",
       "ordinal  171.691635  0.069206  0.833778\n",
       "onehot   173.759803  0.069728  0.829749"
      ]
     },
     "execution_count": 24,
     "metadata": {},
     "output_type": "execute_result"
    }
   ],
   "source": [
    "tree_scores = dataset_choice_pipeline(DecisionTreeRegressor(random_state=42), datasets)\n",
    "\n",
    "frame = np.array([tree_scores[\"fe\"], tree_scores[\"ordinal\"], tree_scores[\"onehot\"]])\n",
    "tree_scores = pd.DataFrame(frame, index=[\"fe\", \"ordinal\", \"onehot\"], columns=[\"rmse\", \"mape\", \"r2\"])\n",
    "tree_scores"
   ]
  },
  {
   "cell_type": "markdown",
   "id": "94f1b3fe",
   "metadata": {},
   "source": [
    "### RandomForest"
   ]
  },
  {
   "cell_type": "code",
   "execution_count": 30,
   "id": "b28eac6a",
   "metadata": {
    "scrolled": true
   },
   "outputs": [
    {
     "name": "stdout",
     "output_type": "stream",
     "text": [
      "building tree 1 of 100\n",
      "building tree 2 of 100\n",
      "building tree 3 of 100\n",
      "building tree 4 of 100\n",
      "building tree 5 of 100\n",
      "building tree 6 of 100\n",
      "building tree 7 of 100\n",
      "building tree 8 of 100\n",
      "building tree 9 of 100\n",
      "building tree 10 of 100\n",
      "building tree 11 of 100\n",
      "building tree 12 of 100\n",
      "building tree 13 of 100\n",
      "building tree 14 of 100\n",
      "building tree 15 of 100\n",
      "building tree 16 of 100\n",
      "building tree 17 of 100\n",
      "building tree 18 of 100\n",
      "building tree 19 of 100\n",
      "building tree 20 of 100\n",
      "building tree 21 of 100\n",
      "building tree 22 of 100\n",
      "building tree 23 of 100\n",
      "building tree 24 of 100\n",
      "building tree 25 of 100\n",
      "building tree 26 of 100\n",
      "building tree 27 of 100\n",
      "building tree 28 of 100\n",
      "building tree 29 of 100\n",
      "building tree 30 of 100\n",
      "building tree 31 of 100\n",
      "building tree 32 of 100\n",
      "building tree 33 of 100\n",
      "building tree 34 of 100\n",
      "building tree 35 of 100\n",
      "building tree 36 of 100\n",
      "building tree 37 of 100\n",
      "building tree 38 of 100\n",
      "building tree 39 of 100\n",
      "building tree 40 of 100\n"
     ]
    },
    {
     "name": "stderr",
     "output_type": "stream",
     "text": [
      "[Parallel(n_jobs=1)]: Done  40 tasks      | elapsed:   45.9s\n"
     ]
    },
    {
     "name": "stdout",
     "output_type": "stream",
     "text": [
      "building tree 41 of 100\n",
      "building tree 42 of 100\n",
      "building tree 43 of 100\n",
      "building tree 44 of 100\n",
      "building tree 45 of 100\n",
      "building tree 46 of 100\n",
      "building tree 47 of 100\n",
      "building tree 48 of 100\n",
      "building tree 49 of 100\n",
      "building tree 50 of 100\n",
      "building tree 51 of 100\n",
      "building tree 52 of 100\n",
      "building tree 53 of 100\n",
      "building tree 54 of 100\n",
      "building tree 55 of 100\n",
      "building tree 56 of 100\n",
      "building tree 57 of 100\n",
      "building tree 58 of 100\n",
      "building tree 59 of 100\n",
      "building tree 60 of 100\n",
      "building tree 61 of 100\n",
      "building tree 62 of 100\n",
      "building tree 63 of 100\n",
      "building tree 64 of 100\n",
      "building tree 65 of 100\n",
      "building tree 66 of 100\n",
      "building tree 67 of 100\n",
      "building tree 68 of 100\n",
      "building tree 69 of 100\n",
      "building tree 70 of 100\n",
      "building tree 71 of 100\n",
      "building tree 72 of 100\n",
      "building tree 73 of 100\n",
      "building tree 74 of 100\n",
      "building tree 75 of 100\n",
      "building tree 76 of 100\n",
      "building tree 77 of 100\n",
      "building tree 78 of 100\n",
      "building tree 79 of 100\n",
      "building tree 80 of 100\n",
      "building tree 81 of 100\n",
      "building tree 82 of 100\n",
      "building tree 83 of 100\n",
      "building tree 84 of 100\n",
      "building tree 85 of 100\n",
      "building tree 86 of 100\n",
      "building tree 87 of 100\n",
      "building tree 88 of 100\n",
      "building tree 89 of 100\n",
      "building tree 90 of 100\n",
      "building tree 91 of 100\n",
      "building tree 92 of 100\n",
      "building tree 93 of 100\n",
      "building tree 94 of 100\n",
      "building tree 95 of 100\n",
      "building tree 96 of 100\n",
      "building tree 97 of 100\n",
      "building tree 98 of 100\n",
      "building tree 99 of 100\n",
      "building tree 100 of 100\n"
     ]
    },
    {
     "name": "stderr",
     "output_type": "stream",
     "text": [
      "[Parallel(n_jobs=1)]: Done  40 tasks      | elapsed:    0.3s\n"
     ]
    },
    {
     "name": "stdout",
     "output_type": "stream",
     "text": [
      "building tree 1 of 100\n",
      "building tree 2 of 100\n",
      "building tree 3 of 100\n",
      "building tree 4 of 100\n",
      "building tree 5 of 100\n",
      "building tree 6 of 100\n",
      "building tree 7 of 100\n",
      "building tree 8 of 100\n",
      "building tree 9 of 100\n",
      "building tree 10 of 100\n",
      "building tree 11 of 100\n",
      "building tree 12 of 100\n",
      "building tree 13 of 100\n",
      "building tree 14 of 100\n",
      "building tree 15 of 100\n",
      "building tree 16 of 100\n",
      "building tree 17 of 100\n",
      "building tree 18 of 100\n",
      "building tree 19 of 100\n",
      "building tree 20 of 100\n",
      "building tree 21 of 100\n",
      "building tree 22 of 100\n",
      "building tree 23 of 100\n",
      "building tree 24 of 100\n",
      "building tree 25 of 100\n",
      "building tree 26 of 100\n",
      "building tree 27 of 100\n",
      "building tree 28 of 100\n",
      "building tree 29 of 100\n",
      "building tree 30 of 100\n",
      "building tree 31 of 100\n",
      "building tree 32 of 100\n",
      "building tree 33 of 100\n",
      "building tree 34 of 100\n",
      "building tree 35 of 100\n",
      "building tree 36 of 100\n",
      "building tree 37 of 100\n",
      "building tree 38 of 100\n",
      "building tree 39 of 100\n",
      "building tree 40 of 100\n"
     ]
    },
    {
     "name": "stderr",
     "output_type": "stream",
     "text": [
      "[Parallel(n_jobs=1)]: Done  40 tasks      | elapsed:   48.7s\n"
     ]
    },
    {
     "name": "stdout",
     "output_type": "stream",
     "text": [
      "building tree 41 of 100\n",
      "building tree 42 of 100\n",
      "building tree 43 of 100\n",
      "building tree 44 of 100\n",
      "building tree 45 of 100\n",
      "building tree 46 of 100\n",
      "building tree 47 of 100\n",
      "building tree 48 of 100\n",
      "building tree 49 of 100\n",
      "building tree 50 of 100\n",
      "building tree 51 of 100\n",
      "building tree 52 of 100\n",
      "building tree 53 of 100\n",
      "building tree 54 of 100\n",
      "building tree 55 of 100\n",
      "building tree 56 of 100\n",
      "building tree 57 of 100\n",
      "building tree 58 of 100\n",
      "building tree 59 of 100\n",
      "building tree 60 of 100\n",
      "building tree 61 of 100\n",
      "building tree 62 of 100\n",
      "building tree 63 of 100\n",
      "building tree 64 of 100\n",
      "building tree 65 of 100\n",
      "building tree 66 of 100\n",
      "building tree 67 of 100\n",
      "building tree 68 of 100\n",
      "building tree 69 of 100\n",
      "building tree 70 of 100\n",
      "building tree 71 of 100\n",
      "building tree 72 of 100\n",
      "building tree 73 of 100\n",
      "building tree 74 of 100\n",
      "building tree 75 of 100\n",
      "building tree 76 of 100\n",
      "building tree 77 of 100\n",
      "building tree 78 of 100\n",
      "building tree 79 of 100\n",
      "building tree 80 of 100\n",
      "building tree 81 of 100\n",
      "building tree 82 of 100\n",
      "building tree 83 of 100\n",
      "building tree 84 of 100\n",
      "building tree 85 of 100\n",
      "building tree 86 of 100\n",
      "building tree 87 of 100\n",
      "building tree 88 of 100\n",
      "building tree 89 of 100\n",
      "building tree 90 of 100\n",
      "building tree 91 of 100\n",
      "building tree 92 of 100\n",
      "building tree 93 of 100\n",
      "building tree 94 of 100\n",
      "building tree 95 of 100\n",
      "building tree 96 of 100\n",
      "building tree 97 of 100\n",
      "building tree 98 of 100\n",
      "building tree 99 of 100\n",
      "building tree 100 of 100\n"
     ]
    },
    {
     "name": "stderr",
     "output_type": "stream",
     "text": [
      "[Parallel(n_jobs=1)]: Done  40 tasks      | elapsed:    0.3s\n"
     ]
    },
    {
     "name": "stdout",
     "output_type": "stream",
     "text": [
      "building tree 1 of 100\n",
      "building tree 2 of 100\n",
      "building tree 3 of 100\n",
      "building tree 4 of 100\n",
      "building tree 5 of 100\n",
      "building tree 6 of 100\n",
      "building tree 7 of 100\n",
      "building tree 8 of 100\n",
      "building tree 9 of 100\n",
      "building tree 10 of 100\n",
      "building tree 11 of 100\n",
      "building tree 12 of 100\n",
      "building tree 13 of 100\n",
      "building tree 14 of 100\n",
      "building tree 15 of 100\n",
      "building tree 16 of 100\n",
      "building tree 17 of 100\n",
      "building tree 18 of 100\n",
      "building tree 19 of 100\n",
      "building tree 20 of 100\n",
      "building tree 21 of 100\n",
      "building tree 22 of 100\n",
      "building tree 23 of 100\n",
      "building tree 24 of 100\n",
      "building tree 25 of 100\n",
      "building tree 26 of 100\n",
      "building tree 27 of 100\n",
      "building tree 28 of 100\n",
      "building tree 29 of 100\n",
      "building tree 30 of 100\n",
      "building tree 31 of 100\n",
      "building tree 32 of 100\n",
      "building tree 33 of 100\n",
      "building tree 34 of 100\n",
      "building tree 35 of 100\n",
      "building tree 36 of 100\n",
      "building tree 37 of 100\n",
      "building tree 38 of 100\n",
      "building tree 39 of 100\n",
      "building tree 40 of 100\n"
     ]
    },
    {
     "name": "stderr",
     "output_type": "stream",
     "text": [
      "[Parallel(n_jobs=1)]: Done  40 tasks      | elapsed:  1.1min\n"
     ]
    },
    {
     "name": "stdout",
     "output_type": "stream",
     "text": [
      "building tree 41 of 100\n",
      "building tree 42 of 100\n",
      "building tree 43 of 100\n",
      "building tree 44 of 100\n",
      "building tree 45 of 100\n",
      "building tree 46 of 100\n",
      "building tree 47 of 100\n",
      "building tree 48 of 100\n",
      "building tree 49 of 100\n",
      "building tree 50 of 100\n",
      "building tree 51 of 100\n",
      "building tree 52 of 100\n",
      "building tree 53 of 100\n",
      "building tree 54 of 100\n",
      "building tree 55 of 100\n",
      "building tree 56 of 100\n",
      "building tree 57 of 100\n",
      "building tree 58 of 100\n",
      "building tree 59 of 100\n",
      "building tree 60 of 100\n",
      "building tree 61 of 100\n",
      "building tree 62 of 100\n",
      "building tree 63 of 100\n",
      "building tree 64 of 100\n",
      "building tree 65 of 100\n",
      "building tree 66 of 100\n",
      "building tree 67 of 100\n",
      "building tree 68 of 100\n",
      "building tree 69 of 100\n",
      "building tree 70 of 100\n",
      "building tree 71 of 100\n",
      "building tree 72 of 100\n",
      "building tree 73 of 100\n",
      "building tree 74 of 100\n",
      "building tree 75 of 100\n",
      "building tree 76 of 100\n",
      "building tree 77 of 100\n",
      "building tree 78 of 100\n",
      "building tree 79 of 100\n",
      "building tree 80 of 100\n",
      "building tree 81 of 100\n",
      "building tree 82 of 100\n",
      "building tree 83 of 100\n",
      "building tree 84 of 100\n",
      "building tree 85 of 100\n",
      "building tree 86 of 100\n",
      "building tree 87 of 100\n",
      "building tree 88 of 100\n",
      "building tree 89 of 100\n",
      "building tree 90 of 100\n",
      "building tree 91 of 100\n",
      "building tree 92 of 100\n",
      "building tree 93 of 100\n",
      "building tree 94 of 100\n",
      "building tree 95 of 100\n",
      "building tree 96 of 100\n",
      "building tree 97 of 100\n",
      "building tree 98 of 100\n",
      "building tree 99 of 100\n",
      "building tree 100 of 100\n"
     ]
    },
    {
     "name": "stderr",
     "output_type": "stream",
     "text": [
      "[Parallel(n_jobs=1)]: Done  40 tasks      | elapsed:    0.3s\n"
     ]
    },
    {
     "data": {
      "text/html": [
       "<div>\n",
       "<style scoped>\n",
       "    .dataframe tbody tr th:only-of-type {\n",
       "        vertical-align: middle;\n",
       "    }\n",
       "\n",
       "    .dataframe tbody tr th {\n",
       "        vertical-align: top;\n",
       "    }\n",
       "\n",
       "    .dataframe thead th {\n",
       "        text-align: right;\n",
       "    }\n",
       "</style>\n",
       "<table border=\"1\" class=\"dataframe\">\n",
       "  <thead>\n",
       "    <tr style=\"text-align: right;\">\n",
       "      <th></th>\n",
       "      <th>rmse</th>\n",
       "      <th>mape</th>\n",
       "      <th>r2</th>\n",
       "    </tr>\n",
       "  </thead>\n",
       "  <tbody>\n",
       "    <tr>\n",
       "      <th>fe</th>\n",
       "      <td>129.149969</td>\n",
       "      <td>0.059247</td>\n",
       "      <td>0.905945</td>\n",
       "    </tr>\n",
       "    <tr>\n",
       "      <th>ordinal</th>\n",
       "      <td>128.953169</td>\n",
       "      <td>0.058665</td>\n",
       "      <td>0.906232</td>\n",
       "    </tr>\n",
       "    <tr>\n",
       "      <th>onehot</th>\n",
       "      <td>129.752198</td>\n",
       "      <td>0.058917</td>\n",
       "      <td>0.905066</td>\n",
       "    </tr>\n",
       "  </tbody>\n",
       "</table>\n",
       "</div>"
      ],
      "text/plain": [
       "               rmse      mape        r2\n",
       "fe       129.149969  0.059247  0.905945\n",
       "ordinal  128.953169  0.058665  0.906232\n",
       "onehot   129.752198  0.058917  0.905066"
      ]
     },
     "execution_count": 30,
     "metadata": {},
     "output_type": "execute_result"
    }
   ],
   "source": [
    "rf_scores = dataset_choice_pipeline(RandomForestRegressor(random_state=42, verbose=2), datasets)\n",
    "\n",
    "frame = np.array([rf_scores[\"fe\"], rf_scores[\"ordinal\"], rf_scores[\"onehot\"]])\n",
    "rf_results = pd.DataFrame(frame, index=[\"fe\", \"ordinal\", \"onehot\"], columns=[\"rmse\", \"mape\", \"r2\"])\n",
    "rf_results"
   ]
  },
  {
   "cell_type": "code",
   "execution_count": 31,
   "id": "8b0d619e",
   "metadata": {},
   "outputs": [
    {
     "data": {
      "text/html": [
       "<div>\n",
       "<style scoped>\n",
       "    .dataframe tbody tr th:only-of-type {\n",
       "        vertical-align: middle;\n",
       "    }\n",
       "\n",
       "    .dataframe tbody tr th {\n",
       "        vertical-align: top;\n",
       "    }\n",
       "\n",
       "    .dataframe thead th {\n",
       "        text-align: right;\n",
       "    }\n",
       "</style>\n",
       "<table border=\"1\" class=\"dataframe\">\n",
       "  <thead>\n",
       "    <tr style=\"text-align: right;\">\n",
       "      <th></th>\n",
       "      <th>rmse</th>\n",
       "      <th>mape</th>\n",
       "      <th>r2</th>\n",
       "    </tr>\n",
       "  </thead>\n",
       "  <tbody>\n",
       "    <tr>\n",
       "      <th>fe</th>\n",
       "      <td>129.149969</td>\n",
       "      <td>0.059247</td>\n",
       "      <td>0.905945</td>\n",
       "    </tr>\n",
       "    <tr>\n",
       "      <th>ordinal</th>\n",
       "      <td>128.953169</td>\n",
       "      <td>0.058665</td>\n",
       "      <td>0.906232</td>\n",
       "    </tr>\n",
       "    <tr>\n",
       "      <th>onehot</th>\n",
       "      <td>129.752198</td>\n",
       "      <td>0.058917</td>\n",
       "      <td>0.905066</td>\n",
       "    </tr>\n",
       "  </tbody>\n",
       "</table>\n",
       "</div>"
      ],
      "text/plain": [
       "               rmse      mape        r2\n",
       "fe       129.149969  0.059247  0.905945\n",
       "ordinal  128.953169  0.058665  0.906232\n",
       "onehot   129.752198  0.058917  0.905066"
      ]
     },
     "execution_count": 31,
     "metadata": {},
     "output_type": "execute_result"
    }
   ],
   "source": [
    "rf_results"
   ]
  },
  {
   "cell_type": "markdown",
   "id": "c0ea09ff",
   "metadata": {},
   "source": [
    "### AdaBoost"
   ]
  },
  {
   "cell_type": "code",
   "execution_count": 29,
   "id": "f53cad35",
   "metadata": {},
   "outputs": [
    {
     "data": {
      "text/html": [
       "<div>\n",
       "<style scoped>\n",
       "    .dataframe tbody tr th:only-of-type {\n",
       "        vertical-align: middle;\n",
       "    }\n",
       "\n",
       "    .dataframe tbody tr th {\n",
       "        vertical-align: top;\n",
       "    }\n",
       "\n",
       "    .dataframe thead th {\n",
       "        text-align: right;\n",
       "    }\n",
       "</style>\n",
       "<table border=\"1\" class=\"dataframe\">\n",
       "  <thead>\n",
       "    <tr style=\"text-align: right;\">\n",
       "      <th></th>\n",
       "      <th>rmse</th>\n",
       "      <th>mape</th>\n",
       "      <th>r2</th>\n",
       "    </tr>\n",
       "  </thead>\n",
       "  <tbody>\n",
       "    <tr>\n",
       "      <th>fe</th>\n",
       "      <td>329.426384</td>\n",
       "      <td>0.292852</td>\n",
       "      <td>0.388061</td>\n",
       "    </tr>\n",
       "    <tr>\n",
       "      <th>ordinal</th>\n",
       "      <td>338.941513</td>\n",
       "      <td>0.300530</td>\n",
       "      <td>0.352200</td>\n",
       "    </tr>\n",
       "    <tr>\n",
       "      <th>onehot</th>\n",
       "      <td>332.747833</td>\n",
       "      <td>0.295305</td>\n",
       "      <td>0.375659</td>\n",
       "    </tr>\n",
       "  </tbody>\n",
       "</table>\n",
       "</div>"
      ],
      "text/plain": [
       "               rmse      mape        r2\n",
       "fe       329.426384  0.292852  0.388061\n",
       "ordinal  338.941513  0.300530  0.352200\n",
       "onehot   332.747833  0.295305  0.375659"
      ]
     },
     "execution_count": 29,
     "metadata": {},
     "output_type": "execute_result"
    }
   ],
   "source": [
    "ada_scores = dataset_choice_pipeline(AdaBoostRegressor(random_state=42), datasets)\n",
    "\n",
    "frame = np.array([ada_scores[\"fe\"], ada_scores[\"ordinal\"], ada_scores[\"onehot\"]])\n",
    "ada_results = pd.DataFrame(frame, index=[\"fe\", \"ordinal\", \"onehot\"], columns=[\"rmse\", \"mape\", \"r2\"])\n",
    "ada_results"
   ]
  },
  {
   "cell_type": "markdown",
   "id": "125beb2d",
   "metadata": {},
   "source": [
    "AdaBoost resulted best in also support fe encoding"
   ]
  },
  {
   "cell_type": "markdown",
   "id": "30b1894d",
   "metadata": {},
   "source": [
    "### XGBoost"
   ]
  },
  {
   "cell_type": "code",
   "execution_count": 25,
   "id": "81298517",
   "metadata": {},
   "outputs": [
    {
     "name": "stderr",
     "output_type": "stream",
     "text": [
      "C:\\Users\\erdem\\anaconda3\\lib\\site-packages\\xgboost\\data.py:520: FutureWarning: is_sparse is deprecated and will be removed in a future version. Check `isinstance(dtype, pd.SparseDtype)` instead.\n",
      "  if is_sparse(data):\n",
      "C:\\Users\\erdem\\anaconda3\\lib\\site-packages\\xgboost\\data.py:520: FutureWarning: is_sparse is deprecated and will be removed in a future version. Check `isinstance(dtype, pd.SparseDtype)` instead.\n",
      "  if is_sparse(data):\n",
      "C:\\Users\\erdem\\anaconda3\\lib\\site-packages\\xgboost\\data.py:520: FutureWarning: is_sparse is deprecated and will be removed in a future version. Check `isinstance(dtype, pd.SparseDtype)` instead.\n",
      "  if is_sparse(data):\n"
     ]
    },
    {
     "data": {
      "text/html": [
       "<div>\n",
       "<style scoped>\n",
       "    .dataframe tbody tr th:only-of-type {\n",
       "        vertical-align: middle;\n",
       "    }\n",
       "\n",
       "    .dataframe tbody tr th {\n",
       "        vertical-align: top;\n",
       "    }\n",
       "\n",
       "    .dataframe thead th {\n",
       "        text-align: right;\n",
       "    }\n",
       "</style>\n",
       "<table border=\"1\" class=\"dataframe\">\n",
       "  <thead>\n",
       "    <tr style=\"text-align: right;\">\n",
       "      <th></th>\n",
       "      <th>rmse</th>\n",
       "      <th>mape</th>\n",
       "      <th>r2</th>\n",
       "    </tr>\n",
       "  </thead>\n",
       "  <tbody>\n",
       "    <tr>\n",
       "      <th>fe</th>\n",
       "      <td>160.793286</td>\n",
       "      <td>0.100921</td>\n",
       "      <td>0.854210</td>\n",
       "    </tr>\n",
       "    <tr>\n",
       "      <th>ordinal</th>\n",
       "      <td>159.550516</td>\n",
       "      <td>0.100003</td>\n",
       "      <td>0.856455</td>\n",
       "    </tr>\n",
       "    <tr>\n",
       "      <th>onehot</th>\n",
       "      <td>162.484492</td>\n",
       "      <td>0.102256</td>\n",
       "      <td>0.851127</td>\n",
       "    </tr>\n",
       "  </tbody>\n",
       "</table>\n",
       "</div>"
      ],
      "text/plain": [
       "               rmse      mape        r2\n",
       "fe       160.793286  0.100921  0.854210\n",
       "ordinal  159.550516  0.100003  0.856455\n",
       "onehot   162.484492  0.102256  0.851127"
      ]
     },
     "execution_count": 25,
     "metadata": {},
     "output_type": "execute_result"
    }
   ],
   "source": [
    "xgb_scores = dataset_choice_pipeline(XGBRegressor(random_state=42, verbosity=2), datasets)\n",
    "\n",
    "frame = np.array([xgb_scores[\"fe\"], xgb_scores[\"ordinal\"], xgb_scores[\"onehot\"]])\n",
    "xgb_scores = pd.DataFrame(frame, index=[\"fe\", \"ordinal\", \"onehot\"], columns=[\"rmse\", \"mape\", \"r2\"])\n",
    "xgb_scores"
   ]
  },
  {
   "cell_type": "markdown",
   "id": "a36e293e",
   "metadata": {},
   "source": [
    "XGBoost results also support ordinal encoding having the best result"
   ]
  },
  {
   "cell_type": "markdown",
   "id": "8bd9ec67",
   "metadata": {},
   "source": [
    "### Conclusion of this part\n",
    "- ElasticNet gives best results in one-hot encoding, AdaBoost performs best in fe encoding and the rest of the models perform best in ordinal encoding. I didn't experimented with svr because it took so long to train\n",
    "- Due to the majority being in the ordinal encoding, I will carry on with that dataset"
   ]
  },
  {
   "cell_type": "markdown",
   "id": "5de68818",
   "metadata": {},
   "source": [
    "# Gathering Results for the Intermediate Report"
   ]
  },
  {
   "cell_type": "code",
   "execution_count": 2,
   "id": "b7737aed",
   "metadata": {},
   "outputs": [],
   "source": [
    "def pipeline(model, X_train, X_test, y_train, y_test):\n",
    "    \n",
    "    model.fit(X_train, y_train)\n",
    "    preds = model.predict(X_test)\n",
    "    \n",
    "    rmse_score = np.sqrt(mean_squared_error(y_test, preds))\n",
    "    mape_score = mean_absolute_percentage_error(y_test, preds)\n",
    "    r2 = r2_score(y_test, preds)\n",
    "    \n",
    "    return rmse_score, mape_score, r2"
   ]
  },
  {
   "cell_type": "markdown",
   "id": "1e4593f4",
   "metadata": {},
   "source": [
    "- I decided to add ElasticNet to the models list. This was not stated in the project proposal, but I wanted to add more models."
   ]
  },
  {
   "cell_type": "markdown",
   "id": "2def10d7",
   "metadata": {},
   "source": [
    "First, lets get rid of the redundant dataset names"
   ]
  },
  {
   "cell_type": "code",
   "execution_count": 3,
   "id": "03e3c067",
   "metadata": {},
   "outputs": [
    {
     "name": "stdout",
     "output_type": "stream",
     "text": [
      "Shape of the whole dataset: (190551, 19) (190551,)\n",
      "Shape of the train set: (152440, 19) (152440,)\n",
      "Shape of the test set: (38111, 19) (38111,)\n"
     ]
    }
   ],
   "source": [
    "data = pd.read_csv(\"main_ordinal_encoded.csv\")\n",
    "X = data.drop(columns=[\"price\"])\n",
    "y = data[\"price\"]\n",
    "\n",
    "X_train, X_test, y_train, y_test = train_test_split(X, y, test_size=0.2, random_state=42)\n",
    "\n",
    "scaler = MinMaxScaler()\n",
    "scaler.fit(X_train)\n",
    "X_train = scaler.transform(X_train)\n",
    "X_test = scaler.transform(X_test)\n",
    "\n",
    "print(f\"Shape of the whole dataset: {X.shape} {y.shape}\")\n",
    "print(f\"Shape of the train set: {X_train.shape} {y_train.shape}\")\n",
    "print(f\"Shape of the test set: {X_test.shape} {y_test.shape}\")"
   ]
  },
  {
   "cell_type": "code",
   "execution_count": 37,
   "id": "0f56124f",
   "metadata": {},
   "outputs": [],
   "source": [
    "model_scores = {}"
   ]
  },
  {
   "cell_type": "markdown",
   "id": "ee8ee676",
   "metadata": {},
   "source": [
    "## ElasticNetCV"
   ]
  },
  {
   "cell_type": "code",
   "execution_count": 18,
   "id": "5109d44a",
   "metadata": {},
   "outputs": [
    {
     "data": {
      "text/plain": [
       "[270.7406674733359, 0.18565555658414173, 0.5866685158435163]"
      ]
     },
     "execution_count": 18,
     "metadata": {},
     "output_type": "execute_result"
    }
   ],
   "source": [
    "elastic = ElasticNetCV(l1_ratio=1, eps=0.0001)\n",
    "\n",
    "rmse, mape, r2 = pipeline(elastic, X_train, X_test, y_train, y_test)\n",
    "\n",
    "model_scores[\"ElasticNet\"] = [rmse, mape, r2]\n",
    "model_scores[\"ElasticNet\"]"
   ]
  },
  {
   "cell_type": "markdown",
   "id": "c17dc8a6",
   "metadata": {},
   "source": [
    "## SVR"
   ]
  },
  {
   "cell_type": "code",
   "execution_count": 19,
   "id": "19af4cf7",
   "metadata": {},
   "outputs": [
    {
     "name": "stdout",
     "output_type": "stream",
     "text": [
      "[LibSVM]"
     ]
    },
    {
     "data": {
      "text/plain": [
       "[274.63620093736716, 0.17241549107349216, 0.5746885618500026]"
      ]
     },
     "execution_count": 19,
     "metadata": {},
     "output_type": "execute_result"
    }
   ],
   "source": [
    "svreg = SVR(verbose=True)\n",
    "\n",
    "rmse, mape, r2 = pipeline(svreg, X_train, X_test, y_train, y_test)\n",
    "\n",
    "model_scores[\"SVR\"] = [rmse, mape, r2]\n",
    "model_scores[\"SVR\"]"
   ]
  },
  {
   "cell_type": "markdown",
   "id": "805b2b49",
   "metadata": {},
   "source": [
    "## KNN"
   ]
  },
  {
   "cell_type": "code",
   "execution_count": 30,
   "id": "3f04a256",
   "metadata": {},
   "outputs": [
    {
     "data": {
      "text/plain": [
       "[246.9849063609118, 0.1495097516709746, 0.6560206874309943]"
      ]
     },
     "execution_count": 30,
     "metadata": {},
     "output_type": "execute_result"
    }
   ],
   "source": [
    "knn = KNeighborsRegressor(n_neighbors=50)\n",
    "\n",
    "rmse, mape, r2 = pipeline(knn, X_train, X_test, y_train, y_test)\n",
    "\n",
    "model_scores[\"KNN\"] = [rmse, mape, r2]\n",
    "model_scores[\"KNN\"]"
   ]
  },
  {
   "cell_type": "markdown",
   "id": "d3637914",
   "metadata": {},
   "source": [
    "## Decision Tree"
   ]
  },
  {
   "cell_type": "code",
   "execution_count": 18,
   "id": "790030a1",
   "metadata": {},
   "outputs": [
    {
     "data": {
      "text/plain": [
       "[172.1892392841659, 0.06949420897645131, 0.8328126124205872]"
      ]
     },
     "execution_count": 18,
     "metadata": {},
     "output_type": "execute_result"
    }
   ],
   "source": [
    "tree = DecisionTreeRegressor()\n",
    "\n",
    "rmse, mape, r2 = pipeline(tree, X_train, X_test, y_train, y_test)\n",
    "\n",
    "model_scores[\"DecisionTree\"] = [rmse, mape, r2]\n",
    "model_scores[\"DecisionTree\"]"
   ]
  },
  {
   "cell_type": "code",
   "execution_count": 19,
   "id": "f922808d",
   "metadata": {},
   "outputs": [
    {
     "data": {
      "image/png": "[encoded data removed]",
      "text/plain": [
       "<Figure size 900x750 with 1 Axes>"
      ]
     },
     "metadata": {
      "needs_background": "light"
     },
     "output_type": "display_data"
    }
   ],
   "source": [
    "importances = pd.Series({i:j for i,j in zip(X.columns, tree.feature_importances_)}).sort_values()\n",
    "\n",
    "fig, ax = plt.subplots(figsize=(6,5), dpi=150)\n",
    "ax.set_facecolor(\"#f1f1f2\")\n",
    "\n",
    "plt.barh(importances.index, importances.values, color=\"#1995ad\")\n",
    "plt.title(\"Feature Importances of Random Forest\")\n",
    "plt.xlabel(\"Feature Importance\");"
   ]
  },
  {
   "cell_type": "markdown",
   "id": "83495649",
   "metadata": {},
   "source": [
    "## RandomForest"
   ]
  },
  {
   "cell_type": "code",
   "execution_count": 20,
   "id": "aaad4f35",
   "metadata": {
    "scrolled": true
   },
   "outputs": [
    {
     "name": "stdout",
     "output_type": "stream",
     "text": [
      "building tree 1 of 150\n",
      "building tree 2 of 150\n",
      "building tree 3 of 150\n",
      "building tree 4 of 150\n",
      "building tree 5 of 150\n",
      "building tree 6 of 150\n",
      "building tree 7 of 150\n",
      "building tree 8 of 150\n",
      "building tree 9 of 150\n",
      "building tree 10 of 150\n",
      "building tree 11 of 150\n",
      "building tree 12 of 150\n",
      "building tree 13 of 150\n",
      "building tree 14 of 150\n",
      "building tree 15 of 150\n",
      "building tree 16 of 150\n",
      "building tree 17 of 150\n",
      "building tree 18 of 150\n",
      "building tree 19 of 150\n",
      "building tree 20 of 150\n",
      "building tree 21 of 150\n",
      "building tree 22 of 150\n",
      "building tree 23 of 150\n",
      "building tree 24 of 150\n",
      "building tree 25 of 150\n",
      "building tree 26 of 150\n",
      "building tree 27 of 150\n",
      "building tree 28 of 150\n",
      "building tree 29 of 150\n",
      "building tree 30 of 150\n",
      "building tree 31 of 150\n",
      "building tree 32 of 150\n",
      "building tree 33 of 150\n",
      "building tree 34 of 150\n",
      "building tree 35 of 150\n",
      "building tree 36 of 150\n",
      "building tree 37 of 150\n",
      "building tree 38 of 150\n",
      "building tree 39 of 150\n",
      "building tree 40 of 150\n"
     ]
    },
    {
     "name": "stderr",
     "output_type": "stream",
     "text": [
      "[Parallel(n_jobs=1)]: Done  40 tasks      | elapsed:   46.6s\n"
     ]
    },
    {
     "name": "stdout",
     "output_type": "stream",
     "text": [
      "building tree 41 of 150\n",
      "building tree 42 of 150\n",
      "building tree 43 of 150\n",
      "building tree 44 of 150\n",
      "building tree 45 of 150\n",
      "building tree 46 of 150\n",
      "building tree 47 of 150\n",
      "building tree 48 of 150\n",
      "building tree 49 of 150\n",
      "building tree 50 of 150\n",
      "building tree 51 of 150\n",
      "building tree 52 of 150\n",
      "building tree 53 of 150\n",
      "building tree 54 of 150\n",
      "building tree 55 of 150\n",
      "building tree 56 of 150\n",
      "building tree 57 of 150\n",
      "building tree 58 of 150\n",
      "building tree 59 of 150\n",
      "building tree 60 of 150\n",
      "building tree 61 of 150\n",
      "building tree 62 of 150\n",
      "building tree 63 of 150\n",
      "building tree 64 of 150\n",
      "building tree 65 of 150\n",
      "building tree 66 of 150\n",
      "building tree 67 of 150\n",
      "building tree 68 of 150\n",
      "building tree 69 of 150\n",
      "building tree 70 of 150\n",
      "building tree 71 of 150\n",
      "building tree 72 of 150\n",
      "building tree 73 of 150\n",
      "building tree 74 of 150\n",
      "building tree 75 of 150\n",
      "building tree 76 of 150\n",
      "building tree 77 of 150\n",
      "building tree 78 of 150\n",
      "building tree 79 of 150\n",
      "building tree 80 of 150\n",
      "building tree 81 of 150\n",
      "building tree 82 of 150\n",
      "building tree 83 of 150\n",
      "building tree 84 of 150\n",
      "building tree 85 of 150\n",
      "building tree 86 of 150\n",
      "building tree 87 of 150\n",
      "building tree 88 of 150\n",
      "building tree 89 of 150\n",
      "building tree 90 of 150\n",
      "building tree 91 of 150\n",
      "building tree 92 of 150\n",
      "building tree 93 of 150\n",
      "building tree 94 of 150\n",
      "building tree 95 of 150\n",
      "building tree 96 of 150\n",
      "building tree 97 of 150\n",
      "building tree 98 of 150\n",
      "building tree 99 of 150\n",
      "building tree 100 of 150\n",
      "building tree 101 of 150\n",
      "building tree 102 of 150\n",
      "building tree 103 of 150\n",
      "building tree 104 of 150\n",
      "building tree 105 of 150\n",
      "building tree 106 of 150\n",
      "building tree 107 of 150\n",
      "building tree 108 of 150\n",
      "building tree 109 of 150\n",
      "building tree 110 of 150\n",
      "building tree 111 of 150\n",
      "building tree 112 of 150\n",
      "building tree 113 of 150\n",
      "building tree 114 of 150\n",
      "building tree 115 of 150\n",
      "building tree 116 of 150\n",
      "building tree 117 of 150\n",
      "building tree 118 of 150\n",
      "building tree 119 of 150\n",
      "building tree 120 of 150\n",
      "building tree 121 of 150\n",
      "building tree 122 of 150\n",
      "building tree 123 of 150\n",
      "building tree 124 of 150\n",
      "building tree 125 of 150\n",
      "building tree 126 of 150\n",
      "building tree 127 of 150\n",
      "building tree 128 of 150\n",
      "building tree 129 of 150\n",
      "building tree 130 of 150\n",
      "building tree 131 of 150\n",
      "building tree 132 of 150\n",
      "building tree 133 of 150\n",
      "building tree 134 of 150\n",
      "building tree 135 of 150\n",
      "building tree 136 of 150\n",
      "building tree 137 of 150\n",
      "building tree 138 of 150\n",
      "building tree 139 of 150\n",
      "building tree 140 of 150\n",
      "building tree 141 of 150\n",
      "building tree 142 of 150\n",
      "building tree 143 of 150\n",
      "building tree 144 of 150\n",
      "building tree 145 of 150\n",
      "building tree 146 of 150\n",
      "building tree 147 of 150\n",
      "building tree 148 of 150\n",
      "building tree 149 of 150\n",
      "building tree 150 of 150\n"
     ]
    },
    {
     "name": "stderr",
     "output_type": "stream",
     "text": [
      "[Parallel(n_jobs=1)]: Done  40 tasks      | elapsed:    0.3s\n"
     ]
    },
    {
     "data": {
      "text/plain": [
       "[128.92331831114063, 0.05858553086689827, 0.9062752162155652]"
      ]
     },
     "execution_count": 20,
     "metadata": {},
     "output_type": "execute_result"
    }
   ],
   "source": [
    "rf = RandomForestRegressor(n_estimators=150, verbose=2)\n",
    "\n",
    "rmse, mape, r2 = pipeline(rf, X_train, X_test, y_train, y_test)\n",
    "\n",
    "model_scores[\"RandomForest\"] = [rmse, mape, r2]\n",
    "model_scores[\"RandomForest\"]"
   ]
  },
  {
   "cell_type": "code",
   "execution_count": 21,
   "id": "a1e183d0",
   "metadata": {},
   "outputs": [
    {
     "data": {
      "image/png": "[encoded data removed]",
      "text/plain": [
       "<Figure size 900x750 with 1 Axes>"
      ]
     },
     "metadata": {
      "needs_background": "light"
     },
     "output_type": "display_data"
    }
   ],
   "source": [
    "importances = pd.Series({i:j for i,j in zip(X.columns, rf.feature_importances_)}).sort_values()\n",
    "\n",
    "fig, ax = plt.subplots(figsize=(6,5), dpi=150)\n",
    "ax.set_facecolor(\"#f1f1f2\")\n",
    "\n",
    "plt.barh(importances.index, importances.values, color=\"#1995ad\")\n",
    "plt.title(\"Feature Importances of Random Forest\")\n",
    "plt.xlabel(\"Feature Importance\");"
   ]
  },
  {
   "cell_type": "markdown",
   "id": "55cb3134",
   "metadata": {},
   "source": [
    "## AdaBoost"
   ]
  },
  {
   "cell_type": "code",
   "execution_count": 22,
   "id": "cb21ad96",
   "metadata": {},
   "outputs": [
    {
     "data": {
      "text/plain": [
       "[279.00400166863614, 0.21182845569000147, 0.5610527207242899]"
      ]
     },
     "execution_count": 22,
     "metadata": {},
     "output_type": "execute_result"
    }
   ],
   "source": [
    "ada = AdaBoostRegressor(learning_rate=0.1)\n",
    "\n",
    "rmse, mape, r2 = pipeline(ada, X_train, X_test, y_train, y_test)\n",
    "\n",
    "model_scores[\"AdaBoost\"] = [rmse, mape, r2]\n",
    "model_scores[\"AdaBoost\"]"
   ]
  },
  {
   "cell_type": "code",
   "execution_count": 23,
   "id": "afe156d1",
   "metadata": {},
   "outputs": [
    {
     "data": {
      "image/png": "[encoded data removed]",
      "text/plain": [
       "<Figure size 900x750 with 1 Axes>"
      ]
     },
     "metadata": {
      "needs_background": "light"
     },
     "output_type": "display_data"
    }
   ],
   "source": [
    "importances = pd.Series({i:j for i,j in zip(X.columns, ada.feature_importances_)}).sort_values()\n",
    "\n",
    "fig, ax = plt.subplots(figsize=(6,5), dpi=150)\n",
    "ax.set_facecolor(\"#f1f1f2\")\n",
    "\n",
    "plt.barh(importances.index, importances.values, color=\"#1995ad\")\n",
    "plt.title(\"Feature Importances of AdaBoost\")\n",
    "plt.xlabel(\"Feature Importance\");"
   ]
  },
  {
   "cell_type": "markdown",
   "id": "570da4b1",
   "metadata": {},
   "source": [
    "## XGBoost"
   ]
  },
  {
   "cell_type": "code",
   "execution_count": 24,
   "id": "0e72e1a2",
   "metadata": {},
   "outputs": [
    {
     "name": "stderr",
     "output_type": "stream",
     "text": [
      "C:\\Users\\erdem\\anaconda3\\lib\\site-packages\\xgboost\\data.py:520: FutureWarning: is_sparse is deprecated and will be removed in a future version. Check `isinstance(dtype, pd.SparseDtype)` instead.\n",
      "  if is_sparse(data):\n"
     ]
    },
    {
     "data": {
      "text/plain": [
       "[132.84085542331854, 0.07397301059813294, 0.9004927271123584]"
      ]
     },
     "execution_count": 24,
     "metadata": {},
     "output_type": "execute_result"
    }
   ],
   "source": [
    "xgb = XGBRegressor(n_estimators=1000, learning_rate=0.2)\n",
    "\n",
    "rmse, mape, r2 = pipeline(xgb, X_train, X_test, y_train, y_test)\n",
    "\n",
    "model_scores[\"XGBoost\"] = [rmse, mape, r2]\n",
    "model_scores[\"XGBoost\"]"
   ]
  },
  {
   "cell_type": "code",
   "execution_count": 25,
   "id": "e2da6e44",
   "metadata": {},
   "outputs": [
    {
     "data": {
      "image/png": "[encoded data removed]",
      "text/plain": [
       "<Figure size 900x750 with 1 Axes>"
      ]
     },
     "metadata": {
      "needs_background": "light"
     },
     "output_type": "display_data"
    }
   ],
   "source": [
    "importances = pd.Series({i:j for i,j in zip(X.columns, xgb.feature_importances_)}).sort_values()\n",
    "\n",
    "fig, ax = plt.subplots(figsize=(6,5), dpi=150)\n",
    "ax.set_facecolor(\"#f1f1f2\")\n",
    "\n",
    "plt.barh(importances.index, importances.values, color=\"#1995ad\")\n",
    "plt.title(\"Feature Importances of XGBoost\")\n",
    "plt.xlabel(\"Feature Importance\");"
   ]
  },
  {
   "cell_type": "markdown",
   "id": "66233689",
   "metadata": {},
   "source": [
    "## Results"
   ]
  },
  {
   "cell_type": "code",
   "execution_count": 45,
   "id": "1efa941b",
   "metadata": {},
   "outputs": [
    {
     "data": {
      "text/html": [
       "<div>\n",
       "<style scoped>\n",
       "    .dataframe tbody tr th:only-of-type {\n",
       "        vertical-align: middle;\n",
       "    }\n",
       "\n",
       "    .dataframe tbody tr th {\n",
       "        vertical-align: top;\n",
       "    }\n",
       "\n",
       "    .dataframe thead th {\n",
       "        text-align: right;\n",
       "    }\n",
       "</style>\n",
       "<table border=\"1\" class=\"dataframe\">\n",
       "  <thead>\n",
       "    <tr style=\"text-align: right;\">\n",
       "      <th></th>\n",
       "      <th>ElasticNet</th>\n",
       "      <th>SVR</th>\n",
       "      <th>KNN</th>\n",
       "      <th>DecisionTree</th>\n",
       "      <th>RandomForest</th>\n",
       "      <th>AdaBoost</th>\n",
       "      <th>XGBoost</th>\n",
       "    </tr>\n",
       "  </thead>\n",
       "  <tbody>\n",
       "    <tr>\n",
       "      <th>RMSE</th>\n",
       "      <td>270.740667</td>\n",
       "      <td>274.636201</td>\n",
       "      <td>246.984906</td>\n",
       "      <td>172.189239</td>\n",
       "      <td>128.923318</td>\n",
       "      <td>279.004002</td>\n",
       "      <td>132.840855</td>\n",
       "    </tr>\n",
       "    <tr>\n",
       "      <th>MAPE</th>\n",
       "      <td>0.185656</td>\n",
       "      <td>0.172415</td>\n",
       "      <td>0.149510</td>\n",
       "      <td>0.069494</td>\n",
       "      <td>0.058586</td>\n",
       "      <td>0.211828</td>\n",
       "      <td>0.073973</td>\n",
       "    </tr>\n",
       "    <tr>\n",
       "      <th>R2</th>\n",
       "      <td>0.586669</td>\n",
       "      <td>0.574689</td>\n",
       "      <td>0.656021</td>\n",
       "      <td>0.832813</td>\n",
       "      <td>0.906275</td>\n",
       "      <td>0.561053</td>\n",
       "      <td>0.900493</td>\n",
       "    </tr>\n",
       "  </tbody>\n",
       "</table>\n",
       "</div>"
      ],
      "text/plain": [
       "      ElasticNet         SVR         KNN  DecisionTree  RandomForest  \\\n",
       "RMSE  270.740667  274.636201  246.984906    172.189239    128.923318   \n",
       "MAPE    0.185656    0.172415    0.149510      0.069494      0.058586   \n",
       "R2      0.586669    0.574689    0.656021      0.832813      0.906275   \n",
       "\n",
       "        AdaBoost     XGBoost  \n",
       "RMSE  279.004002  132.840855  \n",
       "MAPE    0.211828    0.073973  \n",
       "R2      0.561053    0.900493  "
      ]
     },
     "execution_count": 45,
     "metadata": {},
     "output_type": "execute_result"
    }
   ],
   "source": [
    "pd.DataFrame(model_scores, index=[\"RMSE\", \"MAPE\", \"R2\"])"
   ]
  },
  {
   "cell_type": "code",
   "execution_count": 46,
   "id": "96171804",
   "metadata": {},
   "outputs": [
    {
     "data": {
      "text/html": [
       "<div>\n",
       "<style scoped>\n",
       "    .dataframe tbody tr th:only-of-type {\n",
       "        vertical-align: middle;\n",
       "    }\n",
       "\n",
       "    .dataframe tbody tr th {\n",
       "        vertical-align: top;\n",
       "    }\n",
       "\n",
       "    .dataframe thead th {\n",
       "        text-align: right;\n",
       "    }\n",
       "</style>\n",
       "<table border=\"1\" class=\"dataframe\">\n",
       "  <thead>\n",
       "    <tr style=\"text-align: right;\">\n",
       "      <th></th>\n",
       "      <th>RMSE</th>\n",
       "      <th>MAPE</th>\n",
       "      <th>R2</th>\n",
       "    </tr>\n",
       "  </thead>\n",
       "  <tbody>\n",
       "    <tr>\n",
       "      <th>ElasticNet</th>\n",
       "      <td>270.740667</td>\n",
       "      <td>0.185656</td>\n",
       "      <td>0.586669</td>\n",
       "    </tr>\n",
       "    <tr>\n",
       "      <th>SVR</th>\n",
       "      <td>274.636201</td>\n",
       "      <td>0.172415</td>\n",
       "      <td>0.574689</td>\n",
       "    </tr>\n",
       "    <tr>\n",
       "      <th>KNN</th>\n",
       "      <td>246.984906</td>\n",
       "      <td>0.149510</td>\n",
       "      <td>0.656021</td>\n",
       "    </tr>\n",
       "    <tr>\n",
       "      <th>DecisionTree</th>\n",
       "      <td>172.189239</td>\n",
       "      <td>0.069494</td>\n",
       "      <td>0.832813</td>\n",
       "    </tr>\n",
       "    <tr>\n",
       "      <th>RandomForest</th>\n",
       "      <td>128.923318</td>\n",
       "      <td>0.058586</td>\n",
       "      <td>0.906275</td>\n",
       "    </tr>\n",
       "    <tr>\n",
       "      <th>AdaBoost</th>\n",
       "      <td>279.004002</td>\n",
       "      <td>0.211828</td>\n",
       "      <td>0.561053</td>\n",
       "    </tr>\n",
       "    <tr>\n",
       "      <th>XGBoost</th>\n",
       "      <td>132.840855</td>\n",
       "      <td>0.073973</td>\n",
       "      <td>0.900493</td>\n",
       "    </tr>\n",
       "  </tbody>\n",
       "</table>\n",
       "</div>"
      ],
      "text/plain": [
       "                    RMSE      MAPE        R2\n",
       "ElasticNet    270.740667  0.185656  0.586669\n",
       "SVR           274.636201  0.172415  0.574689\n",
       "KNN           246.984906  0.149510  0.656021\n",
       "DecisionTree  172.189239  0.069494  0.832813\n",
       "RandomForest  128.923318  0.058586  0.906275\n",
       "AdaBoost      279.004002  0.211828  0.561053\n",
       "XGBoost       132.840855  0.073973  0.900493"
      ]
     },
     "execution_count": 46,
     "metadata": {},
     "output_type": "execute_result"
    }
   ],
   "source": [
    "results = pd.DataFrame(model_scores, index=[\"RMSE\", \"MAPE\", \"R2\"]).T\n",
    "results"
   ]
  },
  {
   "cell_type": "code",
   "execution_count": 41,
   "id": "e6adcc75",
   "metadata": {},
   "outputs": [
    {
     "data": {
      "image/png": "[encoded data removed]",
      "text/plain": [
       "<Figure size 780x520 with 1 Axes>"
      ]
     },
     "metadata": {
      "needs_background": "light"
     },
     "output_type": "display_data"
    }
   ],
   "source": [
    "fig, ax = plt.subplots(figsize=(6,4), dpi=130)\n",
    "ax.set_facecolor(\"#f1f1f2\")\n",
    "\n",
    "viz_result = results[\"RMSE\"].sort_values()\n",
    "plt.barh(viz_result.index, viz_result.values, color=\"#1995ad\")\n",
    "plt.title(\"RMSE Scores of the Models\")\n",
    "plt.xlabel(\"RMSE Score\")\n",
    "\n",
    "for i, value in enumerate(viz_result):\n",
    "    plt.text(value-5, i, f\"{value:.3f}\", va=\"center\", ha=\"right\", weight=\"bold\", c=\"white\", fontsize=\"large\")"
   ]
  },
  {
   "cell_type": "code",
   "execution_count": 42,
   "id": "42427e16",
   "metadata": {},
   "outputs": [
    {
     "data": {
      "image/png": "[encoded data removed]",
      "text/plain": [
       "<Figure size 780x520 with 1 Axes>"
      ]
     },
     "metadata": {
      "needs_background": "light"
     },
     "output_type": "display_data"
    }
   ],
   "source": [
    "fig, ax = plt.subplots(figsize=(6,4), dpi=130)\n",
    "ax.set_facecolor(\"#f1f1f2\")\n",
    "\n",
    "viz_result = results[\"MAPE\"].sort_values()\n",
    "plt.barh(viz_result.index, viz_result.values, color=\"#1995ad\")\n",
    "plt.title(\"MAPE Scores of the Models\")\n",
    "plt.xlabel(\"MAPE Score\")\n",
    "\n",
    "for i, value in enumerate(viz_result):\n",
    "    plt.text(value-.005, i, f\"{value:.3f}\", va=\"center\", ha=\"right\", weight=\"bold\", c=\"white\", fontsize=\"large\")"
   ]
  },
  {
   "cell_type": "code",
   "execution_count": 43,
   "id": "8f8b648d",
   "metadata": {},
   "outputs": [
    {
     "data": {
      "image/png": "[encoded data removed]",
      "text/plain": [
       "<Figure size 780x520 with 1 Axes>"
      ]
     },
     "metadata": {
      "needs_background": "light"
     },
     "output_type": "display_data"
    }
   ],
   "source": [
    "fig, ax = plt.subplots(figsize=(6,4), dpi=130)\n",
    "ax.set_facecolor(\"#f1f1f2\")\n",
    "\n",
    "viz_result = results[\"R2\"].sort_values()\n",
    "plt.barh(viz_result.index, viz_result.values, color=\"#1995ad\")\n",
    "plt.title(\"R2 Scores of the Models\")\n",
    "plt.xlabel(\"R2 Score\")\n",
    "\n",
    "for i, value in enumerate(viz_result):\n",
    "    plt.text(value-.02, i, f\"{value:.3f}\", va=\"center\", ha=\"right\", weight=\"bold\", c=\"white\", fontsize=\"large\")"
   ]
  }
 ],
 "metadata": {
  "kernelspec": {
   "display_name": "Python 3 (ipykernel)",
   "language": "python",
   "name": "python3"
  },
  "language_info": {
   "codemirror_mode": {
    "name": "ipython",
    "version": 3
   },
   "file_extension": ".py",
   "mimetype": "text/x-python",
   "name": "python",
   "nbconvert_exporter": "python",
   "pygments_lexer": "ipython3",
   "version": "3.9.7"
  }
 },
 "nbformat": 4,
 "nbformat_minor": 5
}
