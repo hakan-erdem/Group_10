{
 "cells": [
  {
   "cell_type": "code",
   "execution_count": 1,
   "id": "2bfdf5ff",
   "metadata": {},
   "outputs": [],
   "source": [
    "import numpy as np\n",
    "import pandas as pd\n",
    "import matplotlib.pyplot as plt\n",
    "import seaborn as sns"
   ]
  },
  {
   "cell_type": "markdown",
   "id": "9e232710",
   "metadata": {},
   "source": [
    "# TODO\n",
    "- drop unnecessary columns\n",
    "- drop duplicates\n",
    "- manage outliers\n",
    "- manage null values\n",
    "---\n",
    "- combine cats and dogs in to a single column (pets_allowed maybe?)\n",
    "- encode 'region', 'type', 'laundry_options', 'parking_options', 'state' categorical features"
   ]
  },
  {
   "cell_type": "markdown",
   "id": "3cb42094",
   "metadata": {},
   "source": [
    "encoding \"region\" might be unnecessary, but we will see"
   ]
  },
  {
   "cell_type": "code",
   "execution_count": 2,
   "id": "3922c67a",
   "metadata": {},
   "outputs": [],
   "source": [
    "df = pd.read_csv(\"housing_train.csv\")"
   ]
  },
  {
   "cell_type": "code",
   "execution_count": 3,
   "id": "f41d34c1",
   "metadata": {},
   "outputs": [
    {
     "data": {
      "text/html": [
       "<div>\n",
       "<style scoped>\n",
       "    .dataframe tbody tr th:only-of-type {\n",
       "        vertical-align: middle;\n",
       "    }\n",
       "\n",
       "    .dataframe tbody tr th {\n",
       "        vertical-align: top;\n",
       "    }\n",
       "\n",
       "    .dataframe thead th {\n",
       "        text-align: right;\n",
       "    }\n",
       "</style>\n",
       "<table border=\"1\" class=\"dataframe\">\n",
       "  <thead>\n",
       "    <tr style=\"text-align: right;\">\n",
       "      <th></th>\n",
       "      <th>id</th>\n",
       "      <th>url</th>\n",
       "      <th>region</th>\n",
       "      <th>region_url</th>\n",
       "      <th>price</th>\n",
       "      <th>type</th>\n",
       "      <th>sqfeet</th>\n",
       "      <th>beds</th>\n",
       "      <th>baths</th>\n",
       "      <th>cats_allowed</th>\n",
       "      <th>...</th>\n",
       "      <th>wheelchair_access</th>\n",
       "      <th>electric_vehicle_charge</th>\n",
       "      <th>comes_furnished</th>\n",
       "      <th>laundry_options</th>\n",
       "      <th>parking_options</th>\n",
       "      <th>image_url</th>\n",
       "      <th>description</th>\n",
       "      <th>lat</th>\n",
       "      <th>long</th>\n",
       "      <th>state</th>\n",
       "    </tr>\n",
       "  </thead>\n",
       "  <tbody>\n",
       "    <tr>\n",
       "      <th>0</th>\n",
       "      <td>7039061606</td>\n",
       "      <td>https://bham.craigslist.org/apa/d/birmingham-h...</td>\n",
       "      <td>birmingham</td>\n",
       "      <td>https://bham.craigslist.org</td>\n",
       "      <td>1195</td>\n",
       "      <td>apartment</td>\n",
       "      <td>1908</td>\n",
       "      <td>3</td>\n",
       "      <td>2.0</td>\n",
       "      <td>1</td>\n",
       "      <td>...</td>\n",
       "      <td>0</td>\n",
       "      <td>0</td>\n",
       "      <td>0</td>\n",
       "      <td>laundry on site</td>\n",
       "      <td>street parking</td>\n",
       "      <td>https://images.craigslist.org/00L0L_80pNkyDeG0...</td>\n",
       "      <td>Apartments In Birmingham AL Welcome to 100 Inv...</td>\n",
       "      <td>33.4226</td>\n",
       "      <td>-86.7065</td>\n",
       "      <td>al</td>\n",
       "    </tr>\n",
       "    <tr>\n",
       "      <th>1</th>\n",
       "      <td>7041970863</td>\n",
       "      <td>https://bham.craigslist.org/apa/d/birmingham-w...</td>\n",
       "      <td>birmingham</td>\n",
       "      <td>https://bham.craigslist.org</td>\n",
       "      <td>1120</td>\n",
       "      <td>apartment</td>\n",
       "      <td>1319</td>\n",
       "      <td>3</td>\n",
       "      <td>2.0</td>\n",
       "      <td>1</td>\n",
       "      <td>...</td>\n",
       "      <td>0</td>\n",
       "      <td>0</td>\n",
       "      <td>0</td>\n",
       "      <td>laundry on site</td>\n",
       "      <td>off-street parking</td>\n",
       "      <td>https://images.craigslist.org/00707_uRrY9CsNMC...</td>\n",
       "      <td>Find Your Way to Haven Apartment Homes Come ho...</td>\n",
       "      <td>33.3755</td>\n",
       "      <td>-86.8045</td>\n",
       "      <td>al</td>\n",
       "    </tr>\n",
       "  </tbody>\n",
       "</table>\n",
       "<p>2 rows × 22 columns</p>\n",
       "</div>"
      ],
      "text/plain": [
       "           id                                                url      region  \\\n",
       "0  7039061606  https://bham.craigslist.org/apa/d/birmingham-h...  birmingham   \n",
       "1  7041970863  https://bham.craigslist.org/apa/d/birmingham-w...  birmingham   \n",
       "\n",
       "                    region_url  price       type  sqfeet  beds  baths  \\\n",
       "0  https://bham.craigslist.org   1195  apartment    1908     3    2.0   \n",
       "1  https://bham.craigslist.org   1120  apartment    1319     3    2.0   \n",
       "\n",
       "   cats_allowed  ...  wheelchair_access  electric_vehicle_charge  \\\n",
       "0             1  ...                  0                        0   \n",
       "1             1  ...                  0                        0   \n",
       "\n",
       "   comes_furnished  laundry_options     parking_options  \\\n",
       "0                0  laundry on site      street parking   \n",
       "1                0  laundry on site  off-street parking   \n",
       "\n",
       "                                           image_url  \\\n",
       "0  https://images.craigslist.org/00L0L_80pNkyDeG0...   \n",
       "1  https://images.craigslist.org/00707_uRrY9CsNMC...   \n",
       "\n",
       "                                         description      lat     long  state  \n",
       "0  Apartments In Birmingham AL Welcome to 100 Inv...  33.4226 -86.7065     al  \n",
       "1  Find Your Way to Haven Apartment Homes Come ho...  33.3755 -86.8045     al  \n",
       "\n",
       "[2 rows x 22 columns]"
      ]
     },
     "execution_count": 3,
     "metadata": {},
     "output_type": "execute_result"
    }
   ],
   "source": [
    "df.head(2)"
   ]
  },
  {
   "cell_type": "code",
   "execution_count": 4,
   "id": "4c2b127d",
   "metadata": {},
   "outputs": [
    {
     "name": "stdout",
     "output_type": "stream",
     "text": [
      "<class 'pandas.core.frame.DataFrame'>\n",
      "RangeIndex: 265190 entries, 0 to 265189\n",
      "Data columns (total 22 columns):\n",
      " #   Column                   Non-Null Count   Dtype  \n",
      "---  ------                   --------------   -----  \n",
      " 0   id                       265190 non-null  int64  \n",
      " 1   url                      265190 non-null  object \n",
      " 2   region                   265190 non-null  object \n",
      " 3   region_url               265190 non-null  object \n",
      " 4   price                    265190 non-null  int64  \n",
      " 5   type                     265190 non-null  object \n",
      " 6   sqfeet                   265190 non-null  int64  \n",
      " 7   beds                     265190 non-null  int64  \n",
      " 8   baths                    265190 non-null  float64\n",
      " 9   cats_allowed             265190 non-null  int64  \n",
      " 10  dogs_allowed             265190 non-null  int64  \n",
      " 11  smoking_allowed          265190 non-null  int64  \n",
      " 12  wheelchair_access        265190 non-null  int64  \n",
      " 13  electric_vehicle_charge  265190 non-null  int64  \n",
      " 14  comes_furnished          265190 non-null  int64  \n",
      " 15  laundry_options          210879 non-null  object \n",
      " 16  parking_options          170055 non-null  object \n",
      " 17  image_url                265190 non-null  object \n",
      " 18  description              265188 non-null  object \n",
      " 19  lat                      263771 non-null  float64\n",
      " 20  long                     263771 non-null  float64\n",
      " 21  state                    265189 non-null  object \n",
      "dtypes: float64(3), int64(10), object(9)\n",
      "memory usage: 44.5+ MB\n"
     ]
    }
   ],
   "source": [
    "df.info()"
   ]
  },
  {
   "cell_type": "code",
   "execution_count": 5,
   "id": "572ec23a",
   "metadata": {},
   "outputs": [
    {
     "data": {
      "text/plain": [
       "id                             0\n",
       "url                            0\n",
       "region                         0\n",
       "region_url                     0\n",
       "price                          0\n",
       "type                           0\n",
       "sqfeet                         0\n",
       "beds                           0\n",
       "baths                          0\n",
       "cats_allowed                   0\n",
       "dogs_allowed                   0\n",
       "smoking_allowed                0\n",
       "wheelchair_access              0\n",
       "electric_vehicle_charge        0\n",
       "comes_furnished                0\n",
       "laundry_options            54311\n",
       "parking_options            95135\n",
       "image_url                      0\n",
       "description                    2\n",
       "lat                         1419\n",
       "long                        1419\n",
       "state                          1\n",
       "dtype: int64"
      ]
     },
     "execution_count": 5,
     "metadata": {},
     "output_type": "execute_result"
    }
   ],
   "source": [
    "df.isna().sum()"
   ]
  },
  {
   "cell_type": "markdown",
   "id": "c5989171",
   "metadata": {},
   "source": [
    "---"
   ]
  },
  {
   "cell_type": "markdown",
   "id": "0da56153",
   "metadata": {},
   "source": [
    "## Dropping columns and duplicates"
   ]
  },
  {
   "cell_type": "markdown",
   "id": "b1d9814e",
   "metadata": {},
   "source": [
    "#### Dropping Irrelevant Columns"
   ]
  },
  {
   "cell_type": "code",
   "execution_count": 6,
   "id": "8954cb08",
   "metadata": {},
   "outputs": [
    {
     "data": {
      "text/plain": [
       "Index(['id', 'url', 'region', 'region_url', 'price', 'type', 'sqfeet', 'beds',\n",
       "       'baths', 'cats_allowed', 'dogs_allowed', 'smoking_allowed',\n",
       "       'wheelchair_access', 'electric_vehicle_charge', 'comes_furnished',\n",
       "       'laundry_options', 'parking_options', 'image_url', 'description', 'lat',\n",
       "       'long', 'state'],\n",
       "      dtype='object')"
      ]
     },
     "execution_count": 6,
     "metadata": {},
     "output_type": "execute_result"
    }
   ],
   "source": [
    "df.columns"
   ]
  },
  {
   "cell_type": "code",
   "execution_count": 7,
   "id": "8d0f5c72",
   "metadata": {},
   "outputs": [],
   "source": [
    "df = df.drop(columns=[\"id\", \"url\", \"region_url\", \"image_url\"])"
   ]
  },
  {
   "cell_type": "markdown",
   "id": "0af08ccb",
   "metadata": {},
   "source": [
    "#### Dropping Duplicates"
   ]
  },
  {
   "cell_type": "code",
   "execution_count": 8,
   "id": "5358ff2c",
   "metadata": {},
   "outputs": [
    {
     "data": {
      "text/html": [
       "<div>\n",
       "<style scoped>\n",
       "    .dataframe tbody tr th:only-of-type {\n",
       "        vertical-align: middle;\n",
       "    }\n",
       "\n",
       "    .dataframe tbody tr th {\n",
       "        vertical-align: top;\n",
       "    }\n",
       "\n",
       "    .dataframe thead th {\n",
       "        text-align: right;\n",
       "    }\n",
       "</style>\n",
       "<table border=\"1\" class=\"dataframe\">\n",
       "  <thead>\n",
       "    <tr style=\"text-align: right;\">\n",
       "      <th></th>\n",
       "      <th>region</th>\n",
       "      <th>price</th>\n",
       "      <th>type</th>\n",
       "      <th>sqfeet</th>\n",
       "      <th>beds</th>\n",
       "      <th>baths</th>\n",
       "      <th>cats_allowed</th>\n",
       "      <th>dogs_allowed</th>\n",
       "      <th>smoking_allowed</th>\n",
       "      <th>wheelchair_access</th>\n",
       "      <th>electric_vehicle_charge</th>\n",
       "      <th>comes_furnished</th>\n",
       "      <th>laundry_options</th>\n",
       "      <th>parking_options</th>\n",
       "      <th>description</th>\n",
       "      <th>lat</th>\n",
       "      <th>long</th>\n",
       "      <th>state</th>\n",
       "    </tr>\n",
       "  </thead>\n",
       "  <tbody>\n",
       "    <tr>\n",
       "      <th>45</th>\n",
       "      <td>birmingham</td>\n",
       "      <td>659</td>\n",
       "      <td>apartment</td>\n",
       "      <td>890</td>\n",
       "      <td>2</td>\n",
       "      <td>1.0</td>\n",
       "      <td>1</td>\n",
       "      <td>1</td>\n",
       "      <td>1</td>\n",
       "      <td>0</td>\n",
       "      <td>0</td>\n",
       "      <td>0</td>\n",
       "      <td>laundry on site</td>\n",
       "      <td>NaN</td>\n",
       "      <td>Are you looking for a quiet place to call home...</td>\n",
       "      <td>33.6493</td>\n",
       "      <td>-86.7057</td>\n",
       "      <td>al</td>\n",
       "    </tr>\n",
       "    <tr>\n",
       "      <th>46</th>\n",
       "      <td>birmingham</td>\n",
       "      <td>659</td>\n",
       "      <td>apartment</td>\n",
       "      <td>890</td>\n",
       "      <td>2</td>\n",
       "      <td>1.0</td>\n",
       "      <td>1</td>\n",
       "      <td>1</td>\n",
       "      <td>1</td>\n",
       "      <td>0</td>\n",
       "      <td>0</td>\n",
       "      <td>0</td>\n",
       "      <td>laundry on site</td>\n",
       "      <td>NaN</td>\n",
       "      <td>Are you looking for a quiet place to call home...</td>\n",
       "      <td>33.6493</td>\n",
       "      <td>-86.7057</td>\n",
       "      <td>al</td>\n",
       "    </tr>\n",
       "  </tbody>\n",
       "</table>\n",
       "</div>"
      ],
      "text/plain": [
       "        region  price       type  sqfeet  beds  baths  cats_allowed  \\\n",
       "45  birmingham    659  apartment     890     2    1.0             1   \n",
       "46  birmingham    659  apartment     890     2    1.0             1   \n",
       "\n",
       "    dogs_allowed  smoking_allowed  wheelchair_access  electric_vehicle_charge  \\\n",
       "45             1                1                  0                        0   \n",
       "46             1                1                  0                        0   \n",
       "\n",
       "    comes_furnished  laundry_options parking_options  \\\n",
       "45                0  laundry on site             NaN   \n",
       "46                0  laundry on site             NaN   \n",
       "\n",
       "                                          description      lat     long state  \n",
       "45  Are you looking for a quiet place to call home...  33.6493 -86.7057    al  \n",
       "46  Are you looking for a quiet place to call home...  33.6493 -86.7057    al  "
      ]
     },
     "execution_count": 8,
     "metadata": {},
     "output_type": "execute_result"
    }
   ],
   "source": [
    "df[df.duplicated()].head(2)"
   ]
  },
  {
   "cell_type": "code",
   "execution_count": 9,
   "id": "6b004f98",
   "metadata": {},
   "outputs": [
    {
     "data": {
      "text/plain": [
       "47216"
      ]
     },
     "execution_count": 9,
     "metadata": {},
     "output_type": "execute_result"
    }
   ],
   "source": [
    "df.duplicated().sum()"
   ]
  },
  {
   "cell_type": "markdown",
   "id": "5b95c57d",
   "metadata": {},
   "source": [
    "lots of duplicated rows"
   ]
  },
  {
   "cell_type": "code",
   "execution_count": 10,
   "id": "22111c0c",
   "metadata": {},
   "outputs": [
    {
     "data": {
      "text/plain": [
       "265190"
      ]
     },
     "execution_count": 10,
     "metadata": {},
     "output_type": "execute_result"
    }
   ],
   "source": [
    "# before dropping duplicates\n",
    "df.shape[0]"
   ]
  },
  {
   "cell_type": "code",
   "execution_count": 11,
   "id": "b72e1130",
   "metadata": {},
   "outputs": [],
   "source": [
    "df = df.drop_duplicates(keep=\"first\")"
   ]
  },
  {
   "cell_type": "code",
   "execution_count": 12,
   "id": "a541c84b",
   "metadata": {},
   "outputs": [
    {
     "data": {
      "text/plain": [
       "217974"
      ]
     },
     "execution_count": 12,
     "metadata": {},
     "output_type": "execute_result"
    }
   ],
   "source": [
    "# after dropping duplicates\n",
    "df.shape[0]"
   ]
  },
  {
   "cell_type": "markdown",
   "id": "edada284",
   "metadata": {},
   "source": [
    "---"
   ]
  },
  {
   "cell_type": "markdown",
   "id": "65bb004f",
   "metadata": {},
   "source": [
    "## Outliers"
   ]
  },
  {
   "cell_type": "markdown",
   "id": "414ed3b7",
   "metadata": {},
   "source": [
    "price, sqfeet, beds, baths columns has outliers"
   ]
  },
  {
   "cell_type": "code",
   "execution_count": 13,
   "id": "1914e9de",
   "metadata": {},
   "outputs": [],
   "source": [
    "# storing the amount of rows before dropping any outliers\n",
    "w_outliers = df.shape[0]"
   ]
  },
  {
   "cell_type": "code",
   "execution_count": 14,
   "id": "6b11fbc7",
   "metadata": {},
   "outputs": [],
   "source": [
    "# creating some helper functions to use it in every feature\n",
    "\n",
    "def find_iqr_and_fences(df, feature):\n",
    "    iqr = df[feature].quantile(0.75) - df[feature].quantile(0.25)\n",
    "    upper_fence = df[feature].quantile(0.75) + 1.5 * iqr\n",
    "    lower_fence = df[feature].quantile(0.25) - 1.5 * iqr\n",
    "    \n",
    "    print(f\"{feature} feature's IQR: {iqr}\")    \n",
    "    print(f\"Samples above with value {upper_fence} should be dropped\")\n",
    "    print(f\"Amount of outliers detected in upper region: {df[df[feature] > upper_fence].shape[0]}\\n\")\n",
    "    \n",
    "    print(f\"Samples below with value {lower_fence} should be dropped\")\n",
    "    print(f\"Amount of outliers detected in lower region: {df[df[feature] < lower_fence].shape[0]}\")\n",
    "    \n",
    "    return lower_fence, upper_fence\n",
    "    \n",
    "def outlier_viz(df, feature):\n",
    "    print(df[feature].describe())\n",
    "    \n",
    "    fig, ax = plt.subplots(nrows=2, ncols=2, figsize=(12, 8), dpi=80)\n",
    "    \n",
    "    gs = ax[0, 0].get_gridspec()\n",
    "    # # remove the wanted axes\n",
    "    ax[0, 1].remove()\n",
    "\n",
    "    axwide = fig.add_subplot(gs[0, 0:])\n",
    "\n",
    "    axwide.boxplot(df[feature], vert=False)\n",
    "    axwide.set_title(f\"Box Plot of the {feature} feature\")\n",
    "\n",
    "    ax[1, 0].hist(df[feature])\n",
    "    ax[1, 0].set_title(f\"Histogram Plot of the {feature} feature\")\n",
    "\n",
    "    ax[1, 1].plot(df[feature].sort_values().reset_index().drop(\"index\", axis=1))\n",
    "    ax[1, 1].set_title(f\"Sorted Line Plot of the {feature} feature\");\n",
    "\n",
    "    plt.tight_layout()\n",
    "    plt.show()\n",
    "    "
   ]
  },
  {
   "cell_type": "markdown",
   "id": "f7e284bf",
   "metadata": {},
   "source": [
    "### price Feature"
   ]
  },
  {
   "cell_type": "code",
   "execution_count": 15,
   "id": "a926d35f",
   "metadata": {},
   "outputs": [
    {
     "name": "stdout",
     "output_type": "stream",
     "text": [
      "count    2.179740e+05\n",
      "mean     1.461851e+04\n",
      "std      5.929993e+06\n",
      "min      0.000000e+00\n",
      "25%      8.500000e+02\n",
      "50%      1.109000e+03\n",
      "75%      1.499000e+03\n",
      "max      2.768307e+09\n",
      "Name: price, dtype: float64\n"
     ]
    },
    {
     "data": {
      "image/png": "[encoded data removed]",
      "text/plain": [
       "<Figure size 960x640 with 4 Axes>"
      ]
     },
     "metadata": {
      "needs_background": "light"
     },
     "output_type": "display_data"
    }
   ],
   "source": [
    "# before dropping outliers\n",
    "outlier_viz(df, \"price\")"
   ]
  },
  {
   "cell_type": "markdown",
   "id": "c61fd6eb",
   "metadata": {},
   "source": [
    "minimum price of zero is concerning, therefore I am going to investigate the lower bound of this feature first"
   ]
  },
  {
   "cell_type": "code",
   "execution_count": 16,
   "id": "2b5216af",
   "metadata": {},
   "outputs": [
    {
     "data": {
      "text/plain": [
       "1735      0\n",
       "1741      0\n",
       "7049      0\n",
       "7286      0\n",
       "8171      0\n",
       "         ..\n",
       "264881    0\n",
       "265094    0\n",
       "265151    0\n",
       "265180    0\n",
       "265185    0\n",
       "Name: price, Length: 589, dtype: int64"
      ]
     },
     "execution_count": 16,
     "metadata": {},
     "output_type": "execute_result"
    }
   ],
   "source": [
    "df[df.price == 0].price"
   ]
  },
  {
   "cell_type": "code",
   "execution_count": 17,
   "id": "aefd30bd",
   "metadata": {
    "scrolled": true
   },
   "outputs": [
    {
     "data": {
      "text/plain": [
       "634       344\n",
       "635       300\n",
       "641       300\n",
       "643       344\n",
       "722       295\n",
       "         ... \n",
       "264965     55\n",
       "265094      0\n",
       "265151      0\n",
       "265180      0\n",
       "265185      0\n",
       "Name: price, Length: 2658, dtype: int64"
      ]
     },
     "execution_count": 17,
     "metadata": {},
     "output_type": "execute_result"
    }
   ],
   "source": [
    "# I set the lower bound to be 400 USD\n",
    "df[df.price < 400].price"
   ]
  },
  {
   "cell_type": "code",
   "execution_count": 18,
   "id": "b20daee9",
   "metadata": {},
   "outputs": [],
   "source": [
    "df = df[df.price >= 400]"
   ]
  },
  {
   "cell_type": "code",
   "execution_count": 19,
   "id": "8ddca2ed",
   "metadata": {},
   "outputs": [
    {
     "name": "stdout",
     "output_type": "stream",
     "text": [
      "price feature's IQR: 645.0\n",
      "Samples above with value 2467.5 should be dropped\n",
      "Amount of outliers detected in upper region: 11057\n",
      "\n",
      "Samples below with value -112.5 should be dropped\n",
      "Amount of outliers detected in lower region: 0\n"
     ]
    }
   ],
   "source": [
    "lower, upper = find_iqr_and_fences(df, \"price\")"
   ]
  },
  {
   "cell_type": "code",
   "execution_count": 20,
   "id": "bbcb70a1",
   "metadata": {},
   "outputs": [
    {
     "name": "stdout",
     "output_type": "stream",
     "text": [
      "count    204259.000000\n",
      "mean       1170.594304\n",
      "std         429.736004\n",
      "min         400.000000\n",
      "25%         849.000000\n",
      "50%        1090.000000\n",
      "75%        1425.000000\n",
      "max        2467.000000\n",
      "Name: price, dtype: float64\n"
     ]
    },
    {
     "data": {
      "image/png": "[encoded data removed]",
      "text/plain": [
       "<Figure size 960x640 with 4 Axes>"
      ]
     },
     "metadata": {
      "needs_background": "light"
     },
     "output_type": "display_data"
    }
   ],
   "source": [
    "# after dropping outliers\n",
    "df = df[df.price <= upper]\n",
    "outlier_viz(df, \"price\")"
   ]
  },
  {
   "cell_type": "markdown",
   "id": "6d4220a3",
   "metadata": {},
   "source": [
    "### sqfeet Feature"
   ]
  },
  {
   "cell_type": "code",
   "execution_count": 21,
   "id": "fbe4c04f",
   "metadata": {},
   "outputs": [
    {
     "name": "stdout",
     "output_type": "stream",
     "text": [
      "count    2.042590e+05\n",
      "mean     1.098807e+03\n",
      "std      2.608873e+04\n",
      "min      0.000000e+00\n",
      "25%      7.520000e+02\n",
      "50%      9.500000e+02\n",
      "75%      1.150000e+03\n",
      "max      8.388607e+06\n",
      "Name: sqfeet, dtype: float64\n"
     ]
    },
    {
     "data": {
      "image/png": "[encoded data removed]",
      "text/plain": [
       "<Figure size 960x640 with 4 Axes>"
      ]
     },
     "metadata": {
      "needs_background": "light"
     },
     "output_type": "display_data"
    }
   ],
   "source": [
    "# before dropping outliers\n",
    "outlier_viz(df, \"sqfeet\")"
   ]
  },
  {
   "cell_type": "code",
   "execution_count": 22,
   "id": "46e77869",
   "metadata": {},
   "outputs": [
    {
     "data": {
      "text/plain": [
       "423       230\n",
       "426       230\n",
       "681         1\n",
       "762       300\n",
       "765       300\n",
       "         ... \n",
       "264818    255\n",
       "264822    450\n",
       "264911    430\n",
       "264922      2\n",
       "265148    300\n",
       "Name: sqfeet, Length: 6289, dtype: int64"
      ]
     },
     "execution_count": 22,
     "metadata": {},
     "output_type": "execute_result"
    }
   ],
   "source": [
    "df[df.sqfeet < 500].sqfeet"
   ]
  },
  {
   "cell_type": "code",
   "execution_count": 23,
   "id": "4d0237fe",
   "metadata": {},
   "outputs": [],
   "source": [
    "df = df[df.sqfeet >= 500]"
   ]
  },
  {
   "cell_type": "code",
   "execution_count": 24,
   "id": "ea6591bc",
   "metadata": {},
   "outputs": [
    {
     "name": "stdout",
     "output_type": "stream",
     "text": [
      "sqfeet feature's IQR: 378.0\n",
      "Samples above with value 1720.0 should be dropped\n",
      "Amount of outliers detected in upper region: 7407\n",
      "\n",
      "Samples below with value 208.0 should be dropped\n",
      "Amount of outliers detected in lower region: 0\n"
     ]
    }
   ],
   "source": [
    "lower, upper = find_iqr_and_fences(df, \"sqfeet\")"
   ]
  },
  {
   "cell_type": "code",
   "execution_count": 25,
   "id": "db05c496",
   "metadata": {},
   "outputs": [],
   "source": [
    "df = df[(lower <= df.sqfeet) & (df.sqfeet <= upper)]"
   ]
  },
  {
   "cell_type": "code",
   "execution_count": 26,
   "id": "d8303fcc",
   "metadata": {},
   "outputs": [
    {
     "name": "stdout",
     "output_type": "stream",
     "text": [
      "count    190563.000000\n",
      "mean        964.325430\n",
      "std         255.417078\n",
      "min         500.000000\n",
      "25%         766.000000\n",
      "50%         950.000000\n",
      "75%        1121.000000\n",
      "max        1720.000000\n",
      "Name: sqfeet, dtype: float64\n"
     ]
    },
    {
     "data": {
      "image/png": "[encoded data removed]",
      "text/plain": [
       "<Figure size 960x640 with 4 Axes>"
      ]
     },
     "metadata": {
      "needs_background": "light"
     },
     "output_type": "display_data"
    }
   ],
   "source": [
    "# after dropping outliers\n",
    "outlier_viz(df, \"sqfeet\")"
   ]
  },
  {
   "cell_type": "markdown",
   "id": "130ecdcc",
   "metadata": {},
   "source": [
    "### beds Feature"
   ]
  },
  {
   "cell_type": "code",
   "execution_count": 27,
   "id": "99a89c83",
   "metadata": {},
   "outputs": [
    {
     "name": "stdout",
     "output_type": "stream",
     "text": [
      "count    190563.000000\n",
      "mean          1.868101\n",
      "std           2.633363\n",
      "min           0.000000\n",
      "25%           1.000000\n",
      "50%           2.000000\n",
      "75%           2.000000\n",
      "max        1100.000000\n",
      "Name: beds, dtype: float64\n"
     ]
    },
    {
     "data": {
      "image/png": "[encoded data removed]",
      "text/plain": [
       "<Figure size 960x640 with 4 Axes>"
      ]
     },
     "metadata": {
      "needs_background": "light"
     },
     "output_type": "display_data"
    }
   ],
   "source": [
    "# before dropping outliers\n",
    "outlier_viz(df, \"beds\")"
   ]
  },
  {
   "cell_type": "code",
   "execution_count": 28,
   "id": "276cdb10",
   "metadata": {},
   "outputs": [
    {
     "name": "stdout",
     "output_type": "stream",
     "text": [
      "beds feature's IQR: 1.0\n",
      "Samples above with value 3.5 should be dropped\n",
      "Amount of outliers detected in upper region: 3642\n",
      "\n",
      "Samples below with value -0.5 should be dropped\n",
      "Amount of outliers detected in lower region: 0\n"
     ]
    }
   ],
   "source": [
    "lower, upper = find_iqr_and_fences(df, \"beds\")"
   ]
  },
  {
   "cell_type": "code",
   "execution_count": 29,
   "id": "ca1133f6",
   "metadata": {},
   "outputs": [
    {
     "data": {
      "image/png": "[encoded data removed]",
      "text/plain": [
       "<Figure size 432x288 with 1 Axes>"
      ]
     },
     "metadata": {
      "needs_background": "light"
     },
     "output_type": "display_data"
    }
   ],
   "source": [
    "# checking if the upper bound is meaningful\n",
    "plt.hist(df[df.beds <= 10].beds);"
   ]
  },
  {
   "cell_type": "code",
   "execution_count": 30,
   "id": "20af5997",
   "metadata": {},
   "outputs": [],
   "source": [
    "# I am adjusting the upper bound to 5 on the contrast with 3.5 suggested from the outlier detector I implemented \n",
    "df = df[(lower <= df.beds) & (df.beds <= 5)]"
   ]
  },
  {
   "cell_type": "code",
   "execution_count": 31,
   "id": "d8f5d404",
   "metadata": {},
   "outputs": [
    {
     "name": "stdout",
     "output_type": "stream",
     "text": [
      "count    190554.000000\n",
      "mean          1.862155\n",
      "std           0.778255\n",
      "min           0.000000\n",
      "25%           1.000000\n",
      "50%           2.000000\n",
      "75%           2.000000\n",
      "max           5.000000\n",
      "Name: beds, dtype: float64\n"
     ]
    },
    {
     "data": {
      "image/png": "[encoded data removed]",
      "text/plain": [
       "<Figure size 960x640 with 4 Axes>"
      ]
     },
     "metadata": {
      "needs_background": "light"
     },
     "output_type": "display_data"
    }
   ],
   "source": [
    "# after dropping outliers\n",
    "outlier_viz(df, \"beds\")"
   ]
  },
  {
   "cell_type": "markdown",
   "id": "e944e229",
   "metadata": {},
   "source": [
    "### baths Feature"
   ]
  },
  {
   "cell_type": "code",
   "execution_count": 32,
   "id": "df3c205e",
   "metadata": {},
   "outputs": [
    {
     "name": "stdout",
     "output_type": "stream",
     "text": [
      "count    190554.000000\n",
      "mean          1.452675\n",
      "std           0.550348\n",
      "min           0.000000\n",
      "25%           1.000000\n",
      "50%           1.000000\n",
      "75%           2.000000\n",
      "max           5.000000\n",
      "Name: baths, dtype: float64\n"
     ]
    },
    {
     "data": {
      "image/png": "[encoded data removed]",
      "text/plain": [
       "<Figure size 960x640 with 4 Axes>"
      ]
     },
     "metadata": {
      "needs_background": "light"
     },
     "output_type": "display_data"
    }
   ],
   "source": [
    "outlier_viz(df, \"baths\")"
   ]
  },
  {
   "cell_type": "markdown",
   "id": "942c549e",
   "metadata": {},
   "source": [
    "- after all of the other outlier reductions, it seems that outliers in baths feature is also affected\n",
    "- we can skip baths feature due to this fact"
   ]
  },
  {
   "cell_type": "markdown",
   "id": "33f02b9a",
   "metadata": {},
   "source": [
    "#### Total amount of rows dropped during outliers reduction"
   ]
  },
  {
   "cell_type": "code",
   "execution_count": 34,
   "id": "81021e5d",
   "metadata": {},
   "outputs": [
    {
     "data": {
      "text/plain": [
       "27420"
      ]
     },
     "execution_count": 34,
     "metadata": {},
     "output_type": "execute_result"
    }
   ],
   "source": [
    "w_outliers - df.shape[0]"
   ]
  },
  {
   "cell_type": "code",
   "execution_count": 39,
   "id": "85fbb2fe",
   "metadata": {},
   "outputs": [
    {
     "name": "stdout",
     "output_type": "stream",
     "text": [
      "<class 'pandas.core.frame.DataFrame'>\n",
      "Index: 190554 entries, 1 to 265189\n",
      "Data columns (total 18 columns):\n",
      " #   Column                   Non-Null Count   Dtype  \n",
      "---  ------                   --------------   -----  \n",
      " 0   region                   190554 non-null  object \n",
      " 1   price                    190554 non-null  int64  \n",
      " 2   type                     190554 non-null  object \n",
      " 3   sqfeet                   190554 non-null  int64  \n",
      " 4   beds                     190554 non-null  int64  \n",
      " 5   baths                    190554 non-null  float64\n",
      " 6   cats_allowed             190554 non-null  int64  \n",
      " 7   dogs_allowed             190554 non-null  int64  \n",
      " 8   smoking_allowed          190554 non-null  int64  \n",
      " 9   wheelchair_access        190554 non-null  int64  \n",
      " 10  electric_vehicle_charge  190554 non-null  int64  \n",
      " 11  comes_furnished          190554 non-null  int64  \n",
      " 12  laundry_options          146715 non-null  object \n",
      " 13  parking_options          115228 non-null  object \n",
      " 14  description              190552 non-null  object \n",
      " 15  lat                      189586 non-null  float64\n",
      " 16  long                     189586 non-null  float64\n",
      " 17  state                    190553 non-null  object \n",
      "dtypes: float64(3), int64(9), object(6)\n",
      "memory usage: 27.6+ MB\n"
     ]
    }
   ],
   "source": [
    "df.info()"
   ]
  },
  {
   "cell_type": "markdown",
   "id": "4eb39c30",
   "metadata": {},
   "source": [
    "---"
   ]
  },
  {
   "cell_type": "markdown",
   "id": "63fec871",
   "metadata": {},
   "source": [
    "# Filling Null Values"
   ]
  },
  {
   "cell_type": "code",
   "execution_count": null,
   "id": "68fe88d7",
   "metadata": {},
   "outputs": [],
   "source": []
  }
 ],
 "metadata": {
  "kernelspec": {
   "display_name": "Python 3 (ipykernel)",
   "language": "python",
   "name": "python3"
  },
  "language_info": {
   "codemirror_mode": {
    "name": "ipython",
    "version": 3
   },
   "file_extension": ".py",
   "mimetype": "text/x-python",
   "name": "python",
   "nbconvert_exporter": "python",
   "pygments_lexer": "ipython3",
   "version": "3.9.7"
  }
 },
 "nbformat": 4,
 "nbformat_minor": 5
}
