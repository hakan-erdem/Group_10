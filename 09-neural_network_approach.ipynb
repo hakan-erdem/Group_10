{
 "cells": [
  {
   "cell_type": "code",
   "execution_count": 13,
   "metadata": {
    "application/vnd.databricks.v1+cell": {
     "cellMetadata": {
      "byteLimit": 2048000,
      "rowLimit": 10000
     },
     "inputWidgets": {},
     "nuid": "d8c7a742-d845-44fd-8fc3-4f7da83d9e29",
     "showTitle": false,
     "title": ""
    }
   },
   "outputs": [],
   "source": [
    "import numpy as np\n",
    "import pandas as pd\n",
    "import matplotlib.pyplot as plt\n",
    "from tqdm import tqdm\n",
    "\n",
    "from sklearn.model_selection import train_test_split\n",
    "from sklearn.preprocessing import MinMaxScaler\n",
    "from sklearn.metrics import mean_squared_error, mean_absolute_percentage_error, r2_score\n",
    "\n",
    "import torch\n",
    "from torch import nn, optim\n",
    "from torchvision import transforms, datasets\n",
    "from torch.utils.data import DataLoader, Dataset\n",
    "import torch.nn.functional as F\n",
    "from torchvision import utils"
   ]
  },
  {
   "cell_type": "markdown",
   "metadata": {
    "application/vnd.databricks.v1+cell": {
     "cellMetadata": {},
     "inputWidgets": {},
     "nuid": "253cc22d-da75-4ded-9fe4-1a638a69d7ad",
     "showTitle": false,
     "title": ""
    }
   },
   "source": [
    "# TODO\n",
    "- create a fully connected neural network with pytorch\n",
    "- check the performance of the model"
   ]
  },
  {
   "cell_type": "markdown",
   "metadata": {
    "application/vnd.databricks.v1+cell": {
     "cellMetadata": {},
     "inputWidgets": {},
     "nuid": "ba9db45b-4403-47e9-8720-1b023b6f6dc7",
     "showTitle": false,
     "title": ""
    }
   },
   "source": [
    "---"
   ]
  },
  {
   "cell_type": "markdown",
   "metadata": {
    "application/vnd.databricks.v1+cell": {
     "cellMetadata": {},
     "inputWidgets": {},
     "nuid": "e78ba4f2-865f-4ca7-9cb3-27d54267d8f0",
     "showTitle": false,
     "title": ""
    }
   },
   "source": [
    "## Load Data"
   ]
  },
  {
   "cell_type": "code",
   "execution_count": 14,
   "metadata": {
    "application/vnd.databricks.v1+cell": {
     "cellMetadata": {
      "byteLimit": 2048000,
      "rowLimit": 10000
     },
     "inputWidgets": {},
     "nuid": "d92c81bb-4eff-44db-8c9c-9323718c0f52",
     "showTitle": false,
     "title": ""
    }
   },
   "outputs": [
    {
     "name": "stdout",
     "output_type": "stream",
     "text": [
      "Shape of the train set: (156544, 18) (156544,)\n",
      "Shape of the test set: (39136, 18) (39136,)\n"
     ]
    }
   ],
   "source": [
    "train = pd.read_csv(\"datasets/main_ordinal_updated_train.csv\")\n",
    "test = pd.read_csv(\"datasets/main_ordinal_updated_test.csv\")\n",
    "\n",
    "X_train = train.drop(columns=[\"price\"])\n",
    "X_test = test.drop(columns=[\"price\"])\n",
    "\n",
    "y_train = train[\"price\"]\n",
    "y_test = test[\"price\"]\n",
    "\n",
    "scaler = MinMaxScaler()\n",
    "scaler.fit(X_train)\n",
    "X_train = scaler.transform(X_train)\n",
    "X_test = scaler.transform(X_test)\n",
    "\n",
    "print(f\"Shape of the train set: {X_train.shape} {y_train.shape}\")\n",
    "print(f\"Shape of the test set: {X_test.shape} {y_test.shape}\")"
   ]
  },
  {
   "cell_type": "code",
   "execution_count": 15,
   "metadata": {
    "application/vnd.databricks.v1+cell": {
     "cellMetadata": {
      "byteLimit": 2048000,
      "rowLimit": 10000
     },
     "inputWidgets": {},
     "nuid": "1baabec7-173b-4b73-9cc0-7b90ebe966d6",
     "showTitle": false,
     "title": ""
    }
   },
   "outputs": [],
   "source": [
    "# setting dataset for loader\n",
    "class HousingDataset(Dataset):\n",
    "    def __init__(self, data, label):\n",
    "        super().__init__()\n",
    "        \n",
    "        self.data = data\n",
    "        self.label = label\n",
    "\n",
    "    def __getitem__(self, index):        \n",
    "        data_point = self.data[index].astype(np.float32)\n",
    "        data_label = self.label[index]\n",
    "        \n",
    "        return data_point, data_label\n",
    "\n",
    "    def __len__(self):\n",
    "        return self.data.shape[0]"
   ]
  },
  {
   "cell_type": "markdown",
   "metadata": {
    "application/vnd.databricks.v1+cell": {
     "cellMetadata": {},
     "inputWidgets": {},
     "nuid": "57215f0f-8ad6-4a4d-89e4-337b47cd2096",
     "showTitle": false,
     "title": ""
    }
   },
   "source": [
    "## Train and Eval functions"
   ]
  },
  {
   "cell_type": "code",
   "execution_count": 16,
   "metadata": {
    "application/vnd.databricks.v1+cell": {
     "cellMetadata": {
      "byteLimit": 2048000,
      "rowLimit": 10000
     },
     "inputWidgets": {},
     "nuid": "2b15812c-7065-4ada-9b4c-37f9468a77cd",
     "showTitle": false,
     "title": ""
    }
   },
   "outputs": [],
   "source": [
    "def train(network, optimizer, loss_fn, train_loader, device):\n",
    "    \n",
    "    for train_inputs, train_labels in tqdm(train_loader):\n",
    "\n",
    "        train_inputs = train_inputs.to(device)\n",
    "        train_labels = train_labels.reshape((-1,1)).to(device)\n",
    "\n",
    "        preds = network(train_inputs)\n",
    "        \n",
    "        loss = loss_fn(preds, train_labels.float())\n",
    "\n",
    "        optimizer.zero_grad() \n",
    "        loss.backward()\n",
    "        optimizer.step()\n",
    "\n",
    "    return loss.item()\n",
    "\n",
    "def evalf(network, test_loader, device):\n",
    "    \n",
    "    model_preds = []\n",
    "    true_labels = []\n",
    "    eval_info = {}\n",
    "\n",
    "    with torch.no_grad():\n",
    "        for val_inputs, val_labels in tqdm(test_loader):\n",
    "\n",
    "            val_inputs = val_inputs.to(device)\n",
    "            val_labels = val_labels.reshape((-1,1)).to(device)\n",
    "            \n",
    "            preds = network(val_inputs)\n",
    " \n",
    "            model_preds += preds.detach().cpu().numpy().astype(int).tolist()\n",
    "            true_labels += val_labels.detach().cpu().numpy().tolist()\n",
    "  \n",
    "    eval_info[\"model_preds\"] = model_preds\n",
    "    eval_info[\"true_labels\"] = true_labels\n",
    "    \n",
    "    return eval_info"
   ]
  },
  {
   "cell_type": "markdown",
   "metadata": {
    "application/vnd.databricks.v1+cell": {
     "cellMetadata": {},
     "inputWidgets": {},
     "nuid": "8a11a2c0-d132-435e-8303-2195f759dd9e",
     "showTitle": false,
     "title": ""
    }
   },
   "source": [
    "## Set Network Utils"
   ]
  },
  {
   "cell_type": "code",
   "execution_count": 33,
   "metadata": {
    "application/vnd.databricks.v1+cell": {
     "cellMetadata": {
      "byteLimit": 2048000,
      "rowLimit": 10000
     },
     "inputWidgets": {},
     "nuid": "382eaa76-92eb-4785-9c25-52094c6bb37a",
     "showTitle": false,
     "title": ""
    }
   },
   "outputs": [],
   "source": [
    "class FCNN(nn.Module):\n",
    "    def __init__(self):\n",
    "        super(FCNN, self).__init__()\n",
    "\n",
    "        self.relu = nn.ReLU()\n",
    "        self.dropout = nn.Dropout(0.3)\n",
    "\n",
    "        self.linear1 = torch.nn.Linear(18, 64)\n",
    "        self.bn1 = nn.BatchNorm1d(64)\n",
    "        self.linear2 = torch.nn.Linear(64, 32)\n",
    "        self.bn2 = nn.BatchNorm1d(32)\n",
    "        self.linear3 = torch.nn.Linear(32, 1)\n",
    "\n",
    "    def forward(self, x):\n",
    "\n",
    "        x = self.linear1(x)\n",
    "        x = self.relu(self.bn1(x))\n",
    "        x = self.dropout(x)\n",
    "        x = self.linear2(x)\n",
    "        x = self.relu(self.bn2(x))\n",
    "        x = self.dropout(x)\n",
    "        x = self.linear3(x)\n",
    "\n",
    "        return x"
   ]
  },
  {
   "cell_type": "code",
   "execution_count": 38,
   "metadata": {
    "application/vnd.databricks.v1+cell": {
     "cellMetadata": {
      "byteLimit": 2048000,
      "rowLimit": 10000
     },
     "inputWidgets": {},
     "nuid": "b01852fe-d144-45ee-8592-dab07c2c834a",
     "showTitle": false,
     "title": ""
    }
   },
   "outputs": [],
   "source": [
    "device = \"cuda\" if torch.cuda.is_available() else \"cpu\"\n",
    "# device = \"cpu\"\n",
    "epochs = 15\n",
    "\n",
    "train_loader = DataLoader(HousingDataset(X_train, y_train), batch_size=64, shuffle=True)\n",
    "test_loader = DataLoader(HousingDataset(X_test, y_test), shuffle=False)\n",
    "\n",
    "net = FCNN().to(device)\n",
    "optimizer = optim.Adam(net.parameters())\n",
    "criterion = nn.MSELoss()"
   ]
  },
  {
   "cell_type": "markdown",
   "metadata": {
    "application/vnd.databricks.v1+cell": {
     "cellMetadata": {},
     "inputWidgets": {},
     "nuid": "bec93508-68be-4e3b-9a4e-650c8d31fe54",
     "showTitle": false,
     "title": ""
    }
   },
   "source": [
    "### Training"
   ]
  },
  {
   "cell_type": "code",
   "execution_count": 39,
   "metadata": {
    "application/vnd.databricks.v1+cell": {
     "cellMetadata": {
      "byteLimit": 2048000,
      "rowLimit": 10000
     },
     "inputWidgets": {},
     "nuid": "78adca3f-4544-4a0c-af76-feaed75a8b2e",
     "showTitle": false,
     "title": ""
    },
    "scrolled": false
   },
   "outputs": [
    {
     "name": "stderr",
     "output_type": "stream",
     "text": [
      "100%|█████████████████████████████████████████████████████████████████████████████| 2446/2446 [00:06<00:00, 373.30it/s]\n"
     ]
    },
    {
     "name": "stdout",
     "output_type": "stream",
     "text": [
      "Epoch-1:\n",
      "Train Loss: 759.86018450765\n"
     ]
    },
    {
     "name": "stderr",
     "output_type": "stream",
     "text": [
      "100%|█████████████████████████████████████████████████████████████████████████████| 2446/2446 [00:06<00:00, 371.80it/s]\n"
     ]
    },
    {
     "name": "stdout",
     "output_type": "stream",
     "text": [
      "Epoch-2:\n",
      "Train Loss: 281.7677179433442\n"
     ]
    },
    {
     "name": "stderr",
     "output_type": "stream",
     "text": [
      "100%|█████████████████████████████████████████████████████████████████████████████| 2446/2446 [00:06<00:00, 353.14it/s]\n"
     ]
    },
    {
     "name": "stdout",
     "output_type": "stream",
     "text": [
      "Epoch-3:\n",
      "Train Loss: 247.1726212336229\n"
     ]
    },
    {
     "name": "stderr",
     "output_type": "stream",
     "text": [
      "100%|█████████████████████████████████████████████████████████████████████████████| 2446/2446 [00:06<00:00, 373.67it/s]\n"
     ]
    },
    {
     "name": "stdout",
     "output_type": "stream",
     "text": [
      "Epoch-4:\n",
      "Train Loss: 335.4914771644728\n"
     ]
    },
    {
     "name": "stderr",
     "output_type": "stream",
     "text": [
      "100%|█████████████████████████████████████████████████████████████████████████████| 2446/2446 [00:06<00:00, 358.40it/s]\n"
     ]
    },
    {
     "name": "stdout",
     "output_type": "stream",
     "text": [
      "Epoch-5:\n",
      "Train Loss: 276.99748983519686\n"
     ]
    },
    {
     "name": "stderr",
     "output_type": "stream",
     "text": [
      "100%|█████████████████████████████████████████████████████████████████████████████| 2446/2446 [00:06<00:00, 370.20it/s]\n"
     ]
    },
    {
     "name": "stdout",
     "output_type": "stream",
     "text": [
      "Epoch-6:\n",
      "Train Loss: 277.02374672579964\n"
     ]
    },
    {
     "name": "stderr",
     "output_type": "stream",
     "text": [
      "100%|█████████████████████████████████████████████████████████████████████████████| 2446/2446 [00:06<00:00, 370.63it/s]\n"
     ]
    },
    {
     "name": "stdout",
     "output_type": "stream",
     "text": [
      "Epoch-7:\n",
      "Train Loss: 319.5133262087827\n"
     ]
    },
    {
     "name": "stderr",
     "output_type": "stream",
     "text": [
      "100%|█████████████████████████████████████████████████████████████████████████████| 2446/2446 [00:06<00:00, 358.73it/s]\n"
     ]
    },
    {
     "name": "stdout",
     "output_type": "stream",
     "text": [
      "Epoch-8:\n",
      "Train Loss: 312.99229972556833\n"
     ]
    },
    {
     "name": "stderr",
     "output_type": "stream",
     "text": [
      "100%|█████████████████████████████████████████████████████████████████████████████| 2446/2446 [00:06<00:00, 361.76it/s]\n"
     ]
    },
    {
     "name": "stdout",
     "output_type": "stream",
     "text": [
      "Epoch-9:\n",
      "Train Loss: 271.68789538733597\n"
     ]
    },
    {
     "name": "stderr",
     "output_type": "stream",
     "text": [
      "100%|█████████████████████████████████████████████████████████████████████████████| 2446/2446 [00:06<00:00, 363.56it/s]\n"
     ]
    },
    {
     "name": "stdout",
     "output_type": "stream",
     "text": [
      "Epoch-10:\n",
      "Train Loss: 281.36078373682426\n"
     ]
    },
    {
     "name": "stderr",
     "output_type": "stream",
     "text": [
      "100%|█████████████████████████████████████████████████████████████████████████████| 2446/2446 [00:06<00:00, 361.26it/s]\n"
     ]
    },
    {
     "name": "stdout",
     "output_type": "stream",
     "text": [
      "Epoch-11:\n",
      "Train Loss: 293.2080106340889\n"
     ]
    },
    {
     "name": "stderr",
     "output_type": "stream",
     "text": [
      "100%|█████████████████████████████████████████████████████████████████████████████| 2446/2446 [00:06<00:00, 350.00it/s]\n"
     ]
    },
    {
     "name": "stdout",
     "output_type": "stream",
     "text": [
      "Epoch-12:\n",
      "Train Loss: 284.68100294452387\n"
     ]
    },
    {
     "name": "stderr",
     "output_type": "stream",
     "text": [
      "100%|█████████████████████████████████████████████████████████████████████████████| 2446/2446 [00:06<00:00, 355.00it/s]\n"
     ]
    },
    {
     "name": "stdout",
     "output_type": "stream",
     "text": [
      "Epoch-13:\n",
      "Train Loss: 310.1221281608263\n"
     ]
    },
    {
     "name": "stderr",
     "output_type": "stream",
     "text": [
      "100%|█████████████████████████████████████████████████████████████████████████████| 2446/2446 [00:07<00:00, 347.74it/s]\n"
     ]
    },
    {
     "name": "stdout",
     "output_type": "stream",
     "text": [
      "Epoch-14:\n",
      "Train Loss: 324.27968252729\n"
     ]
    },
    {
     "name": "stderr",
     "output_type": "stream",
     "text": [
      "100%|█████████████████████████████████████████████████████████████████████████████| 2446/2446 [00:06<00:00, 366.78it/s]\n"
     ]
    },
    {
     "name": "stdout",
     "output_type": "stream",
     "text": [
      "Epoch-15:\n",
      "Train Loss: 297.0472263588738\n"
     ]
    },
    {
     "name": "stderr",
     "output_type": "stream",
     "text": [
      "100%|██████████████████████████████████████████████████████████████████████████| 39136/39136 [00:31<00:00, 1249.08it/s]\n"
     ]
    }
   ],
   "source": [
    "train_losses = []\n",
    "\n",
    "net.train()\n",
    "\n",
    "for e in range(epochs):\n",
    "    l = train(net, optimizer, criterion, train_loader, device)\n",
    "    train_losses.append(l)\n",
    "\n",
    "    print(f\"Epoch-{e+1}:\")\n",
    "    print(f\"Train Loss: {np.sqrt(l)}\")\n",
    "\n",
    "    \n",
    "net.eval()    \n",
    "evals = evalf(net, test_loader, device)"
   ]
  },
  {
   "cell_type": "markdown",
   "metadata": {
    "application/vnd.databricks.v1+cell": {
     "cellMetadata": {},
     "inputWidgets": {},
     "nuid": "89b656ba-f1dd-4530-82e5-032422c74578",
     "showTitle": false,
     "title": ""
    }
   },
   "source": [
    "## Results"
   ]
  },
  {
   "cell_type": "code",
   "execution_count": 40,
   "metadata": {},
   "outputs": [
    {
     "data": {
      "image/png": "[encoded data removed]",
      "text/plain": [
       "<Figure size 640x480 with 1 Axes>"
      ]
     },
     "metadata": {},
     "output_type": "display_data"
    }
   ],
   "source": [
    "plt.figure()\n",
    "plt.plot(range(len(train_losses)), np.sqrt(train_losses))\n",
    "plt.title(\"Train Losses\")\n",
    "plt.show()"
   ]
  },
  {
   "cell_type": "markdown",
   "metadata": {},
   "source": [
    "## Results"
   ]
  },
  {
   "cell_type": "code",
   "execution_count": 41,
   "metadata": {
    "application/vnd.databricks.v1+cell": {
     "cellMetadata": {
      "byteLimit": 2048000,
      "rowLimit": 10000
     },
     "inputWidgets": {},
     "nuid": "286c99c4-a804-4dcf-afa0-953c1ca13277",
     "showTitle": false,
     "title": ""
    }
   },
   "outputs": [
    {
     "name": "stdout",
     "output_type": "stream",
     "text": [
      "RMSE: 262.5189179609881\n",
      "MAPE: 0.16799829119790471\n",
      "R2: 0.6132039604040762\n"
     ]
    }
   ],
   "source": [
    "print(\"RMSE:\", np.sqrt(mean_squared_error(evals[\"true_labels\"], evals[\"model_preds\"])))\n",
    "print(\"MAPE:\", mean_absolute_percentage_error(evals[\"true_labels\"], evals[\"model_preds\"]))\n",
    "print(\"R2:\", r2_score(evals[\"true_labels\"], evals[\"model_preds\"]))"
   ]
  }
 ],
 "metadata": {
  "application/vnd.databricks.v1+notebook": {
   "dashboards": [],
   "language": "python",
   "notebookMetadata": {
    "pythonIndentUnit": 4
   },
   "notebookName": "07-neural_network_approach",
   "widgets": {}
  },
  "kernelspec": {
   "display_name": "Python 3 (ipykernel)",
   "language": "python",
   "name": "python3"
  },
  "language_info": {
   "codemirror_mode": {
    "name": "ipython",
    "version": 3
   },
   "file_extension": ".py",
   "mimetype": "text/x-python",
   "name": "python",
   "nbconvert_exporter": "python",
   "pygments_lexer": "ipython3",
   "version": "3.9.16"
  }
 },
 "nbformat": 4,
 "nbformat_minor": 1
}
