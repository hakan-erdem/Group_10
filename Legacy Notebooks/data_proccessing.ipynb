{
 "cells": [
  {
   "cell_type": "code",
   "execution_count": 78,
   "id": "dd459654",
   "metadata": {},
   "outputs": [],
   "source": [
    "import numpy as np\n",
    "import pandas as pd\n",
    "import matplotlib.pyplot as plt\n",
    "import seaborn as sns\n",
    "\n",
    "from tqdm import tqdm\n",
    "import regex as re"
   ]
  },
  {
   "cell_type": "markdown",
   "id": "5fe2649a",
   "metadata": {},
   "source": [
    "# TODO\n",
    "- drop unnecessary columns\n",
    "- drop duplicates\n",
    "- manage outliers\n",
    "- manage null values\n",
    "---\n",
    "- combine cats and dogs in to a single column (pets_allowed maybe?)\n",
    "- encode 'region', 'type', 'laundry_options', 'parking_options', 'state' categorical features"
   ]
  },
  {
   "cell_type": "markdown",
   "id": "ccb10b0a",
   "metadata": {},
   "source": [
    "encoding \"region\" might be unnecessary, but we will see"
   ]
  },
  {
   "cell_type": "code",
   "execution_count": 79,
   "id": "bc0ca0be",
   "metadata": {},
   "outputs": [],
   "source": [
    "df = pd.read_csv(\"main_raw.csv\")"
   ]
  },
  {
   "cell_type": "code",
   "execution_count": 80,
   "id": "4f607cf8",
   "metadata": {},
   "outputs": [
    {
     "data": {
      "text/html": [
       "<div>\n",
       "<style scoped>\n",
       "    .dataframe tbody tr th:only-of-type {\n",
       "        vertical-align: middle;\n",
       "    }\n",
       "\n",
       "    .dataframe tbody tr th {\n",
       "        vertical-align: top;\n",
       "    }\n",
       "\n",
       "    .dataframe thead th {\n",
       "        text-align: right;\n",
       "    }\n",
       "</style>\n",
       "<table border=\"1\" class=\"dataframe\">\n",
       "  <thead>\n",
       "    <tr style=\"text-align: right;\">\n",
       "      <th></th>\n",
       "      <th>id</th>\n",
       "      <th>url</th>\n",
       "      <th>region</th>\n",
       "      <th>region_url</th>\n",
       "      <th>price</th>\n",
       "      <th>type</th>\n",
       "      <th>sqfeet</th>\n",
       "      <th>beds</th>\n",
       "      <th>baths</th>\n",
       "      <th>cats_allowed</th>\n",
       "      <th>...</th>\n",
       "      <th>wheelchair_access</th>\n",
       "      <th>electric_vehicle_charge</th>\n",
       "      <th>comes_furnished</th>\n",
       "      <th>laundry_options</th>\n",
       "      <th>parking_options</th>\n",
       "      <th>image_url</th>\n",
       "      <th>description</th>\n",
       "      <th>lat</th>\n",
       "      <th>long</th>\n",
       "      <th>state</th>\n",
       "    </tr>\n",
       "  </thead>\n",
       "  <tbody>\n",
       "    <tr>\n",
       "      <th>0</th>\n",
       "      <td>7039061606</td>\n",
       "      <td>https://bham.craigslist.org/apa/d/birmingham-h...</td>\n",
       "      <td>birmingham</td>\n",
       "      <td>https://bham.craigslist.org</td>\n",
       "      <td>1195</td>\n",
       "      <td>apartment</td>\n",
       "      <td>1908</td>\n",
       "      <td>3</td>\n",
       "      <td>2.0</td>\n",
       "      <td>1</td>\n",
       "      <td>...</td>\n",
       "      <td>0</td>\n",
       "      <td>0</td>\n",
       "      <td>0</td>\n",
       "      <td>laundry on site</td>\n",
       "      <td>street parking</td>\n",
       "      <td>https://images.craigslist.org/00L0L_80pNkyDeG0...</td>\n",
       "      <td>Apartments In Birmingham AL Welcome to 100 Inv...</td>\n",
       "      <td>33.4226</td>\n",
       "      <td>-86.7065</td>\n",
       "      <td>al</td>\n",
       "    </tr>\n",
       "    <tr>\n",
       "      <th>1</th>\n",
       "      <td>7041970863</td>\n",
       "      <td>https://bham.craigslist.org/apa/d/birmingham-w...</td>\n",
       "      <td>birmingham</td>\n",
       "      <td>https://bham.craigslist.org</td>\n",
       "      <td>1120</td>\n",
       "      <td>apartment</td>\n",
       "      <td>1319</td>\n",
       "      <td>3</td>\n",
       "      <td>2.0</td>\n",
       "      <td>1</td>\n",
       "      <td>...</td>\n",
       "      <td>0</td>\n",
       "      <td>0</td>\n",
       "      <td>0</td>\n",
       "      <td>laundry on site</td>\n",
       "      <td>off-street parking</td>\n",
       "      <td>https://images.craigslist.org/00707_uRrY9CsNMC...</td>\n",
       "      <td>Find Your Way to Haven Apartment Homes Come ho...</td>\n",
       "      <td>33.3755</td>\n",
       "      <td>-86.8045</td>\n",
       "      <td>al</td>\n",
       "    </tr>\n",
       "  </tbody>\n",
       "</table>\n",
       "<p>2 rows × 22 columns</p>\n",
       "</div>"
      ],
      "text/plain": [
       "           id                                                url      region  \\\n",
       "0  7039061606  https://bham.craigslist.org/apa/d/birmingham-h...  birmingham   \n",
       "1  7041970863  https://bham.craigslist.org/apa/d/birmingham-w...  birmingham   \n",
       "\n",
       "                    region_url  price       type  sqfeet  beds  baths  \\\n",
       "0  https://bham.craigslist.org   1195  apartment    1908     3    2.0   \n",
       "1  https://bham.craigslist.org   1120  apartment    1319     3    2.0   \n",
       "\n",
       "   cats_allowed  ...  wheelchair_access  electric_vehicle_charge  \\\n",
       "0             1  ...                  0                        0   \n",
       "1             1  ...                  0                        0   \n",
       "\n",
       "   comes_furnished  laundry_options     parking_options  \\\n",
       "0                0  laundry on site      street parking   \n",
       "1                0  laundry on site  off-street parking   \n",
       "\n",
       "                                           image_url  \\\n",
       "0  https://images.craigslist.org/00L0L_80pNkyDeG0...   \n",
       "1  https://images.craigslist.org/00707_uRrY9CsNMC...   \n",
       "\n",
       "                                         description      lat     long  state  \n",
       "0  Apartments In Birmingham AL Welcome to 100 Inv...  33.4226 -86.7065     al  \n",
       "1  Find Your Way to Haven Apartment Homes Come ho...  33.3755 -86.8045     al  \n",
       "\n",
       "[2 rows x 22 columns]"
      ]
     },
     "execution_count": 80,
     "metadata": {},
     "output_type": "execute_result"
    }
   ],
   "source": [
    "df.head(2)"
   ]
  },
  {
   "cell_type": "code",
   "execution_count": 81,
   "id": "79b98f77",
   "metadata": {},
   "outputs": [
    {
     "name": "stdout",
     "output_type": "stream",
     "text": [
      "<class 'pandas.core.frame.DataFrame'>\n",
      "RangeIndex: 265190 entries, 0 to 265189\n",
      "Data columns (total 22 columns):\n",
      " #   Column                   Non-Null Count   Dtype  \n",
      "---  ------                   --------------   -----  \n",
      " 0   id                       265190 non-null  int64  \n",
      " 1   url                      265190 non-null  object \n",
      " 2   region                   265190 non-null  object \n",
      " 3   region_url               265190 non-null  object \n",
      " 4   price                    265190 non-null  int64  \n",
      " 5   type                     265190 non-null  object \n",
      " 6   sqfeet                   265190 non-null  int64  \n",
      " 7   beds                     265190 non-null  int64  \n",
      " 8   baths                    265190 non-null  float64\n",
      " 9   cats_allowed             265190 non-null  int64  \n",
      " 10  dogs_allowed             265190 non-null  int64  \n",
      " 11  smoking_allowed          265190 non-null  int64  \n",
      " 12  wheelchair_access        265190 non-null  int64  \n",
      " 13  electric_vehicle_charge  265190 non-null  int64  \n",
      " 14  comes_furnished          265190 non-null  int64  \n",
      " 15  laundry_options          210879 non-null  object \n",
      " 16  parking_options          170055 non-null  object \n",
      " 17  image_url                265190 non-null  object \n",
      " 18  description              265188 non-null  object \n",
      " 19  lat                      263771 non-null  float64\n",
      " 20  long                     263771 non-null  float64\n",
      " 21  state                    265189 non-null  object \n",
      "dtypes: float64(3), int64(10), object(9)\n",
      "memory usage: 44.5+ MB\n"
     ]
    }
   ],
   "source": [
    "df.info()"
   ]
  },
  {
   "cell_type": "code",
   "execution_count": 82,
   "id": "87bf22a2",
   "metadata": {},
   "outputs": [
    {
     "data": {
      "text/plain": [
       "id                             0\n",
       "url                            0\n",
       "region                         0\n",
       "region_url                     0\n",
       "price                          0\n",
       "type                           0\n",
       "sqfeet                         0\n",
       "beds                           0\n",
       "baths                          0\n",
       "cats_allowed                   0\n",
       "dogs_allowed                   0\n",
       "smoking_allowed                0\n",
       "wheelchair_access              0\n",
       "electric_vehicle_charge        0\n",
       "comes_furnished                0\n",
       "laundry_options            54311\n",
       "parking_options            95135\n",
       "image_url                      0\n",
       "description                    2\n",
       "lat                         1419\n",
       "long                        1419\n",
       "state                          1\n",
       "dtype: int64"
      ]
     },
     "execution_count": 82,
     "metadata": {},
     "output_type": "execute_result"
    }
   ],
   "source": [
    "df.isna().sum()"
   ]
  },
  {
   "cell_type": "markdown",
   "id": "bc83af18",
   "metadata": {},
   "source": [
    "---"
   ]
  },
  {
   "cell_type": "markdown",
   "id": "dce5a87d",
   "metadata": {},
   "source": [
    "## Dropping columns and duplicates"
   ]
  },
  {
   "cell_type": "markdown",
   "id": "b1b1f414",
   "metadata": {},
   "source": [
    "#### Dropping Irrelevant Columns"
   ]
  },
  {
   "cell_type": "code",
   "execution_count": 83,
   "id": "c861b6d9",
   "metadata": {},
   "outputs": [
    {
     "data": {
      "text/plain": [
       "Index(['id', 'url', 'region', 'region_url', 'price', 'type', 'sqfeet', 'beds',\n",
       "       'baths', 'cats_allowed', 'dogs_allowed', 'smoking_allowed',\n",
       "       'wheelchair_access', 'electric_vehicle_charge', 'comes_furnished',\n",
       "       'laundry_options', 'parking_options', 'image_url', 'description', 'lat',\n",
       "       'long', 'state'],\n",
       "      dtype='object')"
      ]
     },
     "execution_count": 83,
     "metadata": {},
     "output_type": "execute_result"
    }
   ],
   "source": [
    "df.columns"
   ]
  },
  {
   "cell_type": "code",
   "execution_count": 84,
   "id": "4e7c2214",
   "metadata": {},
   "outputs": [],
   "source": [
    "df = df.drop(columns=[\"id\", \"url\", \"region_url\", \"image_url\"])"
   ]
  },
  {
   "cell_type": "markdown",
   "id": "e3e97c2e",
   "metadata": {},
   "source": [
    "#### Dropping Duplicates"
   ]
  },
  {
   "cell_type": "code",
   "execution_count": 85,
   "id": "6c6e39fd",
   "metadata": {},
   "outputs": [
    {
     "data": {
      "text/html": [
       "<div>\n",
       "<style scoped>\n",
       "    .dataframe tbody tr th:only-of-type {\n",
       "        vertical-align: middle;\n",
       "    }\n",
       "\n",
       "    .dataframe tbody tr th {\n",
       "        vertical-align: top;\n",
       "    }\n",
       "\n",
       "    .dataframe thead th {\n",
       "        text-align: right;\n",
       "    }\n",
       "</style>\n",
       "<table border=\"1\" class=\"dataframe\">\n",
       "  <thead>\n",
       "    <tr style=\"text-align: right;\">\n",
       "      <th></th>\n",
       "      <th>region</th>\n",
       "      <th>price</th>\n",
       "      <th>type</th>\n",
       "      <th>sqfeet</th>\n",
       "      <th>beds</th>\n",
       "      <th>baths</th>\n",
       "      <th>cats_allowed</th>\n",
       "      <th>dogs_allowed</th>\n",
       "      <th>smoking_allowed</th>\n",
       "      <th>wheelchair_access</th>\n",
       "      <th>electric_vehicle_charge</th>\n",
       "      <th>comes_furnished</th>\n",
       "      <th>laundry_options</th>\n",
       "      <th>parking_options</th>\n",
       "      <th>description</th>\n",
       "      <th>lat</th>\n",
       "      <th>long</th>\n",
       "      <th>state</th>\n",
       "    </tr>\n",
       "  </thead>\n",
       "  <tbody>\n",
       "    <tr>\n",
       "      <th>45</th>\n",
       "      <td>birmingham</td>\n",
       "      <td>659</td>\n",
       "      <td>apartment</td>\n",
       "      <td>890</td>\n",
       "      <td>2</td>\n",
       "      <td>1.0</td>\n",
       "      <td>1</td>\n",
       "      <td>1</td>\n",
       "      <td>1</td>\n",
       "      <td>0</td>\n",
       "      <td>0</td>\n",
       "      <td>0</td>\n",
       "      <td>laundry on site</td>\n",
       "      <td>NaN</td>\n",
       "      <td>Are you looking for a quiet place to call home...</td>\n",
       "      <td>33.6493</td>\n",
       "      <td>-86.7057</td>\n",
       "      <td>al</td>\n",
       "    </tr>\n",
       "    <tr>\n",
       "      <th>46</th>\n",
       "      <td>birmingham</td>\n",
       "      <td>659</td>\n",
       "      <td>apartment</td>\n",
       "      <td>890</td>\n",
       "      <td>2</td>\n",
       "      <td>1.0</td>\n",
       "      <td>1</td>\n",
       "      <td>1</td>\n",
       "      <td>1</td>\n",
       "      <td>0</td>\n",
       "      <td>0</td>\n",
       "      <td>0</td>\n",
       "      <td>laundry on site</td>\n",
       "      <td>NaN</td>\n",
       "      <td>Are you looking for a quiet place to call home...</td>\n",
       "      <td>33.6493</td>\n",
       "      <td>-86.7057</td>\n",
       "      <td>al</td>\n",
       "    </tr>\n",
       "  </tbody>\n",
       "</table>\n",
       "</div>"
      ],
      "text/plain": [
       "        region  price       type  sqfeet  beds  baths  cats_allowed  \\\n",
       "45  birmingham    659  apartment     890     2    1.0             1   \n",
       "46  birmingham    659  apartment     890     2    1.0             1   \n",
       "\n",
       "    dogs_allowed  smoking_allowed  wheelchair_access  electric_vehicle_charge  \\\n",
       "45             1                1                  0                        0   \n",
       "46             1                1                  0                        0   \n",
       "\n",
       "    comes_furnished  laundry_options parking_options  \\\n",
       "45                0  laundry on site             NaN   \n",
       "46                0  laundry on site             NaN   \n",
       "\n",
       "                                          description      lat     long state  \n",
       "45  Are you looking for a quiet place to call home...  33.6493 -86.7057    al  \n",
       "46  Are you looking for a quiet place to call home...  33.6493 -86.7057    al  "
      ]
     },
     "execution_count": 85,
     "metadata": {},
     "output_type": "execute_result"
    }
   ],
   "source": [
    "df[df.duplicated()].head(2)"
   ]
  },
  {
   "cell_type": "code",
   "execution_count": 86,
   "id": "ea7b743f",
   "metadata": {},
   "outputs": [
    {
     "data": {
      "text/plain": [
       "47216"
      ]
     },
     "execution_count": 86,
     "metadata": {},
     "output_type": "execute_result"
    }
   ],
   "source": [
    "df.duplicated().sum()"
   ]
  },
  {
   "cell_type": "markdown",
   "id": "3025293a",
   "metadata": {},
   "source": [
    "lots of duplicated rows"
   ]
  },
  {
   "cell_type": "code",
   "execution_count": 87,
   "id": "5e67f34d",
   "metadata": {},
   "outputs": [
    {
     "data": {
      "text/plain": [
       "265190"
      ]
     },
     "execution_count": 87,
     "metadata": {},
     "output_type": "execute_result"
    }
   ],
   "source": [
    "# before dropping duplicates\n",
    "df.shape[0]"
   ]
  },
  {
   "cell_type": "code",
   "execution_count": 88,
   "id": "6a25d8f8",
   "metadata": {},
   "outputs": [],
   "source": [
    "df = df.drop_duplicates(keep=\"first\")"
   ]
  },
  {
   "cell_type": "code",
   "execution_count": 89,
   "id": "fc5459e4",
   "metadata": {},
   "outputs": [
    {
     "data": {
      "text/plain": [
       "217974"
      ]
     },
     "execution_count": 89,
     "metadata": {},
     "output_type": "execute_result"
    }
   ],
   "source": [
    "# after dropping duplicates\n",
    "df.shape[0]"
   ]
  },
  {
   "cell_type": "markdown",
   "id": "04f35dcc",
   "metadata": {},
   "source": [
    "---"
   ]
  },
  {
   "cell_type": "markdown",
   "id": "d2bc14f4",
   "metadata": {},
   "source": [
    "## Outliers"
   ]
  },
  {
   "cell_type": "markdown",
   "id": "3e152fab",
   "metadata": {},
   "source": [
    "price, sqfeet, beds, baths columns has outliers"
   ]
  },
  {
   "cell_type": "code",
   "execution_count": 90,
   "id": "369eb58a",
   "metadata": {},
   "outputs": [],
   "source": [
    "# storing the amount of rows before dropping any outliers\n",
    "w_outliers = df.shape[0]"
   ]
  },
  {
   "cell_type": "code",
   "execution_count": 91,
   "id": "8fc86499",
   "metadata": {},
   "outputs": [],
   "source": [
    "# creating some helper functions to use it in every feature\n",
    "\n",
    "def find_iqr_and_fences(df, feature):\n",
    "    iqr = df[feature].quantile(0.75) - df[feature].quantile(0.25)\n",
    "    upper_fence = df[feature].quantile(0.75) + 1.5 * iqr\n",
    "    lower_fence = df[feature].quantile(0.25) - 1.5 * iqr\n",
    "    \n",
    "    print(f\"{feature} feature's IQR: {iqr}\")    \n",
    "    print(f\"Samples above with value {upper_fence} should be dropped\")\n",
    "    print(f\"Amount of outliers detected in upper region: {df[df[feature] > upper_fence].shape[0]}\\n\")\n",
    "    \n",
    "    print(f\"Samples below with value {lower_fence} should be dropped\")\n",
    "    print(f\"Amount of outliers detected in lower region: {df[df[feature] < lower_fence].shape[0]}\")\n",
    "    \n",
    "    return lower_fence, upper_fence\n",
    "    \n",
    "def outlier_viz(df, feature):\n",
    "    print(df[feature].describe())\n",
    "    \n",
    "    fig, ax = plt.subplots(nrows=2, ncols=2, figsize=(12, 8), dpi=80)\n",
    "    \n",
    "    gs = ax[0, 0].get_gridspec()\n",
    "    # # remove the wanted axes\n",
    "    ax[0, 1].remove()\n",
    "\n",
    "    axwide = fig.add_subplot(gs[0, 0:])\n",
    "\n",
    "    axwide.boxplot(df[feature], vert=False)\n",
    "    axwide.set_title(f\"Box Plot of the {feature} feature\")\n",
    "\n",
    "    ax[1, 0].hist(df[feature])\n",
    "    ax[1, 0].set_title(f\"Histogram Plot of the {feature} feature\")\n",
    "\n",
    "    ax[1, 1].plot(df[feature].sort_values().reset_index().drop(\"index\", axis=1), ls=\":\", lw=2)\n",
    "    ax[1, 1].set_title(f\"Quantile Like Plot of the {feature} feature\");\n",
    "\n",
    "    plt.tight_layout()\n",
    "    plt.show()\n",
    "    "
   ]
  },
  {
   "cell_type": "markdown",
   "id": "38d0dedd",
   "metadata": {},
   "source": [
    "### price Feature"
   ]
  },
  {
   "cell_type": "code",
   "execution_count": 92,
   "id": "66d06ccc",
   "metadata": {},
   "outputs": [
    {
     "name": "stdout",
     "output_type": "stream",
     "text": [
      "count    2.179740e+05\n",
      "mean     1.461851e+04\n",
      "std      5.929993e+06\n",
      "min      0.000000e+00\n",
      "25%      8.500000e+02\n",
      "50%      1.109000e+03\n",
      "75%      1.499000e+03\n",
      "max      2.768307e+09\n",
      "Name: price, dtype: float64\n"
     ]
    },
    {
     "data": {
      "image/png": "[encoded data removed]",
      "text/plain": [
       "<Figure size 960x640 with 4 Axes>"
      ]
     },
     "metadata": {
      "needs_background": "light"
     },
     "output_type": "display_data"
    }
   ],
   "source": [
    "# before dropping outliers\n",
    "outlier_viz(df, \"price\")"
   ]
  },
  {
   "cell_type": "markdown",
   "id": "d6ac0472",
   "metadata": {},
   "source": [
    "minimum price of zero is concerning, therefore I am going to investigate the lower bound of this feature first"
   ]
  },
  {
   "cell_type": "code",
   "execution_count": 93,
   "id": "0feb1fdb",
   "metadata": {},
   "outputs": [
    {
     "data": {
      "text/plain": [
       "1735      0\n",
       "1741      0\n",
       "7049      0\n",
       "7286      0\n",
       "8171      0\n",
       "         ..\n",
       "264881    0\n",
       "265094    0\n",
       "265151    0\n",
       "265180    0\n",
       "265185    0\n",
       "Name: price, Length: 589, dtype: int64"
      ]
     },
     "execution_count": 93,
     "metadata": {},
     "output_type": "execute_result"
    }
   ],
   "source": [
    "df[df.price == 0].price"
   ]
  },
  {
   "cell_type": "code",
   "execution_count": 94,
   "id": "a1bd6df6",
   "metadata": {
    "scrolled": true
   },
   "outputs": [
    {
     "data": {
      "text/plain": [
       "634       344\n",
       "635       300\n",
       "641       300\n",
       "643       344\n",
       "722       295\n",
       "         ... \n",
       "264965     55\n",
       "265094      0\n",
       "265151      0\n",
       "265180      0\n",
       "265185      0\n",
       "Name: price, Length: 2658, dtype: int64"
      ]
     },
     "execution_count": 94,
     "metadata": {},
     "output_type": "execute_result"
    }
   ],
   "source": [
    "# I set the lower bound to be 400 USD\n",
    "df[df.price < 400].price"
   ]
  },
  {
   "cell_type": "code",
   "execution_count": 95,
   "id": "97dd4893",
   "metadata": {},
   "outputs": [],
   "source": [
    "df = df[df.price >= 400]"
   ]
  },
  {
   "cell_type": "code",
   "execution_count": 96,
   "id": "15689ce9",
   "metadata": {},
   "outputs": [
    {
     "name": "stdout",
     "output_type": "stream",
     "text": [
      "price feature's IQR: 645.0\n",
      "Samples above with value 2467.5 should be dropped\n",
      "Amount of outliers detected in upper region: 11057\n",
      "\n",
      "Samples below with value -112.5 should be dropped\n",
      "Amount of outliers detected in lower region: 0\n"
     ]
    }
   ],
   "source": [
    "lower, upper = find_iqr_and_fences(df, \"price\")"
   ]
  },
  {
   "cell_type": "code",
   "execution_count": 97,
   "id": "68e7e86d",
   "metadata": {},
   "outputs": [
    {
     "name": "stdout",
     "output_type": "stream",
     "text": [
      "count    204259.000000\n",
      "mean       1170.594304\n",
      "std         429.736004\n",
      "min         400.000000\n",
      "25%         849.000000\n",
      "50%        1090.000000\n",
      "75%        1425.000000\n",
      "max        2467.000000\n",
      "Name: price, dtype: float64\n"
     ]
    },
    {
     "data": {
      "image/png": "[encoded data removed]",
      "text/plain": [
       "<Figure size 960x640 with 4 Axes>"
      ]
     },
     "metadata": {
      "needs_background": "light"
     },
     "output_type": "display_data"
    }
   ],
   "source": [
    "# after dropping outliers\n",
    "df = df[df.price <= upper]\n",
    "outlier_viz(df, \"price\")"
   ]
  },
  {
   "cell_type": "markdown",
   "id": "04a8f4cf",
   "metadata": {},
   "source": [
    "### sqfeet Feature"
   ]
  },
  {
   "cell_type": "code",
   "execution_count": 98,
   "id": "e87cef46",
   "metadata": {},
   "outputs": [
    {
     "name": "stdout",
     "output_type": "stream",
     "text": [
      "count    2.042590e+05\n",
      "mean     1.098807e+03\n",
      "std      2.608873e+04\n",
      "min      0.000000e+00\n",
      "25%      7.520000e+02\n",
      "50%      9.500000e+02\n",
      "75%      1.150000e+03\n",
      "max      8.388607e+06\n",
      "Name: sqfeet, dtype: float64\n"
     ]
    },
    {
     "data": {
      "image/png": "[encoded data removed]",
      "text/plain": [
       "<Figure size 960x640 with 4 Axes>"
      ]
     },
     "metadata": {
      "needs_background": "light"
     },
     "output_type": "display_data"
    }
   ],
   "source": [
    "# before dropping outliers\n",
    "outlier_viz(df, \"sqfeet\")"
   ]
  },
  {
   "cell_type": "code",
   "execution_count": 99,
   "id": "74915a11",
   "metadata": {},
   "outputs": [
    {
     "data": {
      "text/plain": [
       "423       230\n",
       "426       230\n",
       "681         1\n",
       "762       300\n",
       "765       300\n",
       "         ... \n",
       "264818    255\n",
       "264822    450\n",
       "264911    430\n",
       "264922      2\n",
       "265148    300\n",
       "Name: sqfeet, Length: 6289, dtype: int64"
      ]
     },
     "execution_count": 99,
     "metadata": {},
     "output_type": "execute_result"
    }
   ],
   "source": [
    "df[df.sqfeet < 500].sqfeet"
   ]
  },
  {
   "cell_type": "code",
   "execution_count": 100,
   "id": "083990f2",
   "metadata": {},
   "outputs": [],
   "source": [
    "df = df[df.sqfeet >= 500]"
   ]
  },
  {
   "cell_type": "code",
   "execution_count": 101,
   "id": "d94f1205",
   "metadata": {},
   "outputs": [
    {
     "name": "stdout",
     "output_type": "stream",
     "text": [
      "sqfeet feature's IQR: 378.0\n",
      "Samples above with value 1720.0 should be dropped\n",
      "Amount of outliers detected in upper region: 7407\n",
      "\n",
      "Samples below with value 208.0 should be dropped\n",
      "Amount of outliers detected in lower region: 0\n"
     ]
    }
   ],
   "source": [
    "lower, upper = find_iqr_and_fences(df, \"sqfeet\")"
   ]
  },
  {
   "cell_type": "code",
   "execution_count": 102,
   "id": "ab673440",
   "metadata": {},
   "outputs": [],
   "source": [
    "df = df[(lower <= df.sqfeet) & (df.sqfeet <= upper)]"
   ]
  },
  {
   "cell_type": "code",
   "execution_count": 103,
   "id": "f43600f3",
   "metadata": {},
   "outputs": [
    {
     "name": "stdout",
     "output_type": "stream",
     "text": [
      "count    190563.000000\n",
      "mean        964.325430\n",
      "std         255.417078\n",
      "min         500.000000\n",
      "25%         766.000000\n",
      "50%         950.000000\n",
      "75%        1121.000000\n",
      "max        1720.000000\n",
      "Name: sqfeet, dtype: float64\n"
     ]
    },
    {
     "data": {
      "image/png": "[encoded data removed]",
      "text/plain": [
       "<Figure size 960x640 with 4 Axes>"
      ]
     },
     "metadata": {
      "needs_background": "light"
     },
     "output_type": "display_data"
    }
   ],
   "source": [
    "# after dropping outliers\n",
    "outlier_viz(df, \"sqfeet\")"
   ]
  },
  {
   "cell_type": "markdown",
   "id": "0358c647",
   "metadata": {},
   "source": [
    "### beds Feature"
   ]
  },
  {
   "cell_type": "code",
   "execution_count": 104,
   "id": "b73a17fe",
   "metadata": {},
   "outputs": [
    {
     "name": "stdout",
     "output_type": "stream",
     "text": [
      "count    190563.000000\n",
      "mean          1.868101\n",
      "std           2.633363\n",
      "min           0.000000\n",
      "25%           1.000000\n",
      "50%           2.000000\n",
      "75%           2.000000\n",
      "max        1100.000000\n",
      "Name: beds, dtype: float64\n"
     ]
    },
    {
     "data": {
      "image/png": "[encoded data removed]",
      "text/plain": [
       "<Figure size 960x640 with 4 Axes>"
      ]
     },
     "metadata": {
      "needs_background": "light"
     },
     "output_type": "display_data"
    }
   ],
   "source": [
    "# before dropping outliers\n",
    "outlier_viz(df, \"beds\")"
   ]
  },
  {
   "cell_type": "code",
   "execution_count": 105,
   "id": "db89e2b8",
   "metadata": {},
   "outputs": [
    {
     "name": "stdout",
     "output_type": "stream",
     "text": [
      "beds feature's IQR: 1.0\n",
      "Samples above with value 3.5 should be dropped\n",
      "Amount of outliers detected in upper region: 3642\n",
      "\n",
      "Samples below with value -0.5 should be dropped\n",
      "Amount of outliers detected in lower region: 0\n"
     ]
    }
   ],
   "source": [
    "lower, upper = find_iqr_and_fences(df, \"beds\")"
   ]
  },
  {
   "cell_type": "code",
   "execution_count": 106,
   "id": "c701d416",
   "metadata": {},
   "outputs": [
    {
     "data": {
      "image/png": "[encoded data removed]",
      "text/plain": [
       "<Figure size 432x288 with 1 Axes>"
      ]
     },
     "metadata": {
      "needs_background": "light"
     },
     "output_type": "display_data"
    }
   ],
   "source": [
    "# checking if the upper bound is meaningful\n",
    "plt.hist(df[df.beds <= 10].beds);"
   ]
  },
  {
   "cell_type": "code",
   "execution_count": 107,
   "id": "1b4bebba",
   "metadata": {},
   "outputs": [],
   "source": [
    "# I am adjusting the upper bound to 5 on the contrast with 3.5 suggested from the outlier detector I implemented \n",
    "df = df[(lower <= df.beds) & (df.beds <= 5)]"
   ]
  },
  {
   "cell_type": "code",
   "execution_count": 108,
   "id": "3a8f914f",
   "metadata": {},
   "outputs": [
    {
     "name": "stdout",
     "output_type": "stream",
     "text": [
      "count    190554.000000\n",
      "mean          1.862155\n",
      "std           0.778255\n",
      "min           0.000000\n",
      "25%           1.000000\n",
      "50%           2.000000\n",
      "75%           2.000000\n",
      "max           5.000000\n",
      "Name: beds, dtype: float64\n"
     ]
    },
    {
     "data": {
      "image/png": "[encoded data removed]",
      "text/plain": [
       "<Figure size 960x640 with 4 Axes>"
      ]
     },
     "metadata": {
      "needs_background": "light"
     },
     "output_type": "display_data"
    }
   ],
   "source": [
    "# after dropping outliers\n",
    "outlier_viz(df, \"beds\")"
   ]
  },
  {
   "cell_type": "markdown",
   "id": "76587e67",
   "metadata": {},
   "source": [
    "### baths Feature"
   ]
  },
  {
   "cell_type": "code",
   "execution_count": 109,
   "id": "f9d3e793",
   "metadata": {},
   "outputs": [
    {
     "data": {
      "text/plain": [
       "baths\n",
       "1.0    99817\n",
       "2.0    69029\n",
       "1.5    13302\n",
       "2.5     4396\n",
       "3.0     1835\n",
       "0.0     1552\n",
       "4.0      545\n",
       "3.5       48\n",
       "4.5       16\n",
       "5.0       14\n",
       "Name: count, dtype: int64"
      ]
     },
     "execution_count": 109,
     "metadata": {},
     "output_type": "execute_result"
    }
   ],
   "source": [
    "df.baths.value_counts()"
   ]
  },
  {
   "cell_type": "markdown",
   "id": "909273b8",
   "metadata": {},
   "source": [
    "there are floating points"
   ]
  },
  {
   "cell_type": "code",
   "execution_count": 110,
   "id": "7940f52d",
   "metadata": {},
   "outputs": [],
   "source": [
    "df.baths = df.baths.apply(np.ceil).astype(int)"
   ]
  },
  {
   "cell_type": "code",
   "execution_count": 111,
   "id": "5e38eba7",
   "metadata": {},
   "outputs": [
    {
     "name": "stdout",
     "output_type": "stream",
     "text": [
      "count    190554.000000\n",
      "mean          1.499281\n",
      "std           0.593507\n",
      "min           0.000000\n",
      "25%           1.000000\n",
      "50%           1.000000\n",
      "75%           2.000000\n",
      "max           5.000000\n",
      "Name: baths, dtype: float64\n"
     ]
    },
    {
     "data": {
      "image/png": "[encoded data removed]",
      "text/plain": [
       "<Figure size 960x640 with 4 Axes>"
      ]
     },
     "metadata": {
      "needs_background": "light"
     },
     "output_type": "display_data"
    }
   ],
   "source": [
    "outlier_viz(df, \"baths\")"
   ]
  },
  {
   "cell_type": "markdown",
   "id": "62793e9f",
   "metadata": {},
   "source": [
    "- after all of the other outlier reductions, it seems that outliers in baths feature is also affected\n",
    "- we can skip baths feature due to this fact"
   ]
  },
  {
   "cell_type": "markdown",
   "id": "f66674a5",
   "metadata": {},
   "source": [
    "#### Total amount of rows dropped during outliers reduction"
   ]
  },
  {
   "cell_type": "code",
   "execution_count": 112,
   "id": "3c81be30",
   "metadata": {},
   "outputs": [
    {
     "data": {
      "text/plain": [
       "27420"
      ]
     },
     "execution_count": 112,
     "metadata": {},
     "output_type": "execute_result"
    }
   ],
   "source": [
    "w_outliers - df.shape[0]"
   ]
  },
  {
   "cell_type": "code",
   "execution_count": 113,
   "id": "a8e812f1",
   "metadata": {},
   "outputs": [
    {
     "name": "stdout",
     "output_type": "stream",
     "text": [
      "<class 'pandas.core.frame.DataFrame'>\n",
      "Index: 190554 entries, 1 to 265189\n",
      "Data columns (total 18 columns):\n",
      " #   Column                   Non-Null Count   Dtype  \n",
      "---  ------                   --------------   -----  \n",
      " 0   region                   190554 non-null  object \n",
      " 1   price                    190554 non-null  int64  \n",
      " 2   type                     190554 non-null  object \n",
      " 3   sqfeet                   190554 non-null  int64  \n",
      " 4   beds                     190554 non-null  int64  \n",
      " 5   baths                    190554 non-null  int32  \n",
      " 6   cats_allowed             190554 non-null  int64  \n",
      " 7   dogs_allowed             190554 non-null  int64  \n",
      " 8   smoking_allowed          190554 non-null  int64  \n",
      " 9   wheelchair_access        190554 non-null  int64  \n",
      " 10  electric_vehicle_charge  190554 non-null  int64  \n",
      " 11  comes_furnished          190554 non-null  int64  \n",
      " 12  laundry_options          146715 non-null  object \n",
      " 13  parking_options          115228 non-null  object \n",
      " 14  description              190552 non-null  object \n",
      " 15  lat                      189586 non-null  float64\n",
      " 16  long                     189586 non-null  float64\n",
      " 17  state                    190553 non-null  object \n",
      "dtypes: float64(2), int32(1), int64(9), object(6)\n",
      "memory usage: 26.9+ MB\n"
     ]
    }
   ],
   "source": [
    "df.info()"
   ]
  },
  {
   "cell_type": "markdown",
   "id": "e8a267fb",
   "metadata": {},
   "source": [
    "---"
   ]
  },
  {
   "cell_type": "markdown",
   "id": "e92735f6",
   "metadata": {},
   "source": [
    "## Filling Null Values"
   ]
  },
  {
   "cell_type": "code",
   "execution_count": 114,
   "id": "c4cbe06c",
   "metadata": {},
   "outputs": [
    {
     "data": {
      "text/plain": [
       "region                         0\n",
       "price                          0\n",
       "type                           0\n",
       "sqfeet                         0\n",
       "beds                           0\n",
       "baths                          0\n",
       "cats_allowed                   0\n",
       "dogs_allowed                   0\n",
       "smoking_allowed                0\n",
       "wheelchair_access              0\n",
       "electric_vehicle_charge        0\n",
       "comes_furnished                0\n",
       "laundry_options            43839\n",
       "parking_options            75326\n",
       "description                    2\n",
       "lat                          968\n",
       "long                         968\n",
       "state                          1\n",
       "dtype: int64"
      ]
     },
     "execution_count": 114,
     "metadata": {},
     "output_type": "execute_result"
    }
   ],
   "source": [
    "df.isna().sum()"
   ]
  },
  {
   "cell_type": "code",
   "execution_count": 115,
   "id": "f5a11e00",
   "metadata": {},
   "outputs": [
    {
     "data": {
      "text/plain": [
       "region                     0.000000\n",
       "price                      0.000000\n",
       "type                       0.000000\n",
       "sqfeet                     0.000000\n",
       "beds                       0.000000\n",
       "baths                      0.000000\n",
       "cats_allowed               0.000000\n",
       "dogs_allowed               0.000000\n",
       "smoking_allowed            0.000000\n",
       "wheelchair_access          0.000000\n",
       "electric_vehicle_charge    0.000000\n",
       "comes_furnished            0.000000\n",
       "laundry_options            0.230061\n",
       "parking_options            0.395300\n",
       "description                0.000010\n",
       "lat                        0.005080\n",
       "long                       0.005080\n",
       "state                      0.000005\n",
       "dtype: float64"
      ]
     },
     "execution_count": 115,
     "metadata": {},
     "output_type": "execute_result"
    }
   ],
   "source": [
    "df.isna().sum() / df.shape[0]"
   ]
  },
  {
   "cell_type": "markdown",
   "id": "ad8e56d5",
   "metadata": {},
   "source": [
    "- almost 40% of the parking_options feature is missing, which is concerning"
   ]
  },
  {
   "cell_type": "markdown",
   "id": "7e919f9c",
   "metadata": {},
   "source": [
    "#### Method for filling\n",
    "- find the average price for each class\n",
    "- fill the nulls according to the label that has the closest average price"
   ]
  },
  {
   "cell_type": "code",
   "execution_count": 116,
   "id": "fcc03f97",
   "metadata": {},
   "outputs": [],
   "source": [
    "def fill_nulls(feature):\n",
    "    null_indexes = df[df[feature].isna()][[feature]].index\n",
    "    lookup = df[[\"price\", feature]].groupby(feature).mean().price\n",
    "    \n",
    "    print(lookup)\n",
    "\n",
    "    for idx in tqdm(null_indexes):\n",
    "        closest_label_idx = (lookup - df.loc[idx, \"price\"]).apply(abs).argmin()\n",
    "        df.loc[idx, feature] = lookup.index[closest_label_idx]"
   ]
  },
  {
   "cell_type": "code",
   "execution_count": 117,
   "id": "b7ffbb26",
   "metadata": {},
   "outputs": [],
   "source": [
    "def show_analysis(feature):\n",
    "    counts = df[feature].value_counts()\n",
    "    print(counts)\n",
    "    df[df[feature].isna()][feature]\n",
    "    \n",
    "    return counts"
   ]
  },
  {
   "cell_type": "markdown",
   "id": "82963854",
   "metadata": {},
   "source": [
    "### laundry_options"
   ]
  },
  {
   "cell_type": "code",
   "execution_count": 118,
   "id": "f2c0381f",
   "metadata": {},
   "outputs": [
    {
     "name": "stdout",
     "output_type": "stream",
     "text": [
      "laundry_options\n",
      "w/d in unit           66539\n",
      "w/d hookups           35162\n",
      "laundry on site       24262\n",
      "laundry in bldg       19088\n",
      "no laundry on site     1664\n",
      "Name: count, dtype: int64\n"
     ]
    }
   ],
   "source": [
    "before_counts = show_analysis(\"laundry_options\")"
   ]
  },
  {
   "cell_type": "code",
   "execution_count": 119,
   "id": "3f00423b",
   "metadata": {},
   "outputs": [
    {
     "name": "stdout",
     "output_type": "stream",
     "text": [
      "laundry_options\n",
      "laundry in bldg       1031.611431\n",
      "laundry on site       1073.958495\n",
      "no laundry on site     994.334736\n",
      "w/d hookups           1036.874524\n",
      "w/d in unit           1331.128286\n",
      "Name: price, dtype: float64\n"
     ]
    },
    {
     "name": "stderr",
     "output_type": "stream",
     "text": [
      "100%|██████████████████████████████████████████████████████████████████████████| 43839/43839 [00:24<00:00, 1802.69it/s]\n"
     ]
    }
   ],
   "source": [
    "fill_nulls(\"laundry_options\")"
   ]
  },
  {
   "cell_type": "code",
   "execution_count": 120,
   "id": "39425a9a",
   "metadata": {},
   "outputs": [
    {
     "name": "stdout",
     "output_type": "stream",
     "text": [
      "laundry_options\n",
      "w/d in unit           83087\n",
      "w/d hookups           35944\n",
      "laundry on site       29958\n",
      "no laundry on site    21638\n",
      "laundry in bldg       19927\n",
      "Name: count, dtype: int64\n"
     ]
    }
   ],
   "source": [
    "after_counts = show_analysis(\"laundry_options\")"
   ]
  },
  {
   "cell_type": "code",
   "execution_count": 121,
   "id": "13a93ef6",
   "metadata": {},
   "outputs": [
    {
     "data": {
      "text/plain": [
       "laundry_options\n",
       "laundry in bldg         839\n",
       "laundry on site        5696\n",
       "no laundry on site    19974\n",
       "w/d hookups             782\n",
       "w/d in unit           16548\n",
       "Name: count, dtype: int64"
      ]
     },
     "execution_count": 121,
     "metadata": {},
     "output_type": "execute_result"
    }
   ],
   "source": [
    "# how many fills are done in each classes\n",
    "after_counts - before_counts"
   ]
  },
  {
   "cell_type": "markdown",
   "id": "619b9915",
   "metadata": {},
   "source": [
    "### parking_options"
   ]
  },
  {
   "cell_type": "code",
   "execution_count": 122,
   "id": "905b666d",
   "metadata": {},
   "outputs": [
    {
     "name": "stdout",
     "output_type": "stream",
     "text": [
      "parking_options\n",
      "off-street parking    61037\n",
      "carport               19748\n",
      "attached garage       16194\n",
      "detached garage        9469\n",
      "street parking         7670\n",
      "no parking             1040\n",
      "valet parking            70\n",
      "Name: count, dtype: int64\n"
     ]
    }
   ],
   "source": [
    "before_counts = show_analysis(\"parking_options\")"
   ]
  },
  {
   "cell_type": "code",
   "execution_count": 123,
   "id": "eac74a52",
   "metadata": {},
   "outputs": [
    {
     "name": "stdout",
     "output_type": "stream",
     "text": [
      "parking_options\n",
      "attached garage       1440.189021\n",
      "carport               1309.145635\n",
      "detached garage       1267.157461\n",
      "no parking            1210.406731\n",
      "off-street parking    1061.935154\n",
      "street parking        1143.335072\n",
      "valet parking         1470.128571\n",
      "Name: price, dtype: float64\n"
     ]
    },
    {
     "name": "stderr",
     "output_type": "stream",
     "text": [
      "100%|██████████████████████████████████████████████████████████████████████████| 75326/75326 [00:43<00:00, 1746.13it/s]\n"
     ]
    }
   ],
   "source": [
    "fill_nulls(\"parking_options\")"
   ]
  },
  {
   "cell_type": "code",
   "execution_count": 124,
   "id": "f92636dd",
   "metadata": {},
   "outputs": [
    {
     "name": "stdout",
     "output_type": "stream",
     "text": [
      "parking_options\n",
      "off-street parking    100387\n",
      "carport                25125\n",
      "attached garage        20153\n",
      "valet parking          14617\n",
      "street parking         12511\n",
      "detached garage        12178\n",
      "no parking              5583\n",
      "Name: count, dtype: int64\n"
     ]
    }
   ],
   "source": [
    "after_counts = show_analysis(\"parking_options\")"
   ]
  },
  {
   "cell_type": "code",
   "execution_count": 125,
   "id": "60f57fd3",
   "metadata": {},
   "outputs": [
    {
     "data": {
      "text/plain": [
       "parking_options\n",
       "attached garage        3959\n",
       "carport                5377\n",
       "detached garage        2709\n",
       "no parking             4543\n",
       "off-street parking    39350\n",
       "street parking         4841\n",
       "valet parking         14547\n",
       "Name: count, dtype: int64"
      ]
     },
     "execution_count": 125,
     "metadata": {},
     "output_type": "execute_result"
    }
   ],
   "source": [
    "# how many fills are done in each classes\n",
    "after_counts - before_counts"
   ]
  },
  {
   "cell_type": "markdown",
   "id": "458487fc",
   "metadata": {},
   "source": [
    "### description"
   ]
  },
  {
   "cell_type": "code",
   "execution_count": 126,
   "id": "ba8cfb87",
   "metadata": {},
   "outputs": [],
   "source": [
    "# dropping them since it is only 2 values\n",
    "df = df.dropna(subset=\"description\")"
   ]
  },
  {
   "cell_type": "markdown",
   "id": "9db4fe97",
   "metadata": {},
   "source": [
    "### lat and long"
   ]
  },
  {
   "cell_type": "code",
   "execution_count": 127,
   "id": "0cb7faa9",
   "metadata": {},
   "outputs": [],
   "source": [
    "df[\"lat\"].fillna(df[\"lat\"].mean(), inplace=True)\n",
    "df[\"long\"].fillna(df[\"long\"].mean(), inplace=True)"
   ]
  },
  {
   "cell_type": "markdown",
   "id": "e2abcd69",
   "metadata": {},
   "source": [
    "### state"
   ]
  },
  {
   "cell_type": "code",
   "execution_count": 128,
   "id": "f6572da3",
   "metadata": {},
   "outputs": [],
   "source": [
    "# dropping since it is only 1 value\n",
    "df = df.dropna(subset=\"state\")"
   ]
  },
  {
   "cell_type": "markdown",
   "id": "ab8c8409",
   "metadata": {},
   "source": [
    "## Final state of the df"
   ]
  },
  {
   "cell_type": "code",
   "execution_count": 129,
   "id": "d02bc5ba",
   "metadata": {},
   "outputs": [
    {
     "data": {
      "text/plain": [
       "region                     0\n",
       "price                      0\n",
       "type                       0\n",
       "sqfeet                     0\n",
       "beds                       0\n",
       "baths                      0\n",
       "cats_allowed               0\n",
       "dogs_allowed               0\n",
       "smoking_allowed            0\n",
       "wheelchair_access          0\n",
       "electric_vehicle_charge    0\n",
       "comes_furnished            0\n",
       "laundry_options            0\n",
       "parking_options            0\n",
       "description                0\n",
       "lat                        0\n",
       "long                       0\n",
       "state                      0\n",
       "dtype: int64"
      ]
     },
     "execution_count": 129,
     "metadata": {},
     "output_type": "execute_result"
    }
   ],
   "source": [
    "df.isna().sum()"
   ]
  },
  {
   "cell_type": "markdown",
   "id": "f644ba67",
   "metadata": {},
   "source": [
    "---"
   ]
  },
  {
   "cell_type": "markdown",
   "id": "e048ad14",
   "metadata": {},
   "source": [
    "## Combining cats and dogs feature"
   ]
  },
  {
   "cell_type": "code",
   "execution_count": 130,
   "id": "ddf5274f",
   "metadata": {},
   "outputs": [],
   "source": [
    "df[\"pets_allowed\"] = df.cats_allowed | df.dogs_allowed\n",
    "df.drop(columns=[\"cats_allowed\",\"dogs_allowed\"], inplace=True)"
   ]
  },
  {
   "cell_type": "markdown",
   "id": "bfc29eab",
   "metadata": {},
   "source": [
    "## Creating new features from description column"
   ]
  },
  {
   "cell_type": "code",
   "execution_count": 131,
   "id": "76758b73",
   "metadata": {},
   "outputs": [
    {
     "name": "stderr",
     "output_type": "stream",
     "text": [
      "100%|████████████████████████████████████████████████████████████████████████| 190551/190551 [01:26<00:00, 2191.70it/s]\n"
     ]
    },
    {
     "data": {
      "text/plain": [
       "{'and': 1102565,\n",
       " '': 902069,\n",
       " 'the': 651302,\n",
       " 'to': 636259,\n",
       " 'a': 529566,\n",
       " 'in': 446101,\n",
       " 'with': 378210,\n",
       " 'of': 358628,\n",
       " 'â': 307630,\n",
       " 'our': 301699,\n",
       " 'for': 294496,\n",
       " 'at': 269286,\n",
       " 'is': 235406,\n",
       " 'you': 232122,\n",
       " 'community': 218052,\n",
       " 'contact': 217908,\n",
       " 'your': 214008,\n",
       " 'apartment': 210119,\n",
       " 'are': 195262,\n",
       " 'info': 184626,\n",
       " 'apartments': 183576,\n",
       " 'or': 178823,\n",
       " 'show': 178597,\n",
       " 'call': 166026,\n",
       " 'home': 163923,\n",
       " 'center': 152064,\n",
       " 'we': 148073,\n",
       " 'bedroom': 145364,\n",
       " 'pet': 135350,\n",
       " 'on': 134832,\n",
       " '2': 131558,\n",
       " 'from': 129896,\n",
       " 'pool': 121707,\n",
       " 'amenities': 113236,\n",
       " 'new': 110762,\n",
       " 'this': 110420,\n",
       " 'available': 106527,\n",
       " 'fitness': 103413,\n",
       " 'all': 102242,\n",
       " 'one': 101635,\n",
       " '1': 100509,\n",
       " 'rent': 100341,\n",
       " 'living': 99743,\n",
       " 'park': 98219,\n",
       " 'access': 97768,\n",
       " 'features': 97698,\n",
       " 'floor': 93745,\n",
       " 'more': 93426,\n",
       " 'two': 91741,\n",
       " 'today': 91499,\n",
       " 'homes': 90088,\n",
       " 'kitchen': 85153,\n",
       " 'area': 85006,\n",
       " 'located': 84536,\n",
       " 'room': 83029,\n",
       " 'by': 82232,\n",
       " 'spacious': 80605,\n",
       " 'an': 79320,\n",
       " 'parking': 79310,\n",
       " 'private': 79093,\n",
       " 'us': 77747,\n",
       " 'that': 75210,\n",
       " 'appliances': 75007,\n",
       " 'as': 74774,\n",
       " 'onsite': 74246,\n",
       " 'maintenance': 71922,\n",
       " 'have': 71660,\n",
       " 'large': 68240,\n",
       " 'shopping': 67365,\n",
       " 'laundry': 66110,\n",
       " 'closets': 64842,\n",
       " 'will': 64740,\n",
       " 'washer': 62266,\n",
       " 'housing': 61629,\n",
       " 'dryer': 60588,\n",
       " 'just': 60093,\n",
       " 'swimming': 59891,\n",
       " 'air': 59885,\n",
       " 'be': 59567,\n",
       " 'storage': 58334,\n",
       " 'enjoy': 58201,\n",
       " 'change': 57856,\n",
       " 'unit': 56450,\n",
       " 'bath': 55781,\n",
       " 'friendly': 55613,\n",
       " 'offer': 54557,\n",
       " 'no': 54147,\n",
       " 'minutes': 53787,\n",
       " 'has': 53573,\n",
       " 'pets': 53359,\n",
       " 'dining': 53165,\n",
       " 'clubhouse': 52680,\n",
       " 'subject': 52663,\n",
       " 'availability': 52233,\n",
       " 'offers': 51783,\n",
       " 'tour': 51717,\n",
       " 'lease': 51685,\n",
       " 'opportunity': 51571,\n",
       " 'dishwasher': 51525,\n",
       " 'close': 51114,\n",
       " 'beautiful': 51106,\n",
       " 'deposit': 50681,\n",
       " 'welcome': 49606,\n",
       " 'space': 49354,\n",
       " 'free': 49169,\n",
       " 'location': 49111,\n",
       " '3': 48997,\n",
       " 'fee': 48004,\n",
       " 'please': 47715,\n",
       " 'now': 47264,\n",
       " 'online': 47082,\n",
       " 'office': 46712,\n",
       " 'walkin': 46548,\n",
       " 'management': 46140,\n",
       " 'property': 45514,\n",
       " 'plans': 44821,\n",
       " 'included': 44739,\n",
       " 'patio': 43601,\n",
       " 'ft': 43162,\n",
       " 'ceiling': 42929,\n",
       " 'easy': 42682,\n",
       " 'flooring': 42642,\n",
       " 'sq': 42635,\n",
       " 'closet': 42189,\n",
       " 'also': 42151,\n",
       " 'month': 42137,\n",
       " 'not': 42084,\n",
       " 'equal': 42004,\n",
       " 'bedrooms': 41834,\n",
       " 'units': 41740,\n",
       " 'can': 41555,\n",
       " 'apply': 41395,\n",
       " 'central': 40209,\n",
       " 'leasing': 39764,\n",
       " 'per': 39692,\n",
       " 'great': 39529,\n",
       " 'playground': 39434,\n",
       " 'select': 39402,\n",
       " 'business': 39245,\n",
       " 'balcony': 38137,\n",
       " 'come': 38057,\n",
       " 'find': 37965,\n",
       " 'downtown': 37563,\n",
       " 'dog': 37525,\n",
       " 'outdoor': 37383,\n",
       " 'court': 37279,\n",
       " 'full': 37176,\n",
       " 'refrigerator': 37094,\n",
       " 'residents': 36666,\n",
       " 'schedule': 36511,\n",
       " 'details': 36063,\n",
       " 'water': 35722,\n",
       " 'luxury': 35425,\n",
       " 'views': 35383,\n",
       " 'off': 35180,\n",
       " '24hour': 34639,\n",
       " 'only': 34294,\n",
       " 'information': 34150,\n",
       " 'stainless': 34118,\n",
       " 'open': 33780,\n",
       " 'bathroom': 33676,\n",
       " 'out': 33583,\n",
       " 'dogs': 33503,\n",
       " '24': 33427,\n",
       " 'steel': 33370,\n",
       " 'conditioning': 33336,\n",
       " 'application': 33316,\n",
       " 'visit': 33254,\n",
       " 'restaurants': 32414,\n",
       " 'it': 32225,\n",
       " 'washerdryer': 32101,\n",
       " 'place': 31932,\n",
       " 'resident': 31926,\n",
       " 'restrictions': 31638,\n",
       " 'pricing': 31452,\n",
       " 'ceilings': 31143,\n",
       " 'away': 30993,\n",
       " 'near': 30929,\n",
       " 'may': 30790,\n",
       " 'emergency': 30599,\n",
       " 'service': 30471,\n",
       " 'street': 30018,\n",
       " 'see': 29638,\n",
       " 'including': 29469,\n",
       " 'style': 29411,\n",
       " 'kitchens': 29292,\n",
       " 'each': 29231,\n",
       " 'view': 29195,\n",
       " 'hour': 29090,\n",
       " 'internet': 29002,\n",
       " 'entertainment': 28943,\n",
       " 'security': 28889,\n",
       " 'city': 28880,\n",
       " 'areas': 28739,\n",
       " 'granite': 28415,\n",
       " 'square': 28198,\n",
       " 'modern': 28163,\n",
       " 'three': 28144,\n",
       " 'garage': 28064,\n",
       " 'include': 27984,\n",
       " 'convenient': 27939,\n",
       " 'ready': 27582,\n",
       " 'cable': 27527,\n",
       " 'take': 27454,\n",
       " 'countertops': 27273,\n",
       " 'make': 27185,\n",
       " 'additional': 26948,\n",
       " 'best': 26885,\n",
       " 'time': 26831,\n",
       " 'heat': 26825,\n",
       " 'fans': 26807,\n",
       " 'wifi': 26784,\n",
       " 'walk': 26742,\n",
       " 'hours': 26727,\n",
       " 'allowed': 26664,\n",
       " 'microwave': 26429,\n",
       " 'up': 26421,\n",
       " 'fully': 26297,\n",
       " 'lounge': 26291,\n",
       " 'website': 26258,\n",
       " 'cats': 26139,\n",
       " 'gas': 26026,\n",
       " 'package': 25984,\n",
       " 'renovated': 25835,\n",
       " 'utilities': 25766,\n",
       " 'wood': 25578,\n",
       " 'disposal': 25412,\n",
       " 'perfect': 25156,\n",
       " 'rental': 25128,\n",
       " 'facilities': 25085,\n",
       " 'floors': 25061,\n",
       " 'specials': 25051,\n",
       " 'managed': 24880,\n",
       " 'plan': 24750,\n",
       " 'about': 24492,\n",
       " 'walking': 24470,\n",
       " 'love': 24420,\n",
       " 'within': 24398,\n",
       " 'every': 24298,\n",
       " 'options': 24282,\n",
       " 'if': 24272,\n",
       " 'text': 24113,\n",
       " 'well': 24039,\n",
       " 'lifestyle': 23964,\n",
       " 'convenience': 23878,\n",
       " 'tennis': 23719,\n",
       " 'electric': 23624,\n",
       " 'move': 23514,\n",
       " 'covered': 23390,\n",
       " 'live': 23388,\n",
       " 'picnic': 23305,\n",
       " 'high': 23041,\n",
       " 'lake': 23040,\n",
       " 'bar': 23023,\n",
       " 'garbage': 22899,\n",
       " 'feature': 22811,\n",
       " 'right': 22624,\n",
       " 'station': 22408,\n",
       " 'pm': 22323,\n",
       " 'equipped': 21942,\n",
       " 'conveniently': 21941,\n",
       " 'fireplace': 21905,\n",
       " 'monthly': 21797,\n",
       " 'policy': 21667,\n",
       " 'hardwood': 21546,\n",
       " 'experience': 21087,\n",
       " 'university': 21042,\n",
       " 'village': 20880,\n",
       " 'any': 20853,\n",
       " 'sparkling': 20842,\n",
       " 'so': 20662,\n",
       " 'newly': 20639,\n",
       " 'prices': 20635,\n",
       " 'life': 20632,\n",
       " 'size': 20592,\n",
       " 'bathrooms': 20525,\n",
       " 'like': 20384,\n",
       " 'credit': 20221,\n",
       " 'building': 20109,\n",
       " 'some': 19931,\n",
       " 'breed': 19732,\n",
       " 'extra': 19542,\n",
       " 'throughout': 19536,\n",
       " 'garages': 19430,\n",
       " 'need': 19337,\n",
       " 'trash': 19297,\n",
       " 'north': 19248,\n",
       " 'school': 19238,\n",
       " 'professional': 19065,\n",
       " 'neighborhood': 19034,\n",
       " 'first': 19033,\n",
       " 'includes': 18988,\n",
       " 'here': 18961,\n",
       " 'patios': 18935,\n",
       " 'balconies': 18880,\n",
       " 'car': 18819,\n",
       " 'updated': 18732,\n",
       " 'short': 18696,\n",
       " 'am': 18668,\n",
       " 'windows': 18601,\n",
       " 'services': 18369,\n",
       " 'west': 18274,\n",
       " 'without': 18192,\n",
       " 'designed': 18100,\n",
       " 'comfort': 18035,\n",
       " 'where': 18022,\n",
       " 'controlled': 17894,\n",
       " 'studio': 17776,\n",
       " 'much': 17743,\n",
       " 'st': 17722,\n",
       " 'feet': 17675,\n",
       " 'do': 17662,\n",
       " 'drive': 17563,\n",
       " 'these': 17561,\n",
       " 'public': 17372,\n",
       " 'range': 17341,\n",
       " 'price': 17243,\n",
       " 'looking': 17194,\n",
       " 'than': 17122,\n",
       " 'payments': 17033,\n",
       " 'everything': 16913,\n",
       " 'connections': 16905,\n",
       " 'pools': 16897,\n",
       " 'terms': 16874,\n",
       " 'appointment': 16848,\n",
       " 'state': 16844,\n",
       " 'check': 16834,\n",
       " 'distance': 16832,\n",
       " 'quiet': 16780,\n",
       " 'youâll': 16734,\n",
       " 'get': 16670,\n",
       " 'tile': 16541,\n",
       " 'petfriendly': 16507,\n",
       " 'de': 16455,\n",
       " 'garden': 16441,\n",
       " 'spa': 16406,\n",
       " 'house': 16380,\n",
       " 'site': 16376,\n",
       " 'gated': 16347,\n",
       " 'many': 16282,\n",
       " 'youll': 16280,\n",
       " 'when': 16213,\n",
       " 'stop': 16144,\n",
       " 'there': 15953,\n",
       " 'staff': 15922,\n",
       " 'daily': 15835,\n",
       " '900am': 15779,\n",
       " 'months': 15634,\n",
       " 'stove': 15625,\n",
       " 'deck': 15554,\n",
       " 'its': 15531,\n",
       " 'other': 15511,\n",
       " 'town': 15439,\n",
       " 'income': 15398,\n",
       " 'entry': 15242,\n",
       " 'upgraded': 15173,\n",
       " 'brand': 15149,\n",
       " '500': 15149,\n",
       " 'care': 15146,\n",
       " 'beach': 15143,\n",
       " 'day': 15049,\n",
       " 'ca': 15037,\n",
       " 'master': 15026,\n",
       " 'notice': 14999,\n",
       " 'club': 14984,\n",
       " 'mall': 14967,\n",
       " 'such': 14921,\n",
       " '247': 14740,\n",
       " 'transportation': 14738,\n",
       " 'nearby': 14714,\n",
       " 'resortstyle': 14700,\n",
       " 'team': 14631,\n",
       " 'want': 14622,\n",
       " 'which': 14510,\n",
       " 'small': 14509,\n",
       " 'weight': 14455,\n",
       " 'townhomes': 14434,\n",
       " '12': 14423,\n",
       " 'hot': 14391,\n",
       " 'notes': 14354,\n",
       " 'term': 14261,\n",
       " 'creek': 14114,\n",
       " 'schools': 14065,\n",
       " 'carpet': 14051,\n",
       " 'featuring': 14046,\n",
       " 'approximately': 14035,\n",
       " 'family': 13994,\n",
       " 'heating': 13864,\n",
       " 'look': 13824,\n",
       " 'vaulted': 13814,\n",
       " 'unique': 13778,\n",
       " 'sun': 13775,\n",
       " 'breakfast': 13680,\n",
       " 'what': 13678,\n",
       " 'landscaping': 13657,\n",
       " 'most': 13651,\n",
       " 'sundeck': 13581,\n",
       " 'feel': 13566,\n",
       " 'major': 13536,\n",
       " 'window': 13371,\n",
       " 'special': 13366,\n",
       " 'basketball': 13305,\n",
       " 'tub': 13303,\n",
       " 'professionally': 13266,\n",
       " 'saturday': 13261,\n",
       " 'lighting': 13234,\n",
       " 'coffee': 13187,\n",
       " 'furnished': 13115,\n",
       " 'personal': 13074,\n",
       " 'must': 13053,\n",
       " 'bed': 12946,\n",
       " 'cabinets': 12944,\n",
       " 'grounds': 12942,\n",
       " 'beautifully': 12936,\n",
       " 'based': 12914,\n",
       " 'facility': 12899,\n",
       " 'energy': 12884,\n",
       " 'heart': 12835,\n",
       " 'bark': 12729,\n",
       " 'ridge': 12724,\n",
       " 'address': 12676,\n",
       " 'landscaped': 12638,\n",
       " 'phone': 12598,\n",
       " 'miles': 12577,\n",
       " 'cabinetry': 12554,\n",
       " 'road': 12529,\n",
       " 'monday': 12527,\n",
       " 'bbq': 12454,\n",
       " 'very': 12431,\n",
       " 'trails': 12380,\n",
       " '15': 12313,\n",
       " 'link': 12310,\n",
       " 'fees': 12302,\n",
       " 'district': 12275,\n",
       " 'green': 12252,\n",
       " 'bus': 12140,\n",
       " 'setting': 12131,\n",
       " 'while': 12044,\n",
       " 'plenty': 12039,\n",
       " 'choose': 12037,\n",
       " 'over': 11995,\n",
       " '1000': 11991,\n",
       " 'fan': 11982,\n",
       " 'parks': 11969,\n",
       " '600pm': 11962,\n",
       " 'work': 11942,\n",
       " 'courts': 11891,\n",
       " 'plus': 11886,\n",
       " 'relaxing': 11865,\n",
       " 'grilling': 11856,\n",
       " 'year': 11832,\n",
       " 'relax': 11828,\n",
       " 'book': 11825,\n",
       " 'resort': 11788,\n",
       " 'friday': 11699,\n",
       " 'hookups': 11660,\n",
       " 'river': 11655,\n",
       " 'cost': 11655,\n",
       " 'required': 11627,\n",
       " 'mountain': 11619,\n",
       " 'own': 11615,\n",
       " 'both': 11611,\n",
       " 'into': 11601,\n",
       " 'comfortable': 11522,\n",
       " 'door': 11502,\n",
       " 'through': 11489,\n",
       " 'fl': 11483,\n",
       " 'recreation': 11473,\n",
       " 'light': 11468,\n",
       " 'date': 11291,\n",
       " 'south': 11288,\n",
       " 'local': 11276,\n",
       " 'friends': 11257,\n",
       " 'needs': 11233,\n",
       " 'but': 11230,\n",
       " 'counter': 11199,\n",
       " 'threebedroom': 11181,\n",
       " 'sewer': 11169,\n",
       " '10': 11161,\n",
       " 'finishes': 11145,\n",
       " 'oversized': 11144,\n",
       " 'baths': 11118,\n",
       " 'description': 11093,\n",
       " 'front': 11074,\n",
       " 'courtyard': 11042,\n",
       " 'play': 11039,\n",
       " 'w': 10980,\n",
       " '5': 10897,\n",
       " 'bike': 10881,\n",
       " 'provides': 10822,\n",
       " 'system': 10660,\n",
       " 'pantry': 10647,\n",
       " 'stateoftheart': 10634,\n",
       " 'variety': 10591,\n",
       " 'college': 10591,\n",
       " 'rooms': 10574,\n",
       " 'gorgeous': 10574,\n",
       " 'carpeting': 10546,\n",
       " 'ac': 10524,\n",
       " 'back': 10505,\n",
       " 'spaces': 10487,\n",
       " 'luxurious': 10441,\n",
       " 'plank': 10416,\n",
       " 'offering': 10399,\n",
       " 'tv': 10373,\n",
       " 'natural': 10291,\n",
       " 'been': 10277,\n",
       " 'provide': 10186,\n",
       " 'stations': 10168,\n",
       " 'events': 10110,\n",
       " 'next': 10043,\n",
       " 'set': 10027,\n",
       " 'heated': 10021,\n",
       " 'social': 10018,\n",
       " 'grill': 10003,\n",
       " 'complete': 9988,\n",
       " 'cozy': 9933,\n",
       " 'blinds': 9928,\n",
       " '4': 9905,\n",
       " 'ask': 9880,\n",
       " 'separate': 9847,\n",
       " '9': 9830,\n",
       " 'yard': 9817,\n",
       " 'patiobalcony': 9746,\n",
       " 'sure': 9719,\n",
       " 'efficient': 9704,\n",
       " 'barbecue': 9699,\n",
       " 'gourmet': 9685,\n",
       " 'give': 9676,\n",
       " 'speed': 9656,\n",
       " 'grills': 9642,\n",
       " 'rates': 9638,\n",
       " 'black': 9625,\n",
       " 'affordable': 9611,\n",
       " '100': 9584,\n",
       " 'designer': 9551,\n",
       " 'fire': 9516,\n",
       " 'inside': 9504,\n",
       " 'along': 9500,\n",
       " 'builtin': 9440,\n",
       " 'ave': 9420,\n",
       " 'accessible': 9418,\n",
       " 'expansive': 9413,\n",
       " 'amazing': 9388,\n",
       " 'fixtures': 9368,\n",
       " 'remodeled': 9338,\n",
       " 'east': 9325,\n",
       " 'volleyball': 9308,\n",
       " 'fireplaces': 9305,\n",
       " 'limit': 9237,\n",
       " '900': 9221,\n",
       " 'residential': 9216,\n",
       " 'custom': 9181,\n",
       " 'godley': 9175,\n",
       " 'centers': 9135,\n",
       " 'nc': 9093,\n",
       " '25': 9070,\n",
       " 'quality': 9058,\n",
       " 'ample': 9042,\n",
       " 'valley': 9035,\n",
       " 'x': 9030,\n",
       " 'discover': 9027,\n",
       " 'ideal': 9017,\n",
       " 'around': 9000,\n",
       " 'attached': 9000,\n",
       " 'la': 8990,\n",
       " 'fullsize': 8956,\n",
       " 'game': 8951,\n",
       " '600': 8932,\n",
       " '25lb': 8929,\n",
       " 'pay': 8927,\n",
       " 'photos': 8872,\n",
       " 'pit': 8834,\n",
       " 'island': 8797,\n",
       " 'way': 8743,\n",
       " 'trail': 8737,\n",
       " 'hill': 8736,\n",
       " 'gym': 8731,\n",
       " 'interior': 8715,\n",
       " 'long': 8707,\n",
       " 'few': 8692,\n",
       " 'offered': 8692,\n",
       " 'outside': 8680,\n",
       " '500pm': 8671,\n",
       " 'tops': 8666,\n",
       " '1st': 8615,\n",
       " 'vinyl': 8582,\n",
       " 'fort': 8512,\n",
       " 'email': 8505,\n",
       " '6': 8478,\n",
       " 'interiors': 8467,\n",
       " 'stunning': 8450,\n",
       " 'movein': 8417,\n",
       " 'yourself': 8388,\n",
       " 'receiving': 8364,\n",
       " 'why': 8352,\n",
       " 'comes': 8342,\n",
       " 'lots': 8330,\n",
       " 'freeway': 8297,\n",
       " 'highway': 8274,\n",
       " 'ï': 8272,\n",
       " '300': 8261,\n",
       " 'showing': 8228,\n",
       " 'dryers': 8224,\n",
       " 'tenant': 8173,\n",
       " 'coverings': 8168,\n",
       " 'linen': 8148,\n",
       " 'top': 8124,\n",
       " 'control': 8083,\n",
       " 'shops': 8077,\n",
       " 'nonrefundable': 8014,\n",
       " 'rd': 8011,\n",
       " 'wonderful': 7987,\n",
       " 'grand': 7971,\n",
       " 'nice': 7930,\n",
       " 'type': 7924,\n",
       " 'lush': 7922,\n",
       " 'foot': 7920,\n",
       " 'florida': 7898,\n",
       " 'nh': 7895,\n",
       " 'less': 7872,\n",
       " 'historic': 7841,\n",
       " 'golf': 7806,\n",
       " '50': 7791,\n",
       " 'dont': 7766,\n",
       " 'me': 7761,\n",
       " 'dr': 7749,\n",
       " 'indoor': 7747,\n",
       " 'nestled': 7736,\n",
       " 'pointe': 7673,\n",
       " 'hills': 7650,\n",
       " 'go': 7593,\n",
       " 'inhome': 7582,\n",
       " 'exterior': 7562,\n",
       " 'built': 7540,\n",
       " 'detached': 7530,\n",
       " 'individual': 7514,\n",
       " 'offstreet': 7511,\n",
       " 'point': 7503,\n",
       " 'wash': 7496,\n",
       " 'name': 7495,\n",
       " 'plush': 7468,\n",
       " 'run': 7458,\n",
       " 'program': 7457,\n",
       " 'furry': 7448,\n",
       " 'theater': 7430,\n",
       " 'highspeed': 7425,\n",
       " 'paint': 7424,\n",
       " 'lot': 7404,\n",
       " 'communities': 7373,\n",
       " 'payment': 7367,\n",
       " 'discounts': 7363,\n",
       " 'huge': 7360,\n",
       " 'even': 7357,\n",
       " 'fenced': 7349,\n",
       " 'airport': 7282,\n",
       " 'help': 7281,\n",
       " 'after': 7279,\n",
       " 'floorplans': 7240,\n",
       " 'twobedroom': 7235,\n",
       " 'smoking': 7209,\n",
       " 'little': 7187,\n",
       " 'double': 7184,\n",
       " 'good': 7163,\n",
       " 'anytime': 7157,\n",
       " '8': 7136,\n",
       " 'main': 7133,\n",
       " 'art': 7101,\n",
       " '1000am': 7099,\n",
       " 'blvd': 7018,\n",
       " 'county': 6993,\n",
       " 'side': 6981,\n",
       " 'were': 6980,\n",
       " 'proximity': 6960,\n",
       " 'activities': 6949,\n",
       " 'quick': 6936,\n",
       " 'youre': 6930,\n",
       " 'carlyle': 6911,\n",
       " 'advantage': 6909,\n",
       " 'paid': 6905,\n",
       " 'excellent': 6895,\n",
       " '2020': 6880,\n",
       " '20': 6879,\n",
       " 'movie': 6867,\n",
       " 'level': 6854,\n",
       " 'doors': 6839,\n",
       " 'i': 6814,\n",
       " 'white': 6765,\n",
       " 'line': 6731,\n",
       " 'contemporary': 6724,\n",
       " 'crown': 6719,\n",
       " 'january': 6652,\n",
       " 'breeds': 6630,\n",
       " 'basement': 6629,\n",
       " 'ceramic': 6584,\n",
       " 'avenue': 6564,\n",
       " 'know': 6542,\n",
       " 'fit': 6539,\n",
       " 'second': 6537,\n",
       " 'how': 6530,\n",
       " 'wd': 6529,\n",
       " 'hospital': 6503,\n",
       " 'between': 6498,\n",
       " 'requests': 6486,\n",
       " 'md': 6479,\n",
       " 'tubs': 6462,\n",
       " 'meet': 6457,\n",
       " 'sunday': 6445,\n",
       " 'removal': 6444,\n",
       " 'springs': 6438,\n",
       " 'layouts': 6427,\n",
       " 'billiards': 6416,\n",
       " 'balconypatio': 6405,\n",
       " 'oven': 6402,\n",
       " 'shared': 6392,\n",
       " 'reserve': 6389,\n",
       " 'country': 6384,\n",
       " 'wall': 6369,\n",
       " 'mile': 6351,\n",
       " 'closed': 6350,\n",
       " 'coming': 6341,\n",
       " 'exceptional': 6326,\n",
       " 'shower': 6323,\n",
       " 'table': 6307,\n",
       " 'max': 6304,\n",
       " 'patrol': 6286,\n",
       " 'washers': 6283,\n",
       " 'their': 6278,\n",
       " 'combined': 6274,\n",
       " 'use': 6265,\n",
       " 'scenic': 6257,\n",
       " 'pays': 6235,\n",
       " 'last': 6206,\n",
       " 'peaceful': 6198,\n",
       " 'complimentary': 6190,\n",
       " 'oaks': 6156,\n",
       " 'cardio': 6136,\n",
       " 'generous': 6123,\n",
       " 'under': 6100,\n",
       " 'left': 6069,\n",
       " 'before': 6060,\n",
       " 'standard': 6059,\n",
       " 'lakes': 6052,\n",
       " 'stylish': 6047,\n",
       " 'mind': 6036,\n",
       " 'they': 6026,\n",
       " 'quartz': 6016,\n",
       " 'colorado': 5998,\n",
       " 'across': 5997,\n",
       " 'refreshing': 5994,\n",
       " 'sqft': 5962,\n",
       " 'molding': 5923,\n",
       " 'courtesy': 5917,\n",
       " 'would': 5912,\n",
       " 'youâre': 5909,\n",
       " 'leases': 5901,\n",
       " 'current': 5898,\n",
       " 'ma': 5875,\n",
       " 'situated': 5864,\n",
       " 'limited': 5849,\n",
       " 'premier': 5831,\n",
       " 'let': 5830,\n",
       " 'onto': 5830,\n",
       " 'makes': 5805,\n",
       " 'ice': 5785,\n",
       " 'appliance': 5780,\n",
       " 'upscale': 5772,\n",
       " 'those': 5755,\n",
       " 'campus': 5754,\n",
       " '35': 5753,\n",
       " 'conditioner': 5751,\n",
       " 'premium': 5749,\n",
       " 'georgia': 5732,\n",
       " 'inunit': 5723,\n",
       " 'assigned': 5716,\n",
       " 'serene': 5710,\n",
       " 'deserve': 5710,\n",
       " 'half': 5709,\n",
       " 'courtyards': 5704,\n",
       " 'insurance': 5703,\n",
       " 'below': 5698,\n",
       " 'poolside': 5676,\n",
       " 'being': 5675,\n",
       " 'appointments': 5643,\n",
       " 'suite': 5621,\n",
       " 'better': 5618,\n",
       " 'elevator': 5587,\n",
       " 'townhome': 5581,\n",
       " 'guest': 5580,\n",
       " 'charming': 5568,\n",
       " 'parkway': 5558,\n",
       " 'mi': 5550,\n",
       " 'buildings': 5542,\n",
       " 'oak': 5540,\n",
       " 'mondayfriday': 5539,\n",
       " 'start': 5539,\n",
       " 'entrance': 5539,\n",
       " 'flexible': 5538,\n",
       " 'stores': 5532,\n",
       " 'conveniences': 5525,\n",
       " 'bay': 5523,\n",
       " '200': 5489,\n",
       " 'y': 5488,\n",
       " 'value': 5486,\n",
       " '400': 5471,\n",
       " 'allow': 5467,\n",
       " 'crossing': 5431,\n",
       " 'maximum': 5416,\n",
       " 'accepted': 5415,\n",
       " 'corner': 5413,\n",
       " 'fun': 5403,\n",
       " 'tuesday': 5401,\n",
       " 'market': 5395,\n",
       " 'december': 5362,\n",
       " 'properties': 5356,\n",
       " 'recycling': 5345,\n",
       " 'thursday': 5314,\n",
       " 'approved': 5309,\n",
       " 'grocery': 5307,\n",
       " 'whether': 5305,\n",
       " 'common': 5305,\n",
       " 'course': 5286,\n",
       " 'starting': 5285,\n",
       " 'wide': 5268,\n",
       " 'applicant': 5268,\n",
       " 'clean': 5262,\n",
       " 'background': 5236,\n",
       " 'finest': 5223,\n",
       " 'co': 5211,\n",
       " 'receive': 5200,\n",
       " 'design': 5193,\n",
       " 'trees': 5191,\n",
       " 'elementary': 5171,\n",
       " 'wilmington': 5162,\n",
       " 'learn': 5158,\n",
       " 'meadows': 5150,\n",
       " 'end': 5139,\n",
       " 'wednesday': 5134,\n",
       " 'vista': 5120,\n",
       " 'weights': 5117,\n",
       " '30': 5111,\n",
       " 'burning': 5110,\n",
       " 'highways': 5110,\n",
       " 'porch': 5098,\n",
       " 'times': 5092,\n",
       " 'pond': 5089,\n",
       " 'four': 5078,\n",
       " 'footage': 5064,\n",
       " 'carport': 5061,\n",
       " 'yoga': 5061,\n",
       " 'retreat': 5056,\n",
       " 'requirements': 5052,\n",
       " 'wiring': 5047,\n",
       " 'equipment': 5043,\n",
       " 'card': 5041,\n",
       " 'savannah': 5039,\n",
       " 'valet': 5011,\n",
       " 'fine': 4993,\n",
       " 'rock': 4987,\n",
       " 'smoke': 4986,\n",
       " 'heatingcooling': 4972,\n",
       " 'tenants': 4966,\n",
       " 'elegant': 4962,\n",
       " 'selection': 4957,\n",
       " 'selfschedule': 4953,\n",
       " 'old': 4950,\n",
       " 'surrounded': 4946,\n",
       " 'fullyequipped': 4935,\n",
       " '2nd': 4931,\n",
       " 'hookup': 4919,\n",
       " 'soon': 4918,\n",
       " 'asheville': 4914,\n",
       " 'rentals': 4907,\n",
       " 'choice': 4906,\n",
       " 'reserved': 4901,\n",
       " 'freeways': 4900,\n",
       " 'making': 4899,\n",
       " 'low': 4896,\n",
       " 'desirable': 4892,\n",
       " 'route': 4886,\n",
       " 'snow': 4876,\n",
       " 'lincoln': 4872,\n",
       " 'number': 4860,\n",
       " 'days': 4841,\n",
       " 'beds': 4841,\n",
       " 'acceptance': 4835,\n",
       " 'summer': 4824,\n",
       " 'rangeoven': 4819,\n",
       " 'always': 4818,\n",
       " 'heights': 4817,\n",
       " 'layout': 4813,\n",
       " 'hwy': 4810,\n",
       " 'centrally': 4810,\n",
       " 'night': 4797,\n",
       " '250': 4785,\n",
       " 'none': 4784,\n",
       " 'condo': 4763,\n",
       " 'e': 4744,\n",
       " 'sand': 4744,\n",
       " 'environment': 4740,\n",
       " 'sat': 4734,\n",
       " '7': 4731,\n",
       " 'electronic': 4723,\n",
       " 'several': 4723,\n",
       " 'bbqpicnic': 4719,\n",
       " 'medical': 4717,\n",
       " 'screened': 4712,\n",
       " 'star': 4702,\n",
       " 'person': 4697,\n",
       " 'forward': 4684,\n",
       " 'single': 4683,\n",
       " 'happy': 4678,\n",
       " 'down': 4678,\n",
       " 'eatin': 4652,\n",
       " 'nickel': 4644,\n",
       " 'something': 4627,\n",
       " 'bring': 4622,\n",
       " 'mill': 4620,\n",
       " 'portal': 4619,\n",
       " 'adult': 4612,\n",
       " 'en': 4610,\n",
       " 'saltwater': 4595,\n",
       " 'al': 4579,\n",
       " 'acres': 4578,\n",
       " 'dedicated': 4575,\n",
       " 'listed': 4564,\n",
       " 'lofts': 4558,\n",
       " 'n': 4539,\n",
       " 'preferred': 4525,\n",
       " 'cabana': 4521,\n",
       " 'pest': 4515,\n",
       " 'too': 4495,\n",
       " 'backyard': 4481,\n",
       " 'providing': 4478,\n",
       " 'cableready': 4462,\n",
       " 'exclusive': 4455,\n",
       " 'blocks': 4454,\n",
       " '18': 4433,\n",
       " 'currently': 4431,\n",
       " 'then': 4427,\n",
       " 'addition': 4427,\n",
       " 'history': 4424,\n",
       " 'complex': 4421,\n",
       " 'cafe': 4418,\n",
       " 'expire': 4409,\n",
       " 'steps': 4403,\n",
       " 'seating': 4398,\n",
       " 'years': 4387,\n",
       " 'ââ': 4370,\n",
       " 'nature': 4369,\n",
       " 'health': 4368,\n",
       " 'terrace': 4363,\n",
       " 'forest': 4361,\n",
       " 'fresh': 4355,\n",
       " 'corporate': 4355,\n",
       " 'agent': 4350,\n",
       " 'lovely': 4345,\n",
       " 'bright': 4336,\n",
       " 'santa': 4328,\n",
       " 'provided': 4328,\n",
       " 'sleek': 4312,\n",
       " 'ga': 4309,\n",
       " 'array': 4304,\n",
       " 'floorplan': 4296,\n",
       " 'upstairs': 4293,\n",
       " 'interstate': 4279,\n",
       " 'further': 4275,\n",
       " 'renters': 4268,\n",
       " 'residences': 4262,\n",
       " 'list': 4251,\n",
       " 'loft': 4219,\n",
       " 'mature': 4218,\n",
       " 'big': 4212,\n",
       " 'directly': 4211,\n",
       " 'urban': 4206,\n",
       " 'employers': 4203,\n",
       " 'option': 4202,\n",
       " 'maker': 4197,\n",
       " 'lawn': 4193,\n",
       " 'cove': 4180,\n",
       " 'computer': 4179,\n",
       " 'entrances': 4178,\n",
       " 'customer': 4170,\n",
       " 'entertaining': 4167,\n",
       " 'cyber': 4161,\n",
       " 'exact': 4149,\n",
       " '24hr': 4148,\n",
       " 'middle': 4135,\n",
       " 'donât': 4131,\n",
       " 'directions': 4128,\n",
       " 'attractions': 4118,\n",
       " 'cabinet': 4110,\n",
       " 'rents': 4099,\n",
       " 'estates': 4099,\n",
       " 'base': 4098,\n",
       " 'company': 4097,\n",
       " 'microwaves': 4096,\n",
       " 'boasts': 4096,\n",
       " 'miss': 4094,\n",
       " 'faux': 4092,\n",
       " ...}"
      ]
     },
     "execution_count": 131,
     "metadata": {},
     "output_type": "execute_result"
    }
   ],
   "source": [
    "# finding the keywords in the description column\n",
    "count_dict = {}\n",
    "for row in tqdm(df.description):\n",
    "    words = row.lower().strip().split()\n",
    "    words = [re.sub(\"[^\\w\\s]\", \"\", w) for w in words]\n",
    "\n",
    "    for word in words:\n",
    "        if word in count_dict:\n",
    "            count_dict[word] += 1\n",
    "        else:\n",
    "            count_dict[word] = 1\n",
    "\n",
    "count_dict = dict(sorted(count_dict.items(), key=lambda x:x[1], reverse=True))\n",
    "count_dict"
   ]
  },
  {
   "cell_type": "markdown",
   "id": "b443a455",
   "metadata": {},
   "source": [
    "some keywords that can be used for extracting new features\n",
    "- pool, swim\n",
    "- fitness, gym, basketball, spa, tennis\n",
    "- park, garden\n",
    "- mall, shop, market, grocery, store, downtown\n",
    "- grill, fireplace, bbq\n",
    "- school, college, university\n",
    "- hospital, medical, health\n",
    "- transportation, airport, station, bus, train\n",
    "- security\n",
    "- garage"
   ]
  },
  {
   "cell_type": "code",
   "execution_count": 132,
   "id": "ac00f2e6",
   "metadata": {},
   "outputs": [],
   "source": [
    "df[\"has_pool\"] = df.description.str.lower().str.contains(\"pool|swim\").astype(int)\n",
    "df[\"has_sports\"] = df.description.str.contains(\"fitness|gym|basketball|spa|tennis\").astype(int)\n",
    "df[\"has_park\"] = df.description.str.lower().str.replace(\"parking\", \"\").str.contains(\"park|garden\").astype(int)\n",
    "df[\"has_shopping\"] = df.description.str.contains(\"mall|shop|market|grocery|store|downtown\").astype(int)\n",
    "df[\"has_transportation\"] = df.description.str.contains(\"transportation|airport|station|bus|train\").astype(int)\n",
    "\n",
    "# features below has less than 30K instances (should it be implemented?)\n",
    "# df[\"has_grill\"] = df.description.str.contains(\"grill|fireplace|bbq\").astype(int)  # 25K instances\n",
    "# df[\"has_eductaion\"] = df.description.str.contains(\"school|college|university\").astype(int) # 15K instances\n",
    "# df[\"has_health\"] = df.description.str.contains(\"hospital|medical|health\").astype(int) # 5K instances!!!\n",
    "# df[\"has_garage\"] = df.description.str.contains(\"garage\").astype(int) # 18K instances\n",
    "# df[\"has_security\"] = df.description.str.contains(\"security\").astype(int) # 9K instances\n",
    "\n",
    "df.drop(columns=[\"description\"],inplace=True)"
   ]
  },
  {
   "cell_type": "code",
   "execution_count": 133,
   "id": "457316db",
   "metadata": {},
   "outputs": [
    {
     "data": {
      "text/html": [
       "<div>\n",
       "<style scoped>\n",
       "    .dataframe tbody tr th:only-of-type {\n",
       "        vertical-align: middle;\n",
       "    }\n",
       "\n",
       "    .dataframe tbody tr th {\n",
       "        vertical-align: top;\n",
       "    }\n",
       "\n",
       "    .dataframe thead th {\n",
       "        text-align: right;\n",
       "    }\n",
       "</style>\n",
       "<table border=\"1\" class=\"dataframe\">\n",
       "  <thead>\n",
       "    <tr style=\"text-align: right;\">\n",
       "      <th></th>\n",
       "      <th>region</th>\n",
       "      <th>price</th>\n",
       "      <th>type</th>\n",
       "      <th>sqfeet</th>\n",
       "      <th>beds</th>\n",
       "      <th>baths</th>\n",
       "      <th>smoking_allowed</th>\n",
       "      <th>wheelchair_access</th>\n",
       "      <th>electric_vehicle_charge</th>\n",
       "      <th>comes_furnished</th>\n",
       "      <th>...</th>\n",
       "      <th>parking_options</th>\n",
       "      <th>lat</th>\n",
       "      <th>long</th>\n",
       "      <th>state</th>\n",
       "      <th>pets_allowed</th>\n",
       "      <th>has_pool</th>\n",
       "      <th>has_sports</th>\n",
       "      <th>has_park</th>\n",
       "      <th>has_shopping</th>\n",
       "      <th>has_transportation</th>\n",
       "    </tr>\n",
       "  </thead>\n",
       "  <tbody>\n",
       "    <tr>\n",
       "      <th>1</th>\n",
       "      <td>birmingham</td>\n",
       "      <td>1120</td>\n",
       "      <td>apartment</td>\n",
       "      <td>1319</td>\n",
       "      <td>3</td>\n",
       "      <td>2</td>\n",
       "      <td>1</td>\n",
       "      <td>0</td>\n",
       "      <td>0</td>\n",
       "      <td>0</td>\n",
       "      <td>...</td>\n",
       "      <td>off-street parking</td>\n",
       "      <td>33.3755</td>\n",
       "      <td>-86.8045</td>\n",
       "      <td>al</td>\n",
       "      <td>1</td>\n",
       "      <td>0</td>\n",
       "      <td>0</td>\n",
       "      <td>0</td>\n",
       "      <td>1</td>\n",
       "      <td>0</td>\n",
       "    </tr>\n",
       "    <tr>\n",
       "      <th>2</th>\n",
       "      <td>birmingham</td>\n",
       "      <td>825</td>\n",
       "      <td>apartment</td>\n",
       "      <td>1133</td>\n",
       "      <td>1</td>\n",
       "      <td>2</td>\n",
       "      <td>1</td>\n",
       "      <td>0</td>\n",
       "      <td>0</td>\n",
       "      <td>0</td>\n",
       "      <td>...</td>\n",
       "      <td>street parking</td>\n",
       "      <td>33.4226</td>\n",
       "      <td>-86.7065</td>\n",
       "      <td>al</td>\n",
       "      <td>1</td>\n",
       "      <td>1</td>\n",
       "      <td>1</td>\n",
       "      <td>1</td>\n",
       "      <td>1</td>\n",
       "      <td>1</td>\n",
       "    </tr>\n",
       "    <tr>\n",
       "      <th>3</th>\n",
       "      <td>birmingham</td>\n",
       "      <td>800</td>\n",
       "      <td>apartment</td>\n",
       "      <td>927</td>\n",
       "      <td>1</td>\n",
       "      <td>1</td>\n",
       "      <td>1</td>\n",
       "      <td>0</td>\n",
       "      <td>0</td>\n",
       "      <td>0</td>\n",
       "      <td>...</td>\n",
       "      <td>street parking</td>\n",
       "      <td>33.4226</td>\n",
       "      <td>-86.7065</td>\n",
       "      <td>al</td>\n",
       "      <td>1</td>\n",
       "      <td>1</td>\n",
       "      <td>1</td>\n",
       "      <td>1</td>\n",
       "      <td>1</td>\n",
       "      <td>1</td>\n",
       "    </tr>\n",
       "    <tr>\n",
       "      <th>4</th>\n",
       "      <td>birmingham</td>\n",
       "      <td>785</td>\n",
       "      <td>apartment</td>\n",
       "      <td>1047</td>\n",
       "      <td>2</td>\n",
       "      <td>1</td>\n",
       "      <td>1</td>\n",
       "      <td>0</td>\n",
       "      <td>0</td>\n",
       "      <td>0</td>\n",
       "      <td>...</td>\n",
       "      <td>street parking</td>\n",
       "      <td>33.4226</td>\n",
       "      <td>-86.7065</td>\n",
       "      <td>al</td>\n",
       "      <td>1</td>\n",
       "      <td>1</td>\n",
       "      <td>1</td>\n",
       "      <td>1</td>\n",
       "      <td>1</td>\n",
       "      <td>1</td>\n",
       "    </tr>\n",
       "    <tr>\n",
       "      <th>5</th>\n",
       "      <td>birmingham</td>\n",
       "      <td>900</td>\n",
       "      <td>apartment</td>\n",
       "      <td>1298</td>\n",
       "      <td>2</td>\n",
       "      <td>2</td>\n",
       "      <td>1</td>\n",
       "      <td>0</td>\n",
       "      <td>0</td>\n",
       "      <td>0</td>\n",
       "      <td>...</td>\n",
       "      <td>street parking</td>\n",
       "      <td>33.4226</td>\n",
       "      <td>-86.7065</td>\n",
       "      <td>al</td>\n",
       "      <td>1</td>\n",
       "      <td>1</td>\n",
       "      <td>1</td>\n",
       "      <td>1</td>\n",
       "      <td>1</td>\n",
       "      <td>1</td>\n",
       "    </tr>\n",
       "  </tbody>\n",
       "</table>\n",
       "<p>5 rows × 21 columns</p>\n",
       "</div>"
      ],
      "text/plain": [
       "       region  price       type  sqfeet  beds  baths  smoking_allowed  \\\n",
       "1  birmingham   1120  apartment    1319     3      2                1   \n",
       "2  birmingham    825  apartment    1133     1      2                1   \n",
       "3  birmingham    800  apartment     927     1      1                1   \n",
       "4  birmingham    785  apartment    1047     2      1                1   \n",
       "5  birmingham    900  apartment    1298     2      2                1   \n",
       "\n",
       "   wheelchair_access  electric_vehicle_charge  comes_furnished  ...  \\\n",
       "1                  0                        0                0  ...   \n",
       "2                  0                        0                0  ...   \n",
       "3                  0                        0                0  ...   \n",
       "4                  0                        0                0  ...   \n",
       "5                  0                        0                0  ...   \n",
       "\n",
       "      parking_options      lat     long  state pets_allowed  has_pool  \\\n",
       "1  off-street parking  33.3755 -86.8045     al            1         0   \n",
       "2      street parking  33.4226 -86.7065     al            1         1   \n",
       "3      street parking  33.4226 -86.7065     al            1         1   \n",
       "4      street parking  33.4226 -86.7065     al            1         1   \n",
       "5      street parking  33.4226 -86.7065     al            1         1   \n",
       "\n",
       "   has_sports  has_park  has_shopping  has_transportation  \n",
       "1           0         0             1                   0  \n",
       "2           1         1             1                   1  \n",
       "3           1         1             1                   1  \n",
       "4           1         1             1                   1  \n",
       "5           1         1             1                   1  \n",
       "\n",
       "[5 rows x 21 columns]"
      ]
     },
     "execution_count": 133,
     "metadata": {},
     "output_type": "execute_result"
    }
   ],
   "source": [
    "df.head()"
   ]
  },
  {
   "cell_type": "code",
   "execution_count": 134,
   "id": "ef2b5095",
   "metadata": {},
   "outputs": [
    {
     "data": {
      "text/plain": [
       "Index(['region', 'price', 'type', 'sqfeet', 'beds', 'baths', 'smoking_allowed',\n",
       "       'wheelchair_access', 'electric_vehicle_charge', 'comes_furnished',\n",
       "       'laundry_options', 'parking_options', 'lat', 'long', 'state',\n",
       "       'pets_allowed', 'has_pool', 'has_sports', 'has_park', 'has_shopping',\n",
       "       'has_transportation'],\n",
       "      dtype='object')"
      ]
     },
     "execution_count": 134,
     "metadata": {},
     "output_type": "execute_result"
    }
   ],
   "source": [
    "df.columns"
   ]
  },
  {
   "cell_type": "markdown",
   "id": "f98c2e7e",
   "metadata": {},
   "source": [
    "- before advancing any further I will reset the indexes, because during the encoding part there will be different methods and these methods will yield different dataframes. Therefore, after the encoding the dataframe will be branched and reseting the indexes at this point is sensible"
   ]
  },
  {
   "cell_type": "code",
   "execution_count": 160,
   "id": "d1875fec",
   "metadata": {},
   "outputs": [],
   "source": [
    "df = df.reset_index().drop(columns=[\"index\"])"
   ]
  },
  {
   "cell_type": "markdown",
   "id": "bcb991b2",
   "metadata": {},
   "source": [
    "## Encoding Categorical Features\n",
    "- region\n",
    "- type\n",
    "- laundry_options\n",
    "- parking_options\n",
    "- state\n",
    "\n",
    "this is the final part of the presproccessing of the data, there will be different variations of the dataset according to the encoding method. normalizing the features will not be done here, it will be implemented in the modeling part."
   ]
  },
  {
   "cell_type": "markdown",
   "id": "c28eccb1",
   "metadata": {},
   "source": [
    "---"
   ]
  },
  {
   "cell_type": "markdown",
   "id": "e091ee18",
   "metadata": {},
   "source": [
    "before starting the encoding, I wanted to deal with the region feature first. Upon inspecting, I saw that there are 297 unique values in region feature. In order to encode this feature, a sensible step can be combining less occurred values as \"other\". I wanted to approach with this solution first, but saw that the value counts doesn't seem to lower quickly and stay similar for a quite time. Moreover, with the presence of state feature I thought that region column probably won't add more value to the data and decided to drop the region column."
   ]
  },
  {
   "cell_type": "code",
   "execution_count": 136,
   "id": "c29aebef",
   "metadata": {},
   "outputs": [
    {
     "data": {
      "text/plain": [
       "region\n",
       "rochester                 3019\n",
       "jacksonville              2957\n",
       "fayetteville              2678\n",
       "orlando                   2380\n",
       "denver                    2215\n",
       "                          ... \n",
       "zanesville / cambridge       2\n",
       "kansas city                  2\n",
       "east oregon                  1\n",
       "texoma                       1\n",
       "northwest OK                 1\n",
       "Name: count, Length: 297, dtype: int64"
      ]
     },
     "execution_count": 136,
     "metadata": {},
     "output_type": "execute_result"
    }
   ],
   "source": [
    "df.region.value_counts()"
   ]
  },
  {
   "cell_type": "code",
   "execution_count": 137,
   "id": "921fa4c9",
   "metadata": {},
   "outputs": [
    {
     "data": {
      "text/plain": [
       "Text(0, 0.5, 'Occurrences')"
      ]
     },
     "execution_count": 137,
     "metadata": {},
     "output_type": "execute_result"
    },
    {
     "data": {
      "image/png": "[encoded data removed]",
      "text/plain": [
       "<Figure size 432x288 with 1 Axes>"
      ]
     },
     "metadata": {
      "needs_background": "light"
     },
     "output_type": "display_data"
    }
   ],
   "source": [
    "plt.plot(range(df.region.value_counts().size),df.region.value_counts())\n",
    "\n",
    "plt.title(\"Value counts from most occurred to least\")\n",
    "plt.ylabel(\"Occurrences\")\n",
    "# plt.xlim((-3, 50))"
   ]
  },
  {
   "cell_type": "markdown",
   "id": "029b2a41",
   "metadata": {},
   "source": [
    "- even at the 50th place of value counts, there are still around 1500 instances"
   ]
  },
  {
   "cell_type": "code",
   "execution_count": 138,
   "id": "755db15a",
   "metadata": {},
   "outputs": [],
   "source": [
    "df.drop(columns=[\"region\"], inplace=True)"
   ]
  },
  {
   "cell_type": "markdown",
   "id": "2abf57d2",
   "metadata": {},
   "source": [
    "## Encoding according to the first encounter in dataset"
   ]
  },
  {
   "cell_type": "code",
   "execution_count": 139,
   "id": "c247cd88",
   "metadata": {},
   "outputs": [],
   "source": [
    "cat_cols = [\"type\", \"laundry_options\", \"parking_options\", \"state\"]"
   ]
  },
  {
   "cell_type": "markdown",
   "id": "56314711",
   "metadata": {},
   "source": [
    "even from start this method doesn't look sensible, because we label the feature according to the first occurences"
   ]
  },
  {
   "cell_type": "code",
   "execution_count": 140,
   "id": "17a5fad2",
   "metadata": {},
   "outputs": [],
   "source": [
    "def first_encounter_encode(feature):\n",
    "    print(f\"\\nBEFORE:\\n{df_fe_encoded[feature].value_counts()}\")\n",
    "    \n",
    "    # using pd.factorize()\n",
    "    df_fe_encoded[feature] = df_fe_encoded[feature].factorize()[0]\n",
    "    \n",
    "    print(f\"\\nAFTER:\\n{df_fe_encoded[feature].value_counts()}\")"
   ]
  },
  {
   "cell_type": "code",
   "execution_count": 162,
   "id": "ea0c673e",
   "metadata": {},
   "outputs": [
    {
     "name": "stdout",
     "output_type": "stream",
     "text": [
      "\n",
      "BEFORE:\n",
      "type\n",
      "apartment        161865\n",
      "house             12856\n",
      "townhouse          6787\n",
      "condo              3290\n",
      "duplex             2525\n",
      "manufactured       2120\n",
      "cottage/cabin       387\n",
      "loft                379\n",
      "flat                245\n",
      "in-law               96\n",
      "land                  1\n",
      "Name: count, dtype: int64\n",
      "\n",
      "AFTER:\n",
      "type\n",
      "0     161865\n",
      "1      12856\n",
      "3       6787\n",
      "4       3290\n",
      "5       2525\n",
      "2       2120\n",
      "7        387\n",
      "9        379\n",
      "8        245\n",
      "6         96\n",
      "10         1\n",
      "Name: count, dtype: int64\n",
      "\n",
      "BEFORE:\n",
      "laundry_options\n",
      "w/d in unit           83086\n",
      "w/d hookups           35942\n",
      "laundry on site       29958\n",
      "no laundry on site    21638\n",
      "laundry in bldg       19927\n",
      "Name: count, dtype: int64\n",
      "\n",
      "AFTER:\n",
      "laundry_options\n",
      "1    83086\n",
      "3    35942\n",
      "0    29958\n",
      "2    21638\n",
      "4    19927\n",
      "Name: count, dtype: int64\n",
      "\n",
      "BEFORE:\n",
      "parking_options\n",
      "off-street parking    100387\n",
      "carport                25125\n",
      "attached garage        20152\n",
      "valet parking          14616\n",
      "street parking         12511\n",
      "detached garage        12177\n",
      "no parking              5583\n",
      "Name: count, dtype: int64\n",
      "\n",
      "AFTER:\n",
      "parking_options\n",
      "0    100387\n",
      "3     25125\n",
      "6     20152\n",
      "5     14616\n",
      "1     12511\n",
      "2     12177\n",
      "4      5583\n",
      "Name: count, dtype: int64\n",
      "\n",
      "BEFORE:\n",
      "state\n",
      "fl    25203\n",
      "ca    20341\n",
      "nc    13238\n",
      "mi    10742\n",
      "ga     9579\n",
      "co     8983\n",
      "ny     7154\n",
      "md     6587\n",
      "mn     6505\n",
      "il     6312\n",
      "ia     5829\n",
      "la     5476\n",
      "in     4867\n",
      "oh     4752\n",
      "az     4662\n",
      "al     4546\n",
      "ks     3913\n",
      "ky     3592\n",
      "nj     3567\n",
      "ms     3485\n",
      "ma     3239\n",
      "id     3206\n",
      "nd     3118\n",
      "ct     2796\n",
      "ar     2352\n",
      "ne     2244\n",
      "nm     1906\n",
      "dc     1848\n",
      "nv     1818\n",
      "de     1732\n",
      "ak     1580\n",
      "nh     1533\n",
      "mo     1409\n",
      "mt     1094\n",
      "hi      949\n",
      "me      322\n",
      "ok       42\n",
      "or       30\n",
      "Name: count, dtype: int64\n",
      "\n",
      "AFTER:\n",
      "state\n",
      "8     25203\n",
      "4     20341\n",
      "25    13238\n",
      "19    10742\n",
      "10     9579\n",
      "5      8983\n",
      "32     7154\n",
      "21     6587\n",
      "23     6505\n",
      "13     6312\n",
      "15     5829\n",
      "18     5476\n",
      "14     4867\n",
      "34     4752\n",
      "2      4662\n",
      "0      4546\n",
      "16     3913\n",
      "17     3592\n",
      "30     3567\n",
      "24     3485\n",
      "22     3239\n",
      "12     3206\n",
      "35     3118\n",
      "6      2796\n",
      "3      2352\n",
      "28     2244\n",
      "31     1906\n",
      "7      1848\n",
      "29     1818\n",
      "9      1732\n",
      "1      1580\n",
      "33     1533\n",
      "26     1409\n",
      "27     1094\n",
      "11      949\n",
      "20      322\n",
      "36       42\n",
      "37       30\n",
      "Name: count, dtype: int64\n"
     ]
    }
   ],
   "source": [
    "df_fe_encoded = df.copy()\n",
    "\n",
    "for f in cat_cols:\n",
    "    first_encounter_encode(f)"
   ]
  },
  {
   "cell_type": "code",
   "execution_count": 165,
   "id": "f600f8b6",
   "metadata": {},
   "outputs": [
    {
     "data": {
      "text/html": [
       "<div>\n",
       "<style scoped>\n",
       "    .dataframe tbody tr th:only-of-type {\n",
       "        vertical-align: middle;\n",
       "    }\n",
       "\n",
       "    .dataframe tbody tr th {\n",
       "        vertical-align: top;\n",
       "    }\n",
       "\n",
       "    .dataframe thead th {\n",
       "        text-align: right;\n",
       "    }\n",
       "</style>\n",
       "<table border=\"1\" class=\"dataframe\">\n",
       "  <thead>\n",
       "    <tr style=\"text-align: right;\">\n",
       "      <th></th>\n",
       "      <th>price</th>\n",
       "      <th>type</th>\n",
       "      <th>sqfeet</th>\n",
       "      <th>beds</th>\n",
       "      <th>baths</th>\n",
       "      <th>smoking_allowed</th>\n",
       "      <th>wheelchair_access</th>\n",
       "      <th>electric_vehicle_charge</th>\n",
       "      <th>comes_furnished</th>\n",
       "      <th>laundry_options</th>\n",
       "      <th>parking_options</th>\n",
       "      <th>lat</th>\n",
       "      <th>long</th>\n",
       "      <th>state</th>\n",
       "      <th>pets_allowed</th>\n",
       "      <th>has_pool</th>\n",
       "      <th>has_sports</th>\n",
       "      <th>has_park</th>\n",
       "      <th>has_shopping</th>\n",
       "      <th>has_transportation</th>\n",
       "    </tr>\n",
       "  </thead>\n",
       "  <tbody>\n",
       "    <tr>\n",
       "      <th>0</th>\n",
       "      <td>1120</td>\n",
       "      <td>0</td>\n",
       "      <td>1319</td>\n",
       "      <td>3</td>\n",
       "      <td>2</td>\n",
       "      <td>1</td>\n",
       "      <td>0</td>\n",
       "      <td>0</td>\n",
       "      <td>0</td>\n",
       "      <td>0</td>\n",
       "      <td>0</td>\n",
       "      <td>33.3755</td>\n",
       "      <td>-86.8045</td>\n",
       "      <td>0</td>\n",
       "      <td>1</td>\n",
       "      <td>0</td>\n",
       "      <td>0</td>\n",
       "      <td>0</td>\n",
       "      <td>1</td>\n",
       "      <td>0</td>\n",
       "    </tr>\n",
       "    <tr>\n",
       "      <th>1</th>\n",
       "      <td>825</td>\n",
       "      <td>0</td>\n",
       "      <td>1133</td>\n",
       "      <td>1</td>\n",
       "      <td>2</td>\n",
       "      <td>1</td>\n",
       "      <td>0</td>\n",
       "      <td>0</td>\n",
       "      <td>0</td>\n",
       "      <td>0</td>\n",
       "      <td>1</td>\n",
       "      <td>33.4226</td>\n",
       "      <td>-86.7065</td>\n",
       "      <td>0</td>\n",
       "      <td>1</td>\n",
       "      <td>1</td>\n",
       "      <td>1</td>\n",
       "      <td>1</td>\n",
       "      <td>1</td>\n",
       "      <td>1</td>\n",
       "    </tr>\n",
       "    <tr>\n",
       "      <th>2</th>\n",
       "      <td>800</td>\n",
       "      <td>0</td>\n",
       "      <td>927</td>\n",
       "      <td>1</td>\n",
       "      <td>1</td>\n",
       "      <td>1</td>\n",
       "      <td>0</td>\n",
       "      <td>0</td>\n",
       "      <td>0</td>\n",
       "      <td>0</td>\n",
       "      <td>1</td>\n",
       "      <td>33.4226</td>\n",
       "      <td>-86.7065</td>\n",
       "      <td>0</td>\n",
       "      <td>1</td>\n",
       "      <td>1</td>\n",
       "      <td>1</td>\n",
       "      <td>1</td>\n",
       "      <td>1</td>\n",
       "      <td>1</td>\n",
       "    </tr>\n",
       "    <tr>\n",
       "      <th>3</th>\n",
       "      <td>785</td>\n",
       "      <td>0</td>\n",
       "      <td>1047</td>\n",
       "      <td>2</td>\n",
       "      <td>1</td>\n",
       "      <td>1</td>\n",
       "      <td>0</td>\n",
       "      <td>0</td>\n",
       "      <td>0</td>\n",
       "      <td>0</td>\n",
       "      <td>1</td>\n",
       "      <td>33.4226</td>\n",
       "      <td>-86.7065</td>\n",
       "      <td>0</td>\n",
       "      <td>1</td>\n",
       "      <td>1</td>\n",
       "      <td>1</td>\n",
       "      <td>1</td>\n",
       "      <td>1</td>\n",
       "      <td>1</td>\n",
       "    </tr>\n",
       "    <tr>\n",
       "      <th>4</th>\n",
       "      <td>900</td>\n",
       "      <td>0</td>\n",
       "      <td>1298</td>\n",
       "      <td>2</td>\n",
       "      <td>2</td>\n",
       "      <td>1</td>\n",
       "      <td>0</td>\n",
       "      <td>0</td>\n",
       "      <td>0</td>\n",
       "      <td>0</td>\n",
       "      <td>1</td>\n",
       "      <td>33.4226</td>\n",
       "      <td>-86.7065</td>\n",
       "      <td>0</td>\n",
       "      <td>1</td>\n",
       "      <td>1</td>\n",
       "      <td>1</td>\n",
       "      <td>1</td>\n",
       "      <td>1</td>\n",
       "      <td>1</td>\n",
       "    </tr>\n",
       "    <tr>\n",
       "      <th>...</th>\n",
       "      <td>...</td>\n",
       "      <td>...</td>\n",
       "      <td>...</td>\n",
       "      <td>...</td>\n",
       "      <td>...</td>\n",
       "      <td>...</td>\n",
       "      <td>...</td>\n",
       "      <td>...</td>\n",
       "      <td>...</td>\n",
       "      <td>...</td>\n",
       "      <td>...</td>\n",
       "      <td>...</td>\n",
       "      <td>...</td>\n",
       "      <td>...</td>\n",
       "      <td>...</td>\n",
       "      <td>...</td>\n",
       "      <td>...</td>\n",
       "      <td>...</td>\n",
       "      <td>...</td>\n",
       "      <td>...</td>\n",
       "    </tr>\n",
       "    <tr>\n",
       "      <th>190546</th>\n",
       "      <td>870</td>\n",
       "      <td>0</td>\n",
       "      <td>933</td>\n",
       "      <td>2</td>\n",
       "      <td>2</td>\n",
       "      <td>1</td>\n",
       "      <td>0</td>\n",
       "      <td>0</td>\n",
       "      <td>0</td>\n",
       "      <td>3</td>\n",
       "      <td>1</td>\n",
       "      <td>39.8971</td>\n",
       "      <td>-82.8957</td>\n",
       "      <td>34</td>\n",
       "      <td>1</td>\n",
       "      <td>0</td>\n",
       "      <td>0</td>\n",
       "      <td>1</td>\n",
       "      <td>0</td>\n",
       "      <td>0</td>\n",
       "    </tr>\n",
       "    <tr>\n",
       "      <th>190547</th>\n",
       "      <td>929</td>\n",
       "      <td>0</td>\n",
       "      <td>728</td>\n",
       "      <td>1</td>\n",
       "      <td>1</td>\n",
       "      <td>1</td>\n",
       "      <td>1</td>\n",
       "      <td>0</td>\n",
       "      <td>0</td>\n",
       "      <td>1</td>\n",
       "      <td>0</td>\n",
       "      <td>39.9709</td>\n",
       "      <td>-82.9241</td>\n",
       "      <td>34</td>\n",
       "      <td>1</td>\n",
       "      <td>0</td>\n",
       "      <td>1</td>\n",
       "      <td>0</td>\n",
       "      <td>1</td>\n",
       "      <td>1</td>\n",
       "    </tr>\n",
       "    <tr>\n",
       "      <th>190548</th>\n",
       "      <td>1069</td>\n",
       "      <td>0</td>\n",
       "      <td>1020</td>\n",
       "      <td>2</td>\n",
       "      <td>2</td>\n",
       "      <td>1</td>\n",
       "      <td>0</td>\n",
       "      <td>0</td>\n",
       "      <td>0</td>\n",
       "      <td>3</td>\n",
       "      <td>2</td>\n",
       "      <td>39.8408</td>\n",
       "      <td>-83.0804</td>\n",
       "      <td>34</td>\n",
       "      <td>1</td>\n",
       "      <td>1</td>\n",
       "      <td>0</td>\n",
       "      <td>1</td>\n",
       "      <td>0</td>\n",
       "      <td>0</td>\n",
       "    </tr>\n",
       "    <tr>\n",
       "      <th>190549</th>\n",
       "      <td>1507</td>\n",
       "      <td>0</td>\n",
       "      <td>1660</td>\n",
       "      <td>2</td>\n",
       "      <td>2</td>\n",
       "      <td>1</td>\n",
       "      <td>0</td>\n",
       "      <td>0</td>\n",
       "      <td>0</td>\n",
       "      <td>1</td>\n",
       "      <td>5</td>\n",
       "      <td>40.0564</td>\n",
       "      <td>-83.0417</td>\n",
       "      <td>34</td>\n",
       "      <td>1</td>\n",
       "      <td>1</td>\n",
       "      <td>0</td>\n",
       "      <td>1</td>\n",
       "      <td>0</td>\n",
       "      <td>1</td>\n",
       "    </tr>\n",
       "    <tr>\n",
       "      <th>190550</th>\n",
       "      <td>1001</td>\n",
       "      <td>0</td>\n",
       "      <td>1220</td>\n",
       "      <td>3</td>\n",
       "      <td>2</td>\n",
       "      <td>1</td>\n",
       "      <td>0</td>\n",
       "      <td>0</td>\n",
       "      <td>0</td>\n",
       "      <td>3</td>\n",
       "      <td>0</td>\n",
       "      <td>40.0451</td>\n",
       "      <td>-82.4564</td>\n",
       "      <td>34</td>\n",
       "      <td>1</td>\n",
       "      <td>1</td>\n",
       "      <td>0</td>\n",
       "      <td>0</td>\n",
       "      <td>0</td>\n",
       "      <td>1</td>\n",
       "    </tr>\n",
       "  </tbody>\n",
       "</table>\n",
       "<p>190551 rows × 20 columns</p>\n",
       "</div>"
      ],
      "text/plain": [
       "        price  type  sqfeet  beds  baths  smoking_allowed  wheelchair_access  \\\n",
       "0        1120     0    1319     3      2                1                  0   \n",
       "1         825     0    1133     1      2                1                  0   \n",
       "2         800     0     927     1      1                1                  0   \n",
       "3         785     0    1047     2      1                1                  0   \n",
       "4         900     0    1298     2      2                1                  0   \n",
       "...       ...   ...     ...   ...    ...              ...                ...   \n",
       "190546    870     0     933     2      2                1                  0   \n",
       "190547    929     0     728     1      1                1                  1   \n",
       "190548   1069     0    1020     2      2                1                  0   \n",
       "190549   1507     0    1660     2      2                1                  0   \n",
       "190550   1001     0    1220     3      2                1                  0   \n",
       "\n",
       "        electric_vehicle_charge  comes_furnished  laundry_options  \\\n",
       "0                             0                0                0   \n",
       "1                             0                0                0   \n",
       "2                             0                0                0   \n",
       "3                             0                0                0   \n",
       "4                             0                0                0   \n",
       "...                         ...              ...              ...   \n",
       "190546                        0                0                3   \n",
       "190547                        0                0                1   \n",
       "190548                        0                0                3   \n",
       "190549                        0                0                1   \n",
       "190550                        0                0                3   \n",
       "\n",
       "        parking_options      lat     long  state  pets_allowed  has_pool  \\\n",
       "0                     0  33.3755 -86.8045      0             1         0   \n",
       "1                     1  33.4226 -86.7065      0             1         1   \n",
       "2                     1  33.4226 -86.7065      0             1         1   \n",
       "3                     1  33.4226 -86.7065      0             1         1   \n",
       "4                     1  33.4226 -86.7065      0             1         1   \n",
       "...                 ...      ...      ...    ...           ...       ...   \n",
       "190546                1  39.8971 -82.8957     34             1         0   \n",
       "190547                0  39.9709 -82.9241     34             1         0   \n",
       "190548                2  39.8408 -83.0804     34             1         1   \n",
       "190549                5  40.0564 -83.0417     34             1         1   \n",
       "190550                0  40.0451 -82.4564     34             1         1   \n",
       "\n",
       "        has_sports  has_park  has_shopping  has_transportation  \n",
       "0                0         0             1                   0  \n",
       "1                1         1             1                   1  \n",
       "2                1         1             1                   1  \n",
       "3                1         1             1                   1  \n",
       "4                1         1             1                   1  \n",
       "...            ...       ...           ...                 ...  \n",
       "190546           0         1             0                   0  \n",
       "190547           1         0             1                   1  \n",
       "190548           0         1             0                   0  \n",
       "190549           0         1             0                   1  \n",
       "190550           0         0             0                   1  \n",
       "\n",
       "[190551 rows x 20 columns]"
      ]
     },
     "execution_count": 165,
     "metadata": {},
     "output_type": "execute_result"
    }
   ],
   "source": [
    "df_fe_encoded"
   ]
  },
  {
   "cell_type": "code",
   "execution_count": 166,
   "id": "b25b36ef",
   "metadata": {},
   "outputs": [],
   "source": [
    "df_fe_encoded.to_csv(\"main_fe_encoded.csv\", index=False)"
   ]
  },
  {
   "cell_type": "markdown",
   "id": "1b99f942",
   "metadata": {},
   "source": [
    "## Ordinal encoding according to the target feature"
   ]
  },
  {
   "cell_type": "markdown",
   "id": "2d8926e7",
   "metadata": {},
   "source": [
    "intuition is that, if a category has a bigger price average it should have a bigger numerical value, this brings some sort of ordinal sense among the feature"
   ]
  },
  {
   "cell_type": "code",
   "execution_count": 144,
   "id": "986f4098",
   "metadata": {},
   "outputs": [],
   "source": [
    "def ordinal_encode(feature):\n",
    "    print(f\"\\nBEFORE:\\n{df_ordinal_encoded[feature].value_counts()}\")\n",
    "    \n",
    "    # finding and ordering the categories of the feature according to the average price\n",
    "    # finally gathering the indexes for creating a mapper\n",
    "    ordered_labels = df_ordinal_encoded[[feature,\"price\"]].groupby(feature).mean().sort_values(\"price\").index\n",
    "    \n",
    "    # creating a mapper to use it to map the values\n",
    "    mapper = {}\n",
    "    for idx, label in enumerate(ordered_labels):\n",
    "        mapper[label] = idx\n",
    "    \n",
    "    # mapping\n",
    "    df_ordinal_encoded[feature] = df_ordinal_encoded[feature].map(mapper)\n",
    "    \n",
    "    print(f\"\\nAFTER:\\n{df_ordinal_encoded[feature].value_counts()}\")"
   ]
  },
  {
   "cell_type": "code",
   "execution_count": 145,
   "id": "b9891722",
   "metadata": {},
   "outputs": [
    {
     "name": "stdout",
     "output_type": "stream",
     "text": [
      "\n",
      "BEFORE:\n",
      "type\n",
      "apartment        161865\n",
      "house             12856\n",
      "townhouse          6787\n",
      "condo              3290\n",
      "duplex             2525\n",
      "manufactured       2120\n",
      "cottage/cabin       387\n",
      "loft                379\n",
      "flat                245\n",
      "in-law               96\n",
      "land                  1\n",
      "Name: count, dtype: int64\n",
      "\n",
      "AFTER:\n",
      "type\n",
      "4     161865\n",
      "2      12856\n",
      "6       6787\n",
      "9       3290\n",
      "3       2525\n",
      "1       2120\n",
      "5        387\n",
      "7        379\n",
      "10       245\n",
      "8         96\n",
      "0          1\n",
      "Name: count, dtype: int64\n",
      "\n",
      "BEFORE:\n",
      "laundry_options\n",
      "w/d in unit           83086\n",
      "w/d hookups           35942\n",
      "laundry on site       29958\n",
      "no laundry on site    21638\n",
      "laundry in bldg       19927\n",
      "Name: count, dtype: int64\n",
      "\n",
      "AFTER:\n",
      "laundry_options\n",
      "4    83086\n",
      "2    35942\n",
      "3    29958\n",
      "0    21638\n",
      "1    19927\n",
      "Name: count, dtype: int64\n",
      "\n",
      "BEFORE:\n",
      "parking_options\n",
      "off-street parking    100387\n",
      "carport                25125\n",
      "attached garage        20152\n",
      "valet parking          14616\n",
      "street parking         12511\n",
      "detached garage        12177\n",
      "no parking              5583\n",
      "Name: count, dtype: int64\n",
      "\n",
      "AFTER:\n",
      "parking_options\n",
      "0    100387\n",
      "4     25125\n",
      "5     20152\n",
      "6     14616\n",
      "1     12511\n",
      "3     12177\n",
      "2      5583\n",
      "Name: count, dtype: int64\n",
      "\n",
      "BEFORE:\n",
      "state\n",
      "fl    25203\n",
      "ca    20341\n",
      "nc    13238\n",
      "mi    10742\n",
      "ga     9579\n",
      "co     8983\n",
      "ny     7154\n",
      "md     6587\n",
      "mn     6505\n",
      "il     6312\n",
      "ia     5829\n",
      "la     5476\n",
      "in     4867\n",
      "oh     4752\n",
      "az     4662\n",
      "al     4546\n",
      "ks     3913\n",
      "ky     3592\n",
      "nj     3567\n",
      "ms     3485\n",
      "ma     3239\n",
      "id     3206\n",
      "nd     3118\n",
      "ct     2796\n",
      "ar     2352\n",
      "ne     2244\n",
      "nm     1906\n",
      "dc     1848\n",
      "nv     1818\n",
      "de     1732\n",
      "ak     1580\n",
      "nh     1533\n",
      "mo     1409\n",
      "mt     1094\n",
      "hi      949\n",
      "me      322\n",
      "ok       42\n",
      "or       30\n",
      "Name: count, dtype: int64\n",
      "\n",
      "AFTER:\n",
      "state\n",
      "25    25203\n",
      "35    20341\n",
      "17    13238\n",
      "16    10742\n",
      "14     9579\n",
      "30     8983\n",
      "22     7154\n",
      "29     6587\n",
      "21     6505\n",
      "10     6312\n",
      "8      5829\n",
      "11     5476\n",
      "5      4867\n",
      "9      4752\n",
      "19     4662\n",
      "7      4546\n",
      "2      3913\n",
      "4      3592\n",
      "34     3567\n",
      "3      3485\n",
      "33     3239\n",
      "20     3206\n",
      "15     3118\n",
      "27     2796\n",
      "6      2352\n",
      "12     2244\n",
      "13     1906\n",
      "36     1848\n",
      "24     1818\n",
      "26     1732\n",
      "23     1580\n",
      "32     1533\n",
      "1      1409\n",
      "18     1094\n",
      "37      949\n",
      "28      322\n",
      "0        42\n",
      "31       30\n",
      "Name: count, dtype: int64\n"
     ]
    }
   ],
   "source": [
    "df_ordinal_encoded = df.copy()\n",
    "\n",
    "for f in cat_cols:\n",
    "    ordinal_encode(f)"
   ]
  },
  {
   "cell_type": "code",
   "execution_count": 146,
   "id": "202c2ab1",
   "metadata": {},
   "outputs": [
    {
     "data": {
      "text/html": [
       "<div>\n",
       "<style scoped>\n",
       "    .dataframe tbody tr th:only-of-type {\n",
       "        vertical-align: middle;\n",
       "    }\n",
       "\n",
       "    .dataframe tbody tr th {\n",
       "        vertical-align: top;\n",
       "    }\n",
       "\n",
       "    .dataframe thead th {\n",
       "        text-align: right;\n",
       "    }\n",
       "</style>\n",
       "<table border=\"1\" class=\"dataframe\">\n",
       "  <thead>\n",
       "    <tr style=\"text-align: right;\">\n",
       "      <th></th>\n",
       "      <th>price</th>\n",
       "      <th>type</th>\n",
       "      <th>sqfeet</th>\n",
       "      <th>beds</th>\n",
       "      <th>baths</th>\n",
       "      <th>smoking_allowed</th>\n",
       "      <th>wheelchair_access</th>\n",
       "      <th>electric_vehicle_charge</th>\n",
       "      <th>comes_furnished</th>\n",
       "      <th>laundry_options</th>\n",
       "      <th>parking_options</th>\n",
       "      <th>lat</th>\n",
       "      <th>long</th>\n",
       "      <th>state</th>\n",
       "      <th>pets_allowed</th>\n",
       "      <th>has_pool</th>\n",
       "      <th>has_sports</th>\n",
       "      <th>has_park</th>\n",
       "      <th>has_shopping</th>\n",
       "      <th>has_transportation</th>\n",
       "    </tr>\n",
       "  </thead>\n",
       "  <tbody>\n",
       "    <tr>\n",
       "      <th>1</th>\n",
       "      <td>1120</td>\n",
       "      <td>4</td>\n",
       "      <td>1319</td>\n",
       "      <td>3</td>\n",
       "      <td>2</td>\n",
       "      <td>1</td>\n",
       "      <td>0</td>\n",
       "      <td>0</td>\n",
       "      <td>0</td>\n",
       "      <td>3</td>\n",
       "      <td>0</td>\n",
       "      <td>33.3755</td>\n",
       "      <td>-86.8045</td>\n",
       "      <td>7</td>\n",
       "      <td>1</td>\n",
       "      <td>0</td>\n",
       "      <td>0</td>\n",
       "      <td>0</td>\n",
       "      <td>1</td>\n",
       "      <td>0</td>\n",
       "    </tr>\n",
       "    <tr>\n",
       "      <th>2</th>\n",
       "      <td>825</td>\n",
       "      <td>4</td>\n",
       "      <td>1133</td>\n",
       "      <td>1</td>\n",
       "      <td>2</td>\n",
       "      <td>1</td>\n",
       "      <td>0</td>\n",
       "      <td>0</td>\n",
       "      <td>0</td>\n",
       "      <td>3</td>\n",
       "      <td>1</td>\n",
       "      <td>33.4226</td>\n",
       "      <td>-86.7065</td>\n",
       "      <td>7</td>\n",
       "      <td>1</td>\n",
       "      <td>1</td>\n",
       "      <td>1</td>\n",
       "      <td>1</td>\n",
       "      <td>1</td>\n",
       "      <td>1</td>\n",
       "    </tr>\n",
       "    <tr>\n",
       "      <th>3</th>\n",
       "      <td>800</td>\n",
       "      <td>4</td>\n",
       "      <td>927</td>\n",
       "      <td>1</td>\n",
       "      <td>1</td>\n",
       "      <td>1</td>\n",
       "      <td>0</td>\n",
       "      <td>0</td>\n",
       "      <td>0</td>\n",
       "      <td>3</td>\n",
       "      <td>1</td>\n",
       "      <td>33.4226</td>\n",
       "      <td>-86.7065</td>\n",
       "      <td>7</td>\n",
       "      <td>1</td>\n",
       "      <td>1</td>\n",
       "      <td>1</td>\n",
       "      <td>1</td>\n",
       "      <td>1</td>\n",
       "      <td>1</td>\n",
       "    </tr>\n",
       "    <tr>\n",
       "      <th>4</th>\n",
       "      <td>785</td>\n",
       "      <td>4</td>\n",
       "      <td>1047</td>\n",
       "      <td>2</td>\n",
       "      <td>1</td>\n",
       "      <td>1</td>\n",
       "      <td>0</td>\n",
       "      <td>0</td>\n",
       "      <td>0</td>\n",
       "      <td>3</td>\n",
       "      <td>1</td>\n",
       "      <td>33.4226</td>\n",
       "      <td>-86.7065</td>\n",
       "      <td>7</td>\n",
       "      <td>1</td>\n",
       "      <td>1</td>\n",
       "      <td>1</td>\n",
       "      <td>1</td>\n",
       "      <td>1</td>\n",
       "      <td>1</td>\n",
       "    </tr>\n",
       "    <tr>\n",
       "      <th>5</th>\n",
       "      <td>900</td>\n",
       "      <td>4</td>\n",
       "      <td>1298</td>\n",
       "      <td>2</td>\n",
       "      <td>2</td>\n",
       "      <td>1</td>\n",
       "      <td>0</td>\n",
       "      <td>0</td>\n",
       "      <td>0</td>\n",
       "      <td>3</td>\n",
       "      <td>1</td>\n",
       "      <td>33.4226</td>\n",
       "      <td>-86.7065</td>\n",
       "      <td>7</td>\n",
       "      <td>1</td>\n",
       "      <td>1</td>\n",
       "      <td>1</td>\n",
       "      <td>1</td>\n",
       "      <td>1</td>\n",
       "      <td>1</td>\n",
       "    </tr>\n",
       "  </tbody>\n",
       "</table>\n",
       "</div>"
      ],
      "text/plain": [
       "   price  type  sqfeet  beds  baths  smoking_allowed  wheelchair_access  \\\n",
       "1   1120     4    1319     3      2                1                  0   \n",
       "2    825     4    1133     1      2                1                  0   \n",
       "3    800     4     927     1      1                1                  0   \n",
       "4    785     4    1047     2      1                1                  0   \n",
       "5    900     4    1298     2      2                1                  0   \n",
       "\n",
       "   electric_vehicle_charge  comes_furnished  laundry_options  parking_options  \\\n",
       "1                        0                0                3                0   \n",
       "2                        0                0                3                1   \n",
       "3                        0                0                3                1   \n",
       "4                        0                0                3                1   \n",
       "5                        0                0                3                1   \n",
       "\n",
       "       lat     long  state  pets_allowed  has_pool  has_sports  has_park  \\\n",
       "1  33.3755 -86.8045      7             1         0           0         0   \n",
       "2  33.4226 -86.7065      7             1         1           1         1   \n",
       "3  33.4226 -86.7065      7             1         1           1         1   \n",
       "4  33.4226 -86.7065      7             1         1           1         1   \n",
       "5  33.4226 -86.7065      7             1         1           1         1   \n",
       "\n",
       "   has_shopping  has_transportation  \n",
       "1             1                   0  \n",
       "2             1                   1  \n",
       "3             1                   1  \n",
       "4             1                   1  \n",
       "5             1                   1  "
      ]
     },
     "execution_count": 146,
     "metadata": {},
     "output_type": "execute_result"
    }
   ],
   "source": [
    "df_ordinal_encoded.head()"
   ]
  },
  {
   "cell_type": "code",
   "execution_count": 167,
   "id": "72e4e159",
   "metadata": {},
   "outputs": [],
   "source": [
    "df_ordinal_encoded.to_csv(\"main_ordinal_encoded.csv\", index=False)"
   ]
  },
  {
   "cell_type": "markdown",
   "id": "e1d7d5de",
   "metadata": {},
   "source": [
    "## One-hot encoding"
   ]
  },
  {
   "cell_type": "code",
   "execution_count": 148,
   "id": "8682b6d6",
   "metadata": {},
   "outputs": [],
   "source": [
    "df_onehot = pd.get_dummies(df, dtype=int, drop_first=True)"
   ]
  },
  {
   "cell_type": "code",
   "execution_count": 149,
   "id": "c3af506c",
   "metadata": {},
   "outputs": [
    {
     "data": {
      "text/plain": [
       "Index(['price', 'sqfeet', 'beds', 'baths', 'smoking_allowed',\n",
       "       'wheelchair_access', 'electric_vehicle_charge', 'comes_furnished',\n",
       "       'lat', 'long', 'pets_allowed', 'has_pool', 'has_sports', 'has_park',\n",
       "       'has_shopping', 'has_transportation', 'type_condo',\n",
       "       'type_cottage/cabin', 'type_duplex', 'type_flat', 'type_house',\n",
       "       'type_in-law', 'type_land', 'type_loft', 'type_manufactured',\n",
       "       'type_townhouse', 'laundry_options_laundry on site',\n",
       "       'laundry_options_no laundry on site', 'laundry_options_w/d hookups',\n",
       "       'laundry_options_w/d in unit', 'parking_options_carport',\n",
       "       'parking_options_detached garage', 'parking_options_no parking',\n",
       "       'parking_options_off-street parking', 'parking_options_street parking',\n",
       "       'parking_options_valet parking', 'state_al', 'state_ar', 'state_az',\n",
       "       'state_ca', 'state_co', 'state_ct', 'state_dc', 'state_de', 'state_fl',\n",
       "       'state_ga', 'state_hi', 'state_ia', 'state_id', 'state_il', 'state_in',\n",
       "       'state_ks', 'state_ky', 'state_la', 'state_ma', 'state_md', 'state_me',\n",
       "       'state_mi', 'state_mn', 'state_mo', 'state_ms', 'state_mt', 'state_nc',\n",
       "       'state_nd', 'state_ne', 'state_nh', 'state_nj', 'state_nm', 'state_nv',\n",
       "       'state_ny', 'state_oh', 'state_ok', 'state_or'],\n",
       "      dtype='object')"
      ]
     },
     "execution_count": 149,
     "metadata": {},
     "output_type": "execute_result"
    }
   ],
   "source": [
    "df_onehot.columns"
   ]
  },
  {
   "cell_type": "code",
   "execution_count": 168,
   "id": "6c718f50",
   "metadata": {},
   "outputs": [],
   "source": [
    "df_onehot.to_csv(\"main_onehot_encoded.csv\", index=False)"
   ]
  }
 ],
 "metadata": {
  "kernelspec": {
   "display_name": "Python 3 (ipykernel)",
   "language": "python",
   "name": "python3"
  },
  "language_info": {
   "codemirror_mode": {
    "name": "ipython",
    "version": 3
   },
   "file_extension": ".py",
   "mimetype": "text/x-python",
   "name": "python",
   "nbconvert_exporter": "python",
   "pygments_lexer": "ipython3",
   "version": "3.9.7"
  }
 },
 "nbformat": 4,
 "nbformat_minor": 5
}
