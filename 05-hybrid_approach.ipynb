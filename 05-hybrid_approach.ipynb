{
 "cells": [
  {
   "cell_type": "code",
   "execution_count": 0,
   "metadata": {
    "application/vnd.databricks.v1+cell": {
     "cellMetadata": {
      "byteLimit": 2048000,
      "rowLimit": 10000
     },
     "inputWidgets": {},
     "nuid": "9bdda9f1-b37c-46cb-adcf-0f1ecb31f2bd",
     "showTitle": false,
     "title": ""
    }
   },
   "outputs": [],
   "source": [
    "import numpy as np\n",
    "import pandas as pd\n",
    "import matplotlib.pyplot as plt\n",
    "import seaborn as sns\n",
    "\n",
    "from tqdm import tqdm\n",
    "import regex as re\n",
    "\n",
    "from sklearn.preprocessing import MinMaxScaler\n",
    "from sklearn.model_selection import train_test_split\n",
    "\n",
    "from sklearn.linear_model import ElasticNetCV, ElasticNet\n",
    "from sklearn.neighbors import KNeighborsRegressor\n",
    "from sklearn.tree import DecisionTreeRegressor\n",
    "from sklearn.ensemble import RandomForestRegressor, AdaBoostRegressor\n",
    "from sklearn.svm import SVR\n",
    "from xgboost import XGBRegressor\n",
    "\n",
    "from sklearn.metrics import mean_squared_error, mean_absolute_percentage_error, r2_score"
   ]
  },
  {
   "cell_type": "code",
   "execution_count": 0,
   "metadata": {
    "application/vnd.databricks.v1+cell": {
     "cellMetadata": {
      "byteLimit": 2048000,
      "rowLimit": 10000
     },
     "inputWidgets": {},
     "nuid": "8cbe32ba-5f5a-43ad-8b39-d2f7e0329963",
     "showTitle": false,
     "title": ""
    }
   },
   "outputs": [],
   "source": [
    "def pipeline(model, X_train, X_test, y_train, y_test):\n",
    "    \n",
    "    model.fit(X_train, y_train)\n",
    "    preds = model.predict(X_test)\n",
    "    \n",
    "    rmse_score = np.sqrt(mean_squared_error(y_test, preds))\n",
    "    mape_score = mean_absolute_percentage_error(y_test, preds)\n",
    "    r2 = r2_score(y_test, preds)\n",
    "    \n",
    "    return rmse_score, mape_score, r2"
   ]
  },
  {
   "cell_type": "code",
   "execution_count": 0,
   "metadata": {
    "application/vnd.databricks.v1+cell": {
     "cellMetadata": {
      "byteLimit": 2048000,
      "rowLimit": 10000
     },
     "inputWidgets": {},
     "nuid": "af4ca0a9-899e-4617-b47d-3a688f1952aa",
     "showTitle": false,
     "title": ""
    }
   },
   "outputs": [
    {
     "name": "stdout",
     "output_type": "stream",
     "text": [
      "Shape of the whole dataset: (194606, 4) (194606,)\n",
      "Shape of the train set: (155684, 4) (155684,)\n",
      "Shape of the test set: (38922, 4) (38922,)\n"
     ]
    }
   ],
   "source": [
    "data = pd.read_csv(\"/dbfs/FileStore/hakan/merged_dataset.csv\")\n",
    "# data = pd.read_csv(\"merged_dataset.csv\")\n",
    "X = data.drop(columns=[\"price\"])\n",
    "y = data[\"price\"]\n",
    "\n",
    "X_train, X_test, y_train, y_test = train_test_split(X, y, test_size=0.2, random_state=42)\n",
    "\n",
    "scaler = MinMaxScaler()\n",
    "scaler.fit(X_train)\n",
    "X_train = scaler.transform(X_train)\n",
    "X_test = scaler.transform(X_test)\n",
    "\n",
    "print(f\"Shape of the whole dataset: {X.shape} {y.shape}\")\n",
    "print(f\"Shape of the train set: {X_train.shape} {y_train.shape}\")\n",
    "print(f\"Shape of the test set: {X_test.shape} {y_test.shape}\")"
   ]
  },
  {
   "cell_type": "markdown",
   "metadata": {
    "application/vnd.databricks.v1+cell": {
     "cellMetadata": {
      "byteLimit": 2048000,
      "rowLimit": 10000
     },
     "inputWidgets": {},
     "nuid": "8bf0645a-5683-49d3-8cc5-46efd1367395",
     "showTitle": false,
     "title": ""
    }
   },
   "source": [
    "# Experimentation"
   ]
  },
  {
   "cell_type": "code",
   "execution_count": 0,
   "metadata": {
    "application/vnd.databricks.v1+cell": {
     "cellMetadata": {
      "byteLimit": 2048000,
      "rowLimit": 10000
     },
     "inputWidgets": {},
     "nuid": "cf5abbec-0cc3-497b-89be-4dbba7d9e13b",
     "showTitle": false,
     "title": ""
    }
   },
   "outputs": [],
   "source": [
    "model_scores = {}"
   ]
  },
  {
   "cell_type": "markdown",
   "metadata": {
    "application/vnd.databricks.v1+cell": {
     "cellMetadata": {
      "byteLimit": 2048000,
      "rowLimit": 10000
     },
     "inputWidgets": {},
     "nuid": "13779710-8ddf-4d53-87bd-708a510a4605",
     "showTitle": false,
     "title": ""
    }
   },
   "source": [
    "## ElasticNetCV"
   ]
  },
  {
   "cell_type": "code",
   "execution_count": 0,
   "metadata": {
    "application/vnd.databricks.v1+cell": {
     "cellMetadata": {
      "byteLimit": 2048000,
      "rowLimit": 10000
     },
     "inputWidgets": {},
     "nuid": "2cfe5d60-536a-4010-879e-8f3c6933e9c5",
     "showTitle": false,
     "title": ""
    }
   },
   "outputs": [
    {
     "data": {
      "text/plain": [
       "[412.4543305262474, 0.4067154219255461, 0.1115912616323107]"
      ]
     },
     "execution_count": 5,
     "metadata": {},
     "output_type": "execute_result"
    }
   ],
   "source": [
    "elastic = ElasticNetCV(l1_ratio=1, eps=0.0001)\n",
    "\n",
    "rmse, mape, r2 = pipeline(elastic, X_train, X_test, y_train, y_test)\n",
    "\n",
    "model_scores[\"ElasticNet\"] = [rmse, mape, r2]\n",
    "model_scores[\"ElasticNet\"]"
   ]
  },
  {
   "cell_type": "markdown",
   "metadata": {
    "application/vnd.databricks.v1+cell": {
     "cellMetadata": {
      "byteLimit": 2048000,
      "rowLimit": 10000
     },
     "inputWidgets": {},
     "nuid": "6d94b27a-5882-464b-99f3-0cb4b7147db7",
     "showTitle": false,
     "title": ""
    }
   },
   "source": [
    "## SVR"
   ]
  },
  {
   "cell_type": "code",
   "execution_count": 0,
   "metadata": {
    "application/vnd.databricks.v1+cell": {
     "cellMetadata": {
      "byteLimit": 2048000,
      "rowLimit": 10000
     },
     "inputWidgets": {},
     "nuid": "34865df4-e147-4acf-ae37-a854be3d8a3f",
     "showTitle": false,
     "title": ""
    }
   },
   "outputs": [
    {
     "name": "stdout",
     "output_type": "stream",
     "text": [
      "[LibSVM]"
     ]
    },
    {
     "data": {
      "text/plain": [
       "[418.3552645041692, 0.3693737707530278, 0.08598870442741224]"
      ]
     },
     "execution_count": 6,
     "metadata": {},
     "output_type": "execute_result"
    }
   ],
   "source": [
    "svreg = SVR(verbose=True)\n",
    "\n",
    "rmse, mape, r2 = pipeline(svreg, X_train, X_test, y_train, y_test)\n",
    "\n",
    "model_scores[\"SVR\"] = [rmse, mape, r2]\n",
    "model_scores[\"SVR\"]"
   ]
  },
  {
   "cell_type": "markdown",
   "metadata": {
    "application/vnd.databricks.v1+cell": {
     "cellMetadata": {
      "byteLimit": 2048000,
      "rowLimit": 10000
     },
     "inputWidgets": {},
     "nuid": "d9478bfe-0c9d-4717-b373-5320a0515e1f",
     "showTitle": false,
     "title": ""
    }
   },
   "source": [
    "## KNN"
   ]
  },
  {
   "cell_type": "code",
   "execution_count": 0,
   "metadata": {
    "application/vnd.databricks.v1+cell": {
     "cellMetadata": {
      "byteLimit": 2048000,
      "rowLimit": 10000
     },
     "inputWidgets": {},
     "nuid": "8c755eb8-7c22-4b6b-a7fc-0efb179d4b6c",
     "showTitle": false,
     "title": ""
    }
   },
   "outputs": [
    {
     "data": {
      "text/plain": [
       "[382.1247399522417, 0.3314606903673276, 0.2374446043570424]"
      ]
     },
     "execution_count": 7,
     "metadata": {},
     "output_type": "execute_result"
    }
   ],
   "source": [
    "knn = KNeighborsRegressor(n_neighbors=20)\n",
    "\n",
    "rmse, mape, r2 = pipeline(knn, X_train, X_test, y_train, y_test)\n",
    "\n",
    "model_scores[\"KNN\"] = [rmse, mape, r2]\n",
    "model_scores[\"KNN\"]"
   ]
  },
  {
   "cell_type": "markdown",
   "metadata": {
    "application/vnd.databricks.v1+cell": {
     "cellMetadata": {
      "byteLimit": 2048000,
      "rowLimit": 10000
     },
     "inputWidgets": {},
     "nuid": "53efb2ab-1123-40c9-bdef-0f8e69a4c2b3",
     "showTitle": false,
     "title": ""
    }
   },
   "source": [
    "## Decision Tree"
   ]
  },
  {
   "cell_type": "code",
   "execution_count": 0,
   "metadata": {
    "application/vnd.databricks.v1+cell": {
     "cellMetadata": {
      "byteLimit": 2048000,
      "rowLimit": 10000
     },
     "inputWidgets": {},
     "nuid": "3331d4a3-ef28-4042-af61-68dbc4d44dc1",
     "showTitle": false,
     "title": ""
    }
   },
   "outputs": [
    {
     "data": {
      "text/plain": [
       "[378.4636690156029, 0.32426895474289674, 0.2519864299788679]"
      ]
     },
     "execution_count": 8,
     "metadata": {},
     "output_type": "execute_result"
    }
   ],
   "source": [
    "tree = DecisionTreeRegressor()\n",
    "\n",
    "rmse, mape, r2 = pipeline(tree, X_train, X_test, y_train, y_test)\n",
    "\n",
    "model_scores[\"DecisionTree\"] = [rmse, mape, r2]\n",
    "model_scores[\"DecisionTree\"]"
   ]
  },
  {
   "cell_type": "code",
   "execution_count": 0,
   "metadata": {
    "application/vnd.databricks.v1+cell": {
     "cellMetadata": {
      "byteLimit": 2048000,
      "rowLimit": 10000
     },
     "inputWidgets": {},
     "nuid": "d8f7aeb0-d3e3-4fd0-81b0-f094d4a5a1fc",
     "showTitle": false,
     "title": ""
    }
   },
   "outputs": [
    {
     "data": {
      "image/png": "[encoded data removed]",
      "text/plain": [
       "<Figure size 900x750 with 1 Axes>"
      ]
     },
     "metadata": {},
     "output_type": "display_data"
    }
   ],
   "source": [
    "importances = pd.Series({i:j for i,j in zip(X.columns, tree.feature_importances_)}).sort_values()\n",
    "\n",
    "fig, ax = plt.subplots(figsize=(6,5), dpi=150)\n",
    "ax.set_facecolor(\"#f1f1f2\")\n",
    "\n",
    "plt.barh(importances.index, importances.values, color=\"#1995ad\")\n",
    "plt.title(\"Feature Importances of Random Forest\")\n",
    "plt.xlabel(\"Feature Importance\");"
   ]
  },
  {
   "cell_type": "markdown",
   "metadata": {
    "application/vnd.databricks.v1+cell": {
     "cellMetadata": {
      "byteLimit": 2048000,
      "rowLimit": 10000
     },
     "inputWidgets": {},
     "nuid": "d2f9bb8f-7c59-449d-b772-92447547004f",
     "showTitle": false,
     "title": ""
    }
   },
   "source": [
    "## RandomForest"
   ]
  },
  {
   "cell_type": "code",
   "execution_count": 0,
   "metadata": {
    "application/vnd.databricks.v1+cell": {
     "cellMetadata": {
      "byteLimit": 2048000,
      "rowLimit": 10000
     },
     "inputWidgets": {},
     "nuid": "836bb07e-b81f-4b24-8b83-ea69dd3717c7",
     "showTitle": false,
     "title": ""
    },
    "scrolled": true
   },
   "outputs": [
    {
     "name": "stderr",
     "output_type": "stream",
     "text": [
      "[Parallel(n_jobs=1)]: Using backend SequentialBackend with 1 concurrent workers.\n",
      "[Parallel(n_jobs=1)]: Done  50 out of  50 | elapsed:    4.7s finished\n",
      "[Parallel(n_jobs=1)]: Using backend SequentialBackend with 1 concurrent workers.\n",
      "[Parallel(n_jobs=1)]: Done  50 out of  50 | elapsed:    1.2s finished\n",
      "[Parallel(n_jobs=1)]: Using backend SequentialBackend with 1 concurrent workers.\n",
      "[Parallel(n_jobs=1)]: Done  50 out of  50 | elapsed:    1.2s finished\n",
      "[Parallel(n_jobs=1)]: Using backend SequentialBackend with 1 concurrent workers.\n",
      "[Parallel(n_jobs=1)]: Done  50 out of  50 | elapsed:    0.0s finished\n",
      "[Parallel(n_jobs=1)]: Using backend SequentialBackend with 1 concurrent workers.\n",
      "[Parallel(n_jobs=1)]: Done  50 out of  50 | elapsed:    0.3s finished\n"
     ]
    },
    {
     "data": {
      "text/plain": [
       "[374.5950580941685, 0.32346957739547344, 0.2672004851010914]"
      ]
     },
     "execution_count": 10,
     "metadata": {},
     "output_type": "execute_result"
    }
   ],
   "source": [
    "rf = RandomForestRegressor(n_estimators=50, verbose=1)\n",
    "\n",
    "rmse, mape, r2 = pipeline(rf, X_train, X_test, y_train, y_test)\n",
    "\n",
    "model_scores[\"RandomForest\"] = [rmse, mape, r2]\n",
    "model_scores[\"RandomForest\"]"
   ]
  },
  {
   "cell_type": "code",
   "execution_count": 0,
   "metadata": {
    "application/vnd.databricks.v1+cell": {
     "cellMetadata": {
      "byteLimit": 2048000,
      "rowLimit": 10000
     },
     "inputWidgets": {},
     "nuid": "48796a3e-c4da-4007-9d60-94d0699612de",
     "showTitle": false,
     "title": ""
    }
   },
   "outputs": [
    {
     "data": {
      "image/png": "[encoded data removed]",
      "text/plain": [
       "<Figure size 900x750 with 1 Axes>"
      ]
     },
     "metadata": {},
     "output_type": "display_data"
    }
   ],
   "source": [
    "importances = pd.Series({i:j for i,j in zip(X.columns, rf.feature_importances_)}).sort_values()\n",
    "\n",
    "fig, ax = plt.subplots(figsize=(6,5), dpi=150)\n",
    "ax.set_facecolor(\"#f1f1f2\")\n",
    "\n",
    "plt.barh(importances.index, importances.values, color=\"#1995ad\")\n",
    "plt.title(\"Feature Importances of Random Forest\")\n",
    "plt.xlabel(\"Feature Importance\");"
   ]
  },
  {
   "cell_type": "markdown",
   "metadata": {
    "application/vnd.databricks.v1+cell": {
     "cellMetadata": {
      "byteLimit": 2048000,
      "rowLimit": 10000
     },
     "inputWidgets": {},
     "nuid": "911b8514-1620-41eb-b85c-3ca3c2513df2",
     "showTitle": false,
     "title": ""
    }
   },
   "source": [
    "## AdaBoost"
   ]
  },
  {
   "cell_type": "code",
   "execution_count": 0,
   "metadata": {
    "application/vnd.databricks.v1+cell": {
     "cellMetadata": {
      "byteLimit": 2048000,
      "rowLimit": 10000
     },
     "inputWidgets": {},
     "nuid": "a4e078ae-b139-4cc4-af73-cfe609b0a319",
     "showTitle": false,
     "title": ""
    }
   },
   "outputs": [
    {
     "data": {
      "text/plain": [
       "[414.6420459176331, 0.3991083099284287, 0.10214177910310185]"
      ]
     },
     "execution_count": 12,
     "metadata": {},
     "output_type": "execute_result"
    }
   ],
   "source": [
    "ada = AdaBoostRegressor(learning_rate=0.01)\n",
    "\n",
    "rmse, mape, r2 = pipeline(ada, X_train, X_test, y_train, y_test)\n",
    "\n",
    "model_scores[\"AdaBoost\"] = [rmse, mape, r2]\n",
    "model_scores[\"AdaBoost\"]"
   ]
  },
  {
   "cell_type": "code",
   "execution_count": 0,
   "metadata": {
    "application/vnd.databricks.v1+cell": {
     "cellMetadata": {
      "byteLimit": 2048000,
      "rowLimit": 10000
     },
     "inputWidgets": {},
     "nuid": "1669b255-1107-4e6c-832a-56aea26c600e",
     "showTitle": false,
     "title": ""
    }
   },
   "outputs": [
    {
     "data": {
      "image/png": "[encoded data removed]",
      "text/plain": [
       "<Figure size 900x750 with 1 Axes>"
      ]
     },
     "metadata": {},
     "output_type": "display_data"
    }
   ],
   "source": [
    "importances = pd.Series({i:j for i,j in zip(X.columns, ada.feature_importances_)}).sort_values()\n",
    "\n",
    "fig, ax = plt.subplots(figsize=(6,5), dpi=150)\n",
    "ax.set_facecolor(\"#f1f1f2\")\n",
    "\n",
    "plt.barh(importances.index, importances.values, color=\"#1995ad\")\n",
    "plt.title(\"Feature Importances of AdaBoost\")\n",
    "plt.xlabel(\"Feature Importance\");"
   ]
  },
  {
   "cell_type": "markdown",
   "metadata": {
    "application/vnd.databricks.v1+cell": {
     "cellMetadata": {
      "byteLimit": 2048000,
      "rowLimit": 10000
     },
     "inputWidgets": {},
     "nuid": "3fde5813-d251-4271-988a-9e7446605881",
     "showTitle": false,
     "title": ""
    }
   },
   "source": [
    "## XGBoost"
   ]
  },
  {
   "cell_type": "code",
   "execution_count": 0,
   "metadata": {
    "application/vnd.databricks.v1+cell": {
     "cellMetadata": {
      "byteLimit": 2048000,
      "rowLimit": 10000
     },
     "inputWidgets": {},
     "nuid": "80a978fb-53ab-4ca3-84a5-bfabbc2a6359",
     "showTitle": false,
     "title": ""
    }
   },
   "outputs": [
    {
     "data": {
      "text/plain": [
       "[378.9765997332536, 0.33952784559890004, 0.24995749474238704]"
      ]
     },
     "execution_count": 14,
     "metadata": {},
     "output_type": "execute_result"
    }
   ],
   "source": [
    "xgb = XGBRegressor(n_estimators=200, learning_rate=0.2)\n",
    "\n",
    "rmse, mape, r2 = pipeline(xgb, X_train, X_test, y_train, y_test)\n",
    "\n",
    "model_scores[\"XGBoost\"] = [rmse, mape, r2]\n",
    "model_scores[\"XGBoost\"]"
   ]
  },
  {
   "cell_type": "code",
   "execution_count": 0,
   "metadata": {
    "application/vnd.databricks.v1+cell": {
     "cellMetadata": {
      "byteLimit": 2048000,
      "rowLimit": 10000
     },
     "inputWidgets": {},
     "nuid": "f161f3c2-981b-4488-931e-df09e97a5c96",
     "showTitle": false,
     "title": ""
    }
   },
   "outputs": [
    {
     "data": {
      "image/png": "[encoded data removed]",
      "text/plain": [
       "<Figure size 900x750 with 1 Axes>"
      ]
     },
     "metadata": {},
     "output_type": "display_data"
    }
   ],
   "source": [
    "importances = pd.Series({i:j for i,j in zip(X.columns, xgb.feature_importances_)}).sort_values()\n",
    "\n",
    "fig, ax = plt.subplots(figsize=(6,5), dpi=150)\n",
    "ax.set_facecolor(\"#f1f1f2\")\n",
    "\n",
    "plt.barh(importances.index, importances.values, color=\"#1995ad\")\n",
    "plt.title(\"Feature Importances of XGBoost\")\n",
    "plt.xlabel(\"Feature Importance\");"
   ]
  },
  {
   "cell_type": "markdown",
   "metadata": {
    "application/vnd.databricks.v1+cell": {
     "cellMetadata": {
      "byteLimit": 2048000,
      "rowLimit": 10000
     },
     "inputWidgets": {},
     "nuid": "9398cff9-cb2e-455e-9674-547febebdbbd",
     "showTitle": false,
     "title": ""
    }
   },
   "source": [
    "---"
   ]
  },
  {
   "cell_type": "code",
   "execution_count": 0,
   "metadata": {
    "application/vnd.databricks.v1+cell": {
     "cellMetadata": {
      "byteLimit": 2048000,
      "rowLimit": 10000
     },
     "inputWidgets": {},
     "nuid": "1325aa98-0e92-41b9-a044-828e6b379510",
     "showTitle": false,
     "title": ""
    }
   },
   "outputs": [
    {
     "data": {
      "text/html": [
       "<div>\n",
       "<style scoped>\n",
       "    .dataframe tbody tr th:only-of-type {\n",
       "        vertical-align: middle;\n",
       "    }\n",
       "\n",
       "    .dataframe tbody tr th {\n",
       "        vertical-align: top;\n",
       "    }\n",
       "\n",
       "    .dataframe thead th {\n",
       "        text-align: right;\n",
       "    }\n",
       "</style>\n",
       "<table border=\"1\" class=\"dataframe\">\n",
       "  <thead>\n",
       "    <tr style=\"text-align: right;\">\n",
       "      <th></th>\n",
       "      <th>RMSE</th>\n",
       "      <th>MAPE</th>\n",
       "      <th>R2</th>\n",
       "    </tr>\n",
       "  </thead>\n",
       "  <tbody>\n",
       "    <tr>\n",
       "      <th>ElasticNet</th>\n",
       "      <td>412.454331</td>\n",
       "      <td>0.406715</td>\n",
       "      <td>0.111591</td>\n",
       "    </tr>\n",
       "    <tr>\n",
       "      <th>SVR</th>\n",
       "      <td>418.355265</td>\n",
       "      <td>0.369374</td>\n",
       "      <td>0.085989</td>\n",
       "    </tr>\n",
       "    <tr>\n",
       "      <th>KNN</th>\n",
       "      <td>382.124740</td>\n",
       "      <td>0.331461</td>\n",
       "      <td>0.237445</td>\n",
       "    </tr>\n",
       "    <tr>\n",
       "      <th>DecisionTree</th>\n",
       "      <td>378.463669</td>\n",
       "      <td>0.324269</td>\n",
       "      <td>0.251986</td>\n",
       "    </tr>\n",
       "    <tr>\n",
       "      <th>RandomForest</th>\n",
       "      <td>374.595058</td>\n",
       "      <td>0.323470</td>\n",
       "      <td>0.267200</td>\n",
       "    </tr>\n",
       "    <tr>\n",
       "      <th>AdaBoost</th>\n",
       "      <td>414.642046</td>\n",
       "      <td>0.399108</td>\n",
       "      <td>0.102142</td>\n",
       "    </tr>\n",
       "    <tr>\n",
       "      <th>XGBoost</th>\n",
       "      <td>378.976600</td>\n",
       "      <td>0.339528</td>\n",
       "      <td>0.249957</td>\n",
       "    </tr>\n",
       "  </tbody>\n",
       "</table>\n",
       "</div>"
      ],
      "text/plain": [
       "                    RMSE      MAPE        R2\n",
       "ElasticNet    412.454331  0.406715  0.111591\n",
       "SVR           418.355265  0.369374  0.085989\n",
       "KNN           382.124740  0.331461  0.237445\n",
       "DecisionTree  378.463669  0.324269  0.251986\n",
       "RandomForest  374.595058  0.323470  0.267200\n",
       "AdaBoost      414.642046  0.399108  0.102142\n",
       "XGBoost       378.976600  0.339528  0.249957"
      ]
     },
     "execution_count": 16,
     "metadata": {},
     "output_type": "execute_result"
    }
   ],
   "source": [
    "results = pd.DataFrame(model_scores, index=[\"RMSE\", \"MAPE\", \"R2\"]).T\n",
    "results"
   ]
  }
 ],
 "metadata": {
  "application/vnd.databricks.v1+notebook": {
   "dashboards": [],
   "language": "python",
   "notebookMetadata": {
    "pythonIndentUnit": 4
   },
   "notebookName": "05-hybrid_approach",
   "widgets": {}
  },
  "kernelspec": {
   "display_name": "Python 3 (ipykernel)",
   "language": "python",
   "name": "python3"
  },
  "language_info": {
   "codemirror_mode": {
    "name": "ipython",
    "version": 3
   },
   "file_extension": ".py",
   "mimetype": "text/x-python",
   "name": "python",
   "nbconvert_exporter": "python",
   "pygments_lexer": "ipython3",
   "version": "3.9.7"
  }
 },
 "nbformat": 4,
 "nbformat_minor": 1
}
